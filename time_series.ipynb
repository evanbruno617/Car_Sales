{
 "cells": [
  {
   "cell_type": "code",
   "execution_count": 82,
   "id": "504a1877",
   "metadata": {},
   "outputs": [],
   "source": [
    "\n",
    "import pandas as pd\n",
    "import matplotlib.pyplot as plt\n",
    "from sklearn.linear_model import LinearRegression\n",
    "import os\n",
    "from sklearn.metrics import r2_score\n",
    "import statistics as stat\n",
    "from sklearn.preprocessing import StandardScaler\n",
    "data_scaler = StandardScaler()\n",
    "from matplotlib.pyplot import subplots\n",
    "import pandas as pd\n",
    "import statsmodels.formula.api as smf \n",
    "from matplotlib import pyplot as plt\n",
    "import numpy as np\n",
    "import statsmodels.api as sm\n",
    "from statsmodels.sandbox.regression.gmm import IV2SLS\n",
    "import math\n",
    "import statsmodels.api as smf_non"
   ]
  },
  {
   "cell_type": "code",
   "execution_count": 2,
   "id": "27434ca6",
   "metadata": {},
   "outputs": [],
   "source": [
    "convert = {'JAN': 1,\n",
    "          'FEB': 2,\n",
    "          'MAR': 3,\n",
    "          'APR': 4, \n",
    "          'MAY': 5,\n",
    "          'JUN': 6,\n",
    "          'JUL': 7,\n",
    "          'AUG': 8,\n",
    "          'SEP': 9,\n",
    "          'OCT': 10,\n",
    "          'NOV': 11,\n",
    "          'DEC': 12} "
   ]
  },
  {
   "cell_type": "code",
   "execution_count": 3,
   "id": "c5ca7c07",
   "metadata": {},
   "outputs": [],
   "source": [
    "sales = pd.read_csv(\"Car_sales.csv\")\n",
    "\n",
    "items = sales.columns.tolist()[5:-2]\n",
    "\n",
    "items.append('Ratio_Used_New_Sales_Change')\n",
    "\n",
    "items.remove( 'Avg_Used_Previous')\n",
    "\n",
    "items.remove('Avg_New_Previous')\n",
    "\n",
    "#items.remove('Ratio_Used_New_prev')"
   ]
  },
  {
   "cell_type": "code",
   "execution_count": 4,
   "id": "ba732b5f",
   "metadata": {},
   "outputs": [
    {
     "data": {
      "text/plain": [
       "['Total Sales New',\n",
       " 'Total Sales Used',\n",
       " 'Avg_Used',\n",
       " 'Avg_New',\n",
       " 'Change_Car_Sales_Used',\n",
       " 'Change_Car_Sales_New',\n",
       " 'Ratio_Used_New_Sales_Change']"
      ]
     },
     "execution_count": 4,
     "metadata": {},
     "output_type": "execute_result"
    }
   ],
   "source": [
    "items"
   ]
  },
  {
   "cell_type": "markdown",
   "id": "a44bb92e",
   "metadata": {},
   "source": [
    "# Multinomial"
   ]
  },
  {
   "cell_type": "code",
   "execution_count": 6,
   "id": "72f7d8d8",
   "metadata": {},
   "outputs": [],
   "source": [
    "# econ_data = ['MYAGM2USM052S', 'MEDCPIM158SFRBCLE', 'UNRATE', 'REAINTRATREARAT10Y', 'CORESTICKM159SFRBATL']\n",
    "\n",
    "econ_data = ['MYAGM2USM052S_Prev', 'MEDCPIM158SFRBCLE_Prev', 'UNRATE_Prev', 'REAINTRATREARAT10Y_Prev', 'CORESTICKM159SFRBATL_Prev']\n",
    "\n",
    "\n",
    "\n",
    "\n",
    "\n",
    "\n"
   ]
  },
  {
   "cell_type": "code",
   "execution_count": 7,
   "id": "25f7dba4",
   "metadata": {},
   "outputs": [],
   "source": [
    "from itertools import combinations"
   ]
  },
  {
   "cell_type": "code",
   "execution_count": 8,
   "id": "82492b15",
   "metadata": {},
   "outputs": [],
   "source": [
    "combos = list(combinations(econ_data, 3))"
   ]
  },
  {
   "cell_type": "code",
   "execution_count": 9,
   "id": "51a40234",
   "metadata": {},
   "outputs": [
    {
     "name": "stdout",
     "output_type": "stream",
     "text": [
      "['MYAGM2USM052S_Prev', 'MEDCPIM158SFRBCLE_Prev', 'UNRATE_Prev']\n",
      "['MYAGM2USM052S_Prev', 'MEDCPIM158SFRBCLE_Prev', 'REAINTRATREARAT10Y_Prev']\n",
      "['MYAGM2USM052S_Prev', 'MEDCPIM158SFRBCLE_Prev', 'CORESTICKM159SFRBATL_Prev']\n",
      "['MYAGM2USM052S_Prev', 'UNRATE_Prev', 'REAINTRATREARAT10Y_Prev']\n",
      "['MYAGM2USM052S_Prev', 'UNRATE_Prev', 'CORESTICKM159SFRBATL_Prev']\n",
      "['MYAGM2USM052S_Prev', 'REAINTRATREARAT10Y_Prev', 'CORESTICKM159SFRBATL_Prev']\n",
      "['MEDCPIM158SFRBCLE_Prev', 'UNRATE_Prev', 'REAINTRATREARAT10Y_Prev']\n",
      "['MEDCPIM158SFRBCLE_Prev', 'UNRATE_Prev', 'CORESTICKM159SFRBATL_Prev']\n",
      "['MEDCPIM158SFRBCLE_Prev', 'REAINTRATREARAT10Y_Prev', 'CORESTICKM159SFRBATL_Prev']\n",
      "['UNRATE_Prev', 'REAINTRATREARAT10Y_Prev', 'CORESTICKM159SFRBATL_Prev']\n"
     ]
    }
   ],
   "source": [
    "for combo in combos:\n",
    "    print(list(combo))"
   ]
  },
  {
   "cell_type": "code",
   "execution_count": 10,
   "id": "e3813ebe",
   "metadata": {},
   "outputs": [
    {
     "data": {
      "text/html": [
       "<div>\n",
       "<style scoped>\n",
       "    .dataframe tbody tr th:only-of-type {\n",
       "        vertical-align: middle;\n",
       "    }\n",
       "\n",
       "    .dataframe tbody tr th {\n",
       "        vertical-align: top;\n",
       "    }\n",
       "\n",
       "    .dataframe thead th {\n",
       "        text-align: right;\n",
       "    }\n",
       "</style>\n",
       "<table border=\"1\" class=\"dataframe\">\n",
       "  <thead>\n",
       "    <tr style=\"text-align: right;\">\n",
       "      <th></th>\n",
       "      <th>Unnamed: 0</th>\n",
       "      <th>Year</th>\n",
       "      <th>Month</th>\n",
       "      <th>New</th>\n",
       "      <th>Used</th>\n",
       "      <th>Total Sales New</th>\n",
       "      <th>Total Sales Used</th>\n",
       "      <th>Avg_Used</th>\n",
       "      <th>Avg_New</th>\n",
       "      <th>Avg_Used_Previous</th>\n",
       "      <th>Avg_New_Previous</th>\n",
       "      <th>Change_Car_Sales_Used</th>\n",
       "      <th>Change_Car_Sales_New</th>\n",
       "      <th>Ratio_Used_New</th>\n",
       "      <th>Ratio_Used_New_Sales</th>\n",
       "    </tr>\n",
       "  </thead>\n",
       "  <tbody>\n",
       "    <tr>\n",
       "      <th>0</th>\n",
       "      <td>1</td>\n",
       "      <td>2002</td>\n",
       "      <td>FEB</td>\n",
       "      <td>27520</td>\n",
       "      <td>50982</td>\n",
       "      <td>664454223</td>\n",
       "      <td>361353242</td>\n",
       "      <td>7087.859284</td>\n",
       "      <td>24144.412173</td>\n",
       "      <td>7740.940353</td>\n",
       "      <td>24272.353244</td>\n",
       "      <td>-0.092141</td>\n",
       "      <td>-0.005299</td>\n",
       "      <td>1.852544</td>\n",
       "      <td>0.293561</td>\n",
       "    </tr>\n",
       "    <tr>\n",
       "      <th>1</th>\n",
       "      <td>2</td>\n",
       "      <td>2002</td>\n",
       "      <td>MAR</td>\n",
       "      <td>34225</td>\n",
       "      <td>58794</td>\n",
       "      <td>805666244</td>\n",
       "      <td>419385387</td>\n",
       "      <td>7133.132411</td>\n",
       "      <td>23540.284704</td>\n",
       "      <td>7087.859284</td>\n",
       "      <td>24144.412173</td>\n",
       "      <td>0.006347</td>\n",
       "      <td>-0.025664</td>\n",
       "      <td>1.717867</td>\n",
       "      <td>0.303018</td>\n",
       "    </tr>\n",
       "    <tr>\n",
       "      <th>2</th>\n",
       "      <td>3</td>\n",
       "      <td>2002</td>\n",
       "      <td>APR</td>\n",
       "      <td>36452</td>\n",
       "      <td>59817</td>\n",
       "      <td>846368297</td>\n",
       "      <td>433061150</td>\n",
       "      <td>7239.767123</td>\n",
       "      <td>23218.706710</td>\n",
       "      <td>7133.132411</td>\n",
       "      <td>23540.284704</td>\n",
       "      <td>0.014729</td>\n",
       "      <td>-0.013850</td>\n",
       "      <td>1.640980</td>\n",
       "      <td>0.311808</td>\n",
       "    </tr>\n",
       "    <tr>\n",
       "      <th>3</th>\n",
       "      <td>4</td>\n",
       "      <td>2002</td>\n",
       "      <td>MAY</td>\n",
       "      <td>37359</td>\n",
       "      <td>60577</td>\n",
       "      <td>855005784</td>\n",
       "      <td>442569410</td>\n",
       "      <td>7305.898443</td>\n",
       "      <td>22886.206376</td>\n",
       "      <td>7239.767123</td>\n",
       "      <td>23218.706710</td>\n",
       "      <td>0.009052</td>\n",
       "      <td>-0.014528</td>\n",
       "      <td>1.621483</td>\n",
       "      <td>0.319227</td>\n",
       "    </tr>\n",
       "    <tr>\n",
       "      <th>4</th>\n",
       "      <td>5</td>\n",
       "      <td>2002</td>\n",
       "      <td>JUN</td>\n",
       "      <td>36348</td>\n",
       "      <td>55415</td>\n",
       "      <td>830251613</td>\n",
       "      <td>414731166</td>\n",
       "      <td>7484.095750</td>\n",
       "      <td>22841.741306</td>\n",
       "      <td>7305.898443</td>\n",
       "      <td>22886.206376</td>\n",
       "      <td>0.023810</td>\n",
       "      <td>-0.001947</td>\n",
       "      <td>1.524568</td>\n",
       "      <td>0.327650</td>\n",
       "    </tr>\n",
       "    <tr>\n",
       "      <th>...</th>\n",
       "      <td>...</td>\n",
       "      <td>...</td>\n",
       "      <td>...</td>\n",
       "      <td>...</td>\n",
       "      <td>...</td>\n",
       "      <td>...</td>\n",
       "      <td>...</td>\n",
       "      <td>...</td>\n",
       "      <td>...</td>\n",
       "      <td>...</td>\n",
       "      <td>...</td>\n",
       "      <td>...</td>\n",
       "      <td>...</td>\n",
       "      <td>...</td>\n",
       "      <td>...</td>\n",
       "    </tr>\n",
       "    <tr>\n",
       "      <th>248</th>\n",
       "      <td>249</td>\n",
       "      <td>2022</td>\n",
       "      <td>OCT</td>\n",
       "      <td>22255</td>\n",
       "      <td>47325</td>\n",
       "      <td>1060091844</td>\n",
       "      <td>804805365</td>\n",
       "      <td>17005.924247</td>\n",
       "      <td>47633.873017</td>\n",
       "      <td>17366.504576</td>\n",
       "      <td>47788.648533</td>\n",
       "      <td>-0.021203</td>\n",
       "      <td>-0.003249</td>\n",
       "      <td>2.126488</td>\n",
       "      <td>0.357013</td>\n",
       "    </tr>\n",
       "    <tr>\n",
       "      <th>249</th>\n",
       "      <td>250</td>\n",
       "      <td>2022</td>\n",
       "      <td>NOV</td>\n",
       "      <td>21117</td>\n",
       "      <td>43345</td>\n",
       "      <td>993531237</td>\n",
       "      <td>734729853</td>\n",
       "      <td>16950.740639</td>\n",
       "      <td>47048.881801</td>\n",
       "      <td>17005.924247</td>\n",
       "      <td>47633.873017</td>\n",
       "      <td>-0.003256</td>\n",
       "      <td>-0.012434</td>\n",
       "      <td>2.052612</td>\n",
       "      <td>0.360279</td>\n",
       "    </tr>\n",
       "    <tr>\n",
       "      <th>250</th>\n",
       "      <td>251</td>\n",
       "      <td>2022</td>\n",
       "      <td>DEC</td>\n",
       "      <td>23025</td>\n",
       "      <td>40906</td>\n",
       "      <td>1120587035</td>\n",
       "      <td>718545405</td>\n",
       "      <td>17565.770425</td>\n",
       "      <td>48668.275136</td>\n",
       "      <td>16950.740639</td>\n",
       "      <td>47048.881801</td>\n",
       "      <td>0.035013</td>\n",
       "      <td>0.033274</td>\n",
       "      <td>1.776591</td>\n",
       "      <td>0.360929</td>\n",
       "    </tr>\n",
       "    <tr>\n",
       "      <th>251</th>\n",
       "      <td>252</td>\n",
       "      <td>2023</td>\n",
       "      <td>JAN</td>\n",
       "      <td>21037</td>\n",
       "      <td>45543</td>\n",
       "      <td>992034915</td>\n",
       "      <td>762502754</td>\n",
       "      <td>16742.479722</td>\n",
       "      <td>47156.672292</td>\n",
       "      <td>17565.770425</td>\n",
       "      <td>48668.275136</td>\n",
       "      <td>-0.049174</td>\n",
       "      <td>-0.032055</td>\n",
       "      <td>2.164900</td>\n",
       "      <td>0.355039</td>\n",
       "    </tr>\n",
       "    <tr>\n",
       "      <th>252</th>\n",
       "      <td>253</td>\n",
       "      <td>2023</td>\n",
       "      <td>FEB</td>\n",
       "      <td>20893</td>\n",
       "      <td>44320</td>\n",
       "      <td>960384917</td>\n",
       "      <td>712901541</td>\n",
       "      <td>16085.323579</td>\n",
       "      <td>45966.827023</td>\n",
       "      <td>16742.479722</td>\n",
       "      <td>47156.672292</td>\n",
       "      <td>-0.040854</td>\n",
       "      <td>-0.025885</td>\n",
       "      <td>2.121285</td>\n",
       "      <td>0.349933</td>\n",
       "    </tr>\n",
       "  </tbody>\n",
       "</table>\n",
       "<p>253 rows × 15 columns</p>\n",
       "</div>"
      ],
      "text/plain": [
       "     Unnamed: 0  Year  Month     New   Used  Total Sales New  \\\n",
       "0             1   2002    FEB  27520  50982        664454223   \n",
       "1             2   2002    MAR  34225  58794        805666244   \n",
       "2             3   2002    APR  36452  59817        846368297   \n",
       "3             4   2002    MAY  37359  60577        855005784   \n",
       "4             5   2002    JUN  36348  55415        830251613   \n",
       "..          ...    ...    ...    ...    ...              ...   \n",
       "248         249   2022    OCT  22255  47325       1060091844   \n",
       "249         250   2022    NOV  21117  43345        993531237   \n",
       "250         251   2022    DEC  23025  40906       1120587035   \n",
       "251         252   2023    JAN  21037  45543        992034915   \n",
       "252         253   2023    FEB  20893  44320        960384917   \n",
       "\n",
       "     Total Sales Used      Avg_Used       Avg_New  Avg_Used_Previous  \\\n",
       "0           361353242   7087.859284  24144.412173        7740.940353   \n",
       "1           419385387   7133.132411  23540.284704        7087.859284   \n",
       "2           433061150   7239.767123  23218.706710        7133.132411   \n",
       "3           442569410   7305.898443  22886.206376        7239.767123   \n",
       "4           414731166   7484.095750  22841.741306        7305.898443   \n",
       "..                ...           ...           ...                ...   \n",
       "248         804805365  17005.924247  47633.873017       17366.504576   \n",
       "249         734729853  16950.740639  47048.881801       17005.924247   \n",
       "250         718545405  17565.770425  48668.275136       16950.740639   \n",
       "251         762502754  16742.479722  47156.672292       17565.770425   \n",
       "252         712901541  16085.323579  45966.827023       16742.479722   \n",
       "\n",
       "     Avg_New_Previous  Change_Car_Sales_Used  Change_Car_Sales_New  \\\n",
       "0        24272.353244              -0.092141             -0.005299   \n",
       "1        24144.412173               0.006347             -0.025664   \n",
       "2        23540.284704               0.014729             -0.013850   \n",
       "3        23218.706710               0.009052             -0.014528   \n",
       "4        22886.206376               0.023810             -0.001947   \n",
       "..                ...                    ...                   ...   \n",
       "248      47788.648533              -0.021203             -0.003249   \n",
       "249      47633.873017              -0.003256             -0.012434   \n",
       "250      47048.881801               0.035013              0.033274   \n",
       "251      48668.275136              -0.049174             -0.032055   \n",
       "252      47156.672292              -0.040854             -0.025885   \n",
       "\n",
       "     Ratio_Used_New  Ratio_Used_New_Sales  \n",
       "0          1.852544              0.293561  \n",
       "1          1.717867              0.303018  \n",
       "2          1.640980              0.311808  \n",
       "3          1.621483              0.319227  \n",
       "4          1.524568              0.327650  \n",
       "..              ...                   ...  \n",
       "248        2.126488              0.357013  \n",
       "249        2.052612              0.360279  \n",
       "250        1.776591              0.360929  \n",
       "251        2.164900              0.355039  \n",
       "252        2.121285              0.349933  \n",
       "\n",
       "[253 rows x 15 columns]"
      ]
     },
     "execution_count": 10,
     "metadata": {},
     "output_type": "execute_result"
    }
   ],
   "source": [
    "sales"
   ]
  },
  {
   "cell_type": "code",
   "execution_count": 11,
   "id": "a9e00b70",
   "metadata": {},
   "outputs": [],
   "source": [
    "sales['Num_Month'] = sales['Month '].apply(lambda x: convert[x])\n",
    "\n",
    "sales['DATE'] = sales.apply(lambda row: f\"{row['Year ']}-{row['Num_Month']}-01\", axis=1)"
   ]
  },
  {
   "cell_type": "code",
   "execution_count": 12,
   "id": "8949cd43",
   "metadata": {},
   "outputs": [
    {
     "name": "stderr",
     "output_type": "stream",
     "text": [
      "/var/folders/g3/164q6cz52jv0sjllnsg7jdsm0000gn/T/ipykernel_2973/3078440734.py:8: FutureWarning: Passing 'suffixes' which cause duplicate columns {'Unnamed: 0_y'} in the result is deprecated and will raise a MergeError in a future version.\n",
      "  final_df = pd.merge(econ_df, final_df, on='DATE')\n",
      "/var/folders/g3/164q6cz52jv0sjllnsg7jdsm0000gn/T/ipykernel_2973/3078440734.py:8: FutureWarning: Passing 'suffixes' which cause duplicate columns {'Ten_Change_y', 'Datetime_y'} in the result is deprecated and will raise a MergeError in a future version.\n",
      "  final_df = pd.merge(econ_df, final_df, on='DATE')\n",
      "/var/folders/g3/164q6cz52jv0sjllnsg7jdsm0000gn/T/ipykernel_2973/3078440734.py:8: FutureWarning: Passing 'suffixes' which cause duplicate columns {'Unnamed: 0_y'} in the result is deprecated and will raise a MergeError in a future version.\n",
      "  final_df = pd.merge(econ_df, final_df, on='DATE')\n"
     ]
    }
   ],
   "source": [
    "econ_data = ['MYAGM2USM052S', 'MEDCPIM158SFRBCLE', 'UNRATE', 'Ten_Year', 'CORESTICKM159SFRBATL']\n",
    "\n",
    "final_df = sales\n",
    "for econ in econ_data:\n",
    "    \n",
    "    econ_df = pd.read_csv(f'{econ}.csv')\n",
    "    \n",
    "    final_df = pd.merge(econ_df, final_df, on='DATE')\n",
    "    "
   ]
  },
  {
   "cell_type": "code",
   "execution_count": 13,
   "id": "36267e7d",
   "metadata": {},
   "outputs": [
    {
     "data": {
      "text/plain": [
       "['Unnamed: 0_x',\n",
       " 'DATE',\n",
       " 'CORESTICKM159SFRBATL',\n",
       " 'Datetime',\n",
       " 'CORESTICKM159SFRBATL_Prev',\n",
       " 'Ten_Change',\n",
       " 'Unnamed: 0_y',\n",
       " 'REAINTRATREARAT10Y',\n",
       " 'Datetime_x',\n",
       " 'REAINTRATREARAT10Y_Prev',\n",
       " 'Ten_Change_x',\n",
       " 'Unnamed: 0_x',\n",
       " 'UNRATE',\n",
       " 'Datetime_y',\n",
       " 'UNRATE_Prev',\n",
       " 'Ten_Change_y',\n",
       " 'Unnamed: 0_y',\n",
       " 'MEDCPIM158SFRBCLE',\n",
       " 'Datetime_x',\n",
       " 'MEDCPIM158SFRBCLE_Prev',\n",
       " 'Ten_Change_x',\n",
       " 'Unnamed: 0_x',\n",
       " 'MYAGM2USM052S',\n",
       " 'Datetime_y',\n",
       " 'MYAGM2USM052S_Prev',\n",
       " 'Ten_Change_y',\n",
       " 'Unnamed: 0_y',\n",
       " 'Year ',\n",
       " 'Month ',\n",
       " 'New',\n",
       " 'Used',\n",
       " 'Total Sales New',\n",
       " 'Total Sales Used',\n",
       " 'Avg_Used',\n",
       " 'Avg_New',\n",
       " 'Avg_Used_Previous',\n",
       " 'Avg_New_Previous',\n",
       " 'Change_Car_Sales_Used',\n",
       " 'Change_Car_Sales_New',\n",
       " 'Ratio_Used_New',\n",
       " 'Ratio_Used_New_Sales',\n",
       " 'Num_Month']"
      ]
     },
     "execution_count": 13,
     "metadata": {},
     "output_type": "execute_result"
    }
   ],
   "source": [
    "final_df.columns.tolist()"
   ]
  },
  {
   "cell_type": "code",
   "execution_count": 14,
   "id": "b0dc4b3d",
   "metadata": {},
   "outputs": [
    {
     "data": {
      "text/html": [
       "<div>\n",
       "<style scoped>\n",
       "    .dataframe tbody tr th:only-of-type {\n",
       "        vertical-align: middle;\n",
       "    }\n",
       "\n",
       "    .dataframe tbody tr th {\n",
       "        vertical-align: top;\n",
       "    }\n",
       "\n",
       "    .dataframe thead th {\n",
       "        text-align: right;\n",
       "    }\n",
       "</style>\n",
       "<table border=\"1\" class=\"dataframe\">\n",
       "  <thead>\n",
       "    <tr style=\"text-align: right;\">\n",
       "      <th></th>\n",
       "      <th>CORESTICKM159SFRBATL_Prev</th>\n",
       "      <th>REAINTRATREARAT10Y_Prev</th>\n",
       "      <th>MEDCPIM158SFRBCLE_Prev</th>\n",
       "      <th>MYAGM2USM052S_Prev</th>\n",
       "      <th>UNRATE_Prev</th>\n",
       "      <th>Total Sales New</th>\n",
       "      <th>Total Sales Used</th>\n",
       "      <th>Avg_Used</th>\n",
       "      <th>Avg_New</th>\n",
       "      <th>Avg_Used_Previous</th>\n",
       "      <th>Avg_New_Previous</th>\n",
       "      <th>Change_Car_Sales_Used</th>\n",
       "      <th>Change_Car_Sales_New</th>\n",
       "      <th>Ratio_Used_New</th>\n",
       "      <th>Ratio_Used_New_Sales</th>\n",
       "    </tr>\n",
       "  </thead>\n",
       "  <tbody>\n",
       "    <tr>\n",
       "      <th>0</th>\n",
       "      <td>3.037465</td>\n",
       "      <td>1.446108</td>\n",
       "      <td>2.717798</td>\n",
       "      <td>5.654800e+12</td>\n",
       "      <td>5.7</td>\n",
       "      <td>865326154</td>\n",
       "      <td>456738532</td>\n",
       "      <td>7872.087763</td>\n",
       "      <td>24530.166515</td>\n",
       "      <td>7787.911508</td>\n",
       "      <td>23918.018495</td>\n",
       "      <td>0.010693</td>\n",
       "      <td>0.024955</td>\n",
       "      <td>1.644744</td>\n",
       "      <td>0.320915</td>\n",
       "    </tr>\n",
       "    <tr>\n",
       "      <th>1</th>\n",
       "      <td>2.947748</td>\n",
       "      <td>1.268696</td>\n",
       "      <td>2.313903</td>\n",
       "      <td>5.707400e+12</td>\n",
       "      <td>5.7</td>\n",
       "      <td>691740703</td>\n",
       "      <td>379196575</td>\n",
       "      <td>7728.296071</td>\n",
       "      <td>24872.022976</td>\n",
       "      <td>7872.087763</td>\n",
       "      <td>24530.166515</td>\n",
       "      <td>-0.018606</td>\n",
       "      <td>0.013745</td>\n",
       "      <td>1.764203</td>\n",
       "      <td>0.310722</td>\n",
       "    </tr>\n",
       "    <tr>\n",
       "      <th>2</th>\n",
       "      <td>2.834183</td>\n",
       "      <td>1.395587</td>\n",
       "      <td>1.910976</td>\n",
       "      <td>5.750700e+12</td>\n",
       "      <td>5.9</td>\n",
       "      <td>673208880</td>\n",
       "      <td>374453368</td>\n",
       "      <td>8818.759992</td>\n",
       "      <td>24939.204268</td>\n",
       "      <td>7728.296071</td>\n",
       "      <td>24872.022976</td>\n",
       "      <td>0.123653</td>\n",
       "      <td>0.002694</td>\n",
       "      <td>1.572979</td>\n",
       "      <td>0.353610</td>\n",
       "    </tr>\n",
       "    <tr>\n",
       "      <th>3</th>\n",
       "      <td>2.184248</td>\n",
       "      <td>1.897238</td>\n",
       "      <td>2.022265</td>\n",
       "      <td>6.072600e+12</td>\n",
       "      <td>6.1</td>\n",
       "      <td>980365678</td>\n",
       "      <td>470520906</td>\n",
       "      <td>7538.345419</td>\n",
       "      <td>25400.048657</td>\n",
       "      <td>7654.893272</td>\n",
       "      <td>25019.893906</td>\n",
       "      <td>-0.015461</td>\n",
       "      <td>0.014967</td>\n",
       "      <td>1.617146</td>\n",
       "      <td>0.296785</td>\n",
       "    </tr>\n",
       "    <tr>\n",
       "      <th>4</th>\n",
       "      <td>2.161113</td>\n",
       "      <td>1.380819</td>\n",
       "      <td>2.095867</td>\n",
       "      <td>6.059600e+12</td>\n",
       "      <td>6.0</td>\n",
       "      <td>779674957</td>\n",
       "      <td>385164663</td>\n",
       "      <td>7603.684987</td>\n",
       "      <td>25855.578080</td>\n",
       "      <td>7538.345419</td>\n",
       "      <td>25400.048657</td>\n",
       "      <td>0.008593</td>\n",
       "      <td>0.017618</td>\n",
       "      <td>1.679821</td>\n",
       "      <td>0.294083</td>\n",
       "    </tr>\n",
       "  </tbody>\n",
       "</table>\n",
       "</div>"
      ],
      "text/plain": [
       "   CORESTICKM159SFRBATL_Prev  REAINTRATREARAT10Y_Prev  MEDCPIM158SFRBCLE_Prev  \\\n",
       "0                   3.037465                 1.446108                2.717798   \n",
       "1                   2.947748                 1.268696                2.313903   \n",
       "2                   2.834183                 1.395587                1.910976   \n",
       "3                   2.184248                 1.897238                2.022265   \n",
       "4                   2.161113                 1.380819                2.095867   \n",
       "\n",
       "   MYAGM2USM052S_Prev  UNRATE_Prev  Total Sales New  Total Sales Used  \\\n",
       "0        5.654800e+12          5.7        865326154         456738532   \n",
       "1        5.707400e+12          5.7        691740703         379196575   \n",
       "2        5.750700e+12          5.9        673208880         374453368   \n",
       "3        6.072600e+12          6.1        980365678         470520906   \n",
       "4        6.059600e+12          6.0        779674957         385164663   \n",
       "\n",
       "      Avg_Used       Avg_New  Avg_Used_Previous  Avg_New_Previous  \\\n",
       "0  7872.087763  24530.166515        7787.911508      23918.018495   \n",
       "1  7728.296071  24872.022976        7872.087763      24530.166515   \n",
       "2  8818.759992  24939.204268        7728.296071      24872.022976   \n",
       "3  7538.345419  25400.048657        7654.893272      25019.893906   \n",
       "4  7603.684987  25855.578080        7538.345419      25400.048657   \n",
       "\n",
       "   Change_Car_Sales_Used  Change_Car_Sales_New  Ratio_Used_New  \\\n",
       "0               0.010693              0.024955        1.644744   \n",
       "1              -0.018606              0.013745        1.764203   \n",
       "2               0.123653              0.002694        1.572979   \n",
       "3              -0.015461              0.014967        1.617146   \n",
       "4               0.008593              0.017618        1.679821   \n",
       "\n",
       "   Ratio_Used_New_Sales  \n",
       "0              0.320915  \n",
       "1              0.310722  \n",
       "2              0.353610  \n",
       "3              0.296785  \n",
       "4              0.294083  "
      ]
     },
     "execution_count": 14,
     "metadata": {},
     "output_type": "execute_result"
    }
   ],
   "source": [
    "data_df = final_df[['CORESTICKM159SFRBATL_Prev', 'REAINTRATREARAT10Y_Prev', 'MEDCPIM158SFRBCLE_Prev', 'MYAGM2USM052S_Prev', 'UNRATE_Prev', 'Total Sales New',\n",
    " 'Total Sales Used',\n",
    " 'Avg_Used',\n",
    " 'Avg_New',\n",
    " 'Avg_Used_Previous',\n",
    " 'Avg_New_Previous',\n",
    " 'Change_Car_Sales_Used',\n",
    " 'Change_Car_Sales_New',\n",
    " 'Ratio_Used_New',\n",
    " 'Ratio_Used_New_Sales']]\n",
    "\n",
    "data_df.head()"
   ]
  },
  {
   "cell_type": "code",
   "execution_count": 15,
   "id": "40a88808",
   "metadata": {},
   "outputs": [
    {
     "data": {
      "text/html": [
       "<div>\n",
       "<style scoped>\n",
       "    .dataframe tbody tr th:only-of-type {\n",
       "        vertical-align: middle;\n",
       "    }\n",
       "\n",
       "    .dataframe tbody tr th {\n",
       "        vertical-align: top;\n",
       "    }\n",
       "\n",
       "    .dataframe thead th {\n",
       "        text-align: right;\n",
       "    }\n",
       "</style>\n",
       "<table border=\"1\" class=\"dataframe\">\n",
       "  <thead>\n",
       "    <tr style=\"text-align: right;\">\n",
       "      <th></th>\n",
       "      <th>CORESTICKM159SFRBATL_Prev</th>\n",
       "      <th>REAINTRATREARAT10Y_Prev</th>\n",
       "      <th>MEDCPIM158SFRBCLE_Prev</th>\n",
       "      <th>MYAGM2USM052S_Prev</th>\n",
       "      <th>UNRATE_Prev</th>\n",
       "      <th>Total_Sales_New</th>\n",
       "      <th>Total_Sales_Used</th>\n",
       "      <th>Avg_Used</th>\n",
       "      <th>Avg_New</th>\n",
       "      <th>Avg_Used_Previous</th>\n",
       "      <th>Avg_New_Previous</th>\n",
       "      <th>Change_Car_Sales_Used</th>\n",
       "      <th>Change_Car_Sales_New</th>\n",
       "      <th>Ratio_Used_New</th>\n",
       "      <th>Ratio_Used_New_Sales</th>\n",
       "    </tr>\n",
       "  </thead>\n",
       "  <tbody>\n",
       "    <tr>\n",
       "      <th>0</th>\n",
       "      <td>3.037465</td>\n",
       "      <td>1.446108</td>\n",
       "      <td>2.717798</td>\n",
       "      <td>5.654800e+12</td>\n",
       "      <td>5.7</td>\n",
       "      <td>865326154</td>\n",
       "      <td>456738532</td>\n",
       "      <td>7872.087763</td>\n",
       "      <td>24530.166515</td>\n",
       "      <td>7787.911508</td>\n",
       "      <td>23918.018495</td>\n",
       "      <td>0.010693</td>\n",
       "      <td>0.024955</td>\n",
       "      <td>1.644744</td>\n",
       "      <td>0.320915</td>\n",
       "    </tr>\n",
       "    <tr>\n",
       "      <th>1</th>\n",
       "      <td>2.947748</td>\n",
       "      <td>1.268696</td>\n",
       "      <td>2.313903</td>\n",
       "      <td>5.707400e+12</td>\n",
       "      <td>5.7</td>\n",
       "      <td>691740703</td>\n",
       "      <td>379196575</td>\n",
       "      <td>7728.296071</td>\n",
       "      <td>24872.022976</td>\n",
       "      <td>7872.087763</td>\n",
       "      <td>24530.166515</td>\n",
       "      <td>-0.018606</td>\n",
       "      <td>0.013745</td>\n",
       "      <td>1.764203</td>\n",
       "      <td>0.310722</td>\n",
       "    </tr>\n",
       "    <tr>\n",
       "      <th>2</th>\n",
       "      <td>2.834183</td>\n",
       "      <td>1.395587</td>\n",
       "      <td>1.910976</td>\n",
       "      <td>5.750700e+12</td>\n",
       "      <td>5.9</td>\n",
       "      <td>673208880</td>\n",
       "      <td>374453368</td>\n",
       "      <td>8818.759992</td>\n",
       "      <td>24939.204268</td>\n",
       "      <td>7728.296071</td>\n",
       "      <td>24872.022976</td>\n",
       "      <td>0.123653</td>\n",
       "      <td>0.002694</td>\n",
       "      <td>1.572979</td>\n",
       "      <td>0.353610</td>\n",
       "    </tr>\n",
       "    <tr>\n",
       "      <th>3</th>\n",
       "      <td>2.184248</td>\n",
       "      <td>1.897238</td>\n",
       "      <td>2.022265</td>\n",
       "      <td>6.072600e+12</td>\n",
       "      <td>6.1</td>\n",
       "      <td>980365678</td>\n",
       "      <td>470520906</td>\n",
       "      <td>7538.345419</td>\n",
       "      <td>25400.048657</td>\n",
       "      <td>7654.893272</td>\n",
       "      <td>25019.893906</td>\n",
       "      <td>-0.015461</td>\n",
       "      <td>0.014967</td>\n",
       "      <td>1.617146</td>\n",
       "      <td>0.296785</td>\n",
       "    </tr>\n",
       "    <tr>\n",
       "      <th>4</th>\n",
       "      <td>2.161113</td>\n",
       "      <td>1.380819</td>\n",
       "      <td>2.095867</td>\n",
       "      <td>6.059600e+12</td>\n",
       "      <td>6.0</td>\n",
       "      <td>779674957</td>\n",
       "      <td>385164663</td>\n",
       "      <td>7603.684987</td>\n",
       "      <td>25855.578080</td>\n",
       "      <td>7538.345419</td>\n",
       "      <td>25400.048657</td>\n",
       "      <td>0.008593</td>\n",
       "      <td>0.017618</td>\n",
       "      <td>1.679821</td>\n",
       "      <td>0.294083</td>\n",
       "    </tr>\n",
       "  </tbody>\n",
       "</table>\n",
       "</div>"
      ],
      "text/plain": [
       "   CORESTICKM159SFRBATL_Prev  REAINTRATREARAT10Y_Prev  MEDCPIM158SFRBCLE_Prev  \\\n",
       "0                   3.037465                 1.446108                2.717798   \n",
       "1                   2.947748                 1.268696                2.313903   \n",
       "2                   2.834183                 1.395587                1.910976   \n",
       "3                   2.184248                 1.897238                2.022265   \n",
       "4                   2.161113                 1.380819                2.095867   \n",
       "\n",
       "   MYAGM2USM052S_Prev  UNRATE_Prev  Total_Sales_New  Total_Sales_Used  \\\n",
       "0        5.654800e+12          5.7        865326154         456738532   \n",
       "1        5.707400e+12          5.7        691740703         379196575   \n",
       "2        5.750700e+12          5.9        673208880         374453368   \n",
       "3        6.072600e+12          6.1        980365678         470520906   \n",
       "4        6.059600e+12          6.0        779674957         385164663   \n",
       "\n",
       "      Avg_Used       Avg_New  Avg_Used_Previous  Avg_New_Previous  \\\n",
       "0  7872.087763  24530.166515        7787.911508      23918.018495   \n",
       "1  7728.296071  24872.022976        7872.087763      24530.166515   \n",
       "2  8818.759992  24939.204268        7728.296071      24872.022976   \n",
       "3  7538.345419  25400.048657        7654.893272      25019.893906   \n",
       "4  7603.684987  25855.578080        7538.345419      25400.048657   \n",
       "\n",
       "   Change_Car_Sales_Used  Change_Car_Sales_New  Ratio_Used_New  \\\n",
       "0               0.010693              0.024955        1.644744   \n",
       "1              -0.018606              0.013745        1.764203   \n",
       "2               0.123653              0.002694        1.572979   \n",
       "3              -0.015461              0.014967        1.617146   \n",
       "4               0.008593              0.017618        1.679821   \n",
       "\n",
       "   Ratio_Used_New_Sales  \n",
       "0              0.320915  \n",
       "1              0.310722  \n",
       "2              0.353610  \n",
       "3              0.296785  \n",
       "4              0.294083  "
      ]
     },
     "execution_count": 15,
     "metadata": {},
     "output_type": "execute_result"
    }
   ],
   "source": [
    "data_df = data_df.rename(columns={'Total Sales Used': 'Total_Sales_Used', 'Total Sales New': 'Total_Sales_New'})\n",
    "data_df.head()"
   ]
  },
  {
   "cell_type": "code",
   "execution_count": 18,
   "id": "fcfd54f2",
   "metadata": {},
   "outputs": [
    {
     "data": {
      "text/plain": [
       "45"
      ]
     },
     "execution_count": 18,
     "metadata": {},
     "output_type": "execute_result"
    }
   ],
   "source": [
    "len(data_df)"
   ]
  },
  {
   "cell_type": "markdown",
   "id": "3b413b1c",
   "metadata": {},
   "source": [
    "# Testing if Independent Variables are stationary"
   ]
  },
  {
   "cell_type": "code",
   "execution_count": 35,
   "id": "7dca0e7a",
   "metadata": {},
   "outputs": [
    {
     "data": {
      "text/plain": [
       "<AxesSubplot:>"
      ]
     },
     "execution_count": 35,
     "metadata": {},
     "output_type": "execute_result"
    },
    {
     "data": {
      "image/png": "[encoded data removed]",
      "text/plain": [
       "<Figure size 640x480 with 1 Axes>"
      ]
     },
     "metadata": {},
     "output_type": "display_data"
    }
   ],
   "source": [
    "data_df.plot(y='MYAGM2USM052S_Prev')"
   ]
  },
  {
   "cell_type": "code",
   "execution_count": 36,
   "id": "80e3db70",
   "metadata": {},
   "outputs": [
    {
     "name": "stdout",
     "output_type": "stream",
     "text": [
      "                                OLS Regression Results                               \n",
      "=====================================================================================\n",
      "Dep. Variable:     change_MYAGM2USM052S_Prev   R-squared:                       0.149\n",
      "Model:                                   OLS   Adj. R-squared:                  0.107\n",
      "Method:                        Least Squares   F-statistic:                     3.587\n",
      "Date:                       Sun, 06 Oct 2024   Prob (F-statistic):             0.0367\n",
      "Time:                               15:46:17   Log-Likelihood:                -1205.8\n",
      "No. Observations:                         44   AIC:                             2418.\n",
      "Df Residuals:                             41   BIC:                             2423.\n",
      "Df Model:                                  2                                         \n",
      "Covariance Type:                   nonrobust                                         \n",
      "===========================================================================================\n",
      "                              coef    std err          t      P>|t|      [0.025      0.975]\n",
      "-------------------------------------------------------------------------------------------\n",
      "Intercept                9.495e+11   4.14e+11      2.294      0.027    1.14e+11    1.79e+12\n",
      "data_df.index            3.469e+10   1.47e+10      2.354      0.023    4.93e+09    6.45e+10\n",
      "Prev_MYAGM2USM052S_Prev    -0.1795      0.085     -2.118      0.040      -0.351      -0.008\n",
      "==============================================================================\n",
      "Omnibus:                        7.419   Durbin-Watson:                   2.622\n",
      "Prob(Omnibus):                  0.024   Jarque-Bera (JB):                7.246\n",
      "Skew:                           0.994   Prob(JB):                       0.0267\n",
      "Kurtosis:                       2.996   Cond. No.                     1.23e+14\n",
      "==============================================================================\n",
      "\n",
      "Notes:\n",
      "[1] Standard Errors assume that the covariance matrix of the errors is correctly specified.\n",
      "[2] The condition number is large, 1.23e+14. This might indicate that there are\n",
      "strong multicollinearity or other numerical problems.\n"
     ]
    }
   ],
   "source": [
    "data_df['Prev_MYAGM2USM052S_Prev'] = data_df['MYAGM2USM052S_Prev'].shift(1)\n",
    "data_df['change_MYAGM2USM052S_Prev'] = data_df['MYAGM2USM052S_Prev'] - data_df['Prev_MYAGM2USM052S_Prev']\n",
    "\n",
    "\n",
    "mod1 = smf.ols(f'change_MYAGM2USM052S_Prev ~ data_df.index + Prev_MYAGM2USM052S_Prev', data = data_df).fit() \n",
    "print(mod1.summary())"
   ]
  },
  {
   "cell_type": "code",
   "execution_count": 38,
   "id": "95a3f6a0",
   "metadata": {},
   "outputs": [
    {
     "name": "stdout",
     "output_type": "stream",
     "text": [
      "                                          OLS Regression Results                                          \n",
      "==========================================================================================================\n",
      "Dep. Variable:     change_change_Prev_MYAGM2USM052S_Prev   R-squared (uncentered):                   0.403\n",
      "Model:                                               OLS   Adj. R-squared (uncentered):              0.389\n",
      "Method:                                    Least Squares   F-statistic:                              28.37\n",
      "Date:                                   Sun, 06 Oct 2024   Prob (F-statistic):                    3.67e-06\n",
      "Time:                                           15:47:37   Log-Likelihood:                         -1192.5\n",
      "No. Observations:                                     43   AIC:                                      2387.\n",
      "Df Residuals:                                         42   BIC:                                      2389.\n",
      "Df Model:                                              1                                                  \n",
      "Covariance Type:                               nonrobust                                                  \n",
      "==================================================================================================\n",
      "                                     coef    std err          t      P>|t|      [0.025      0.975]\n",
      "--------------------------------------------------------------------------------------------------\n",
      "Prev_change_MYAGM2USM052S_Prev    -0.8068      0.151     -5.326      0.000      -1.112      -0.501\n",
      "==============================================================================\n",
      "Omnibus:                       10.048   Durbin-Watson:                   2.063\n",
      "Prob(Omnibus):                  0.007   Jarque-Bera (JB):               10.367\n",
      "Skew:                           1.199   Prob(JB):                      0.00561\n",
      "Kurtosis:                       3.178   Cond. No.                         1.00\n",
      "==============================================================================\n",
      "\n",
      "Notes:\n",
      "[1] R² is computed without centering (uncentered) since the model does not contain a constant.\n",
      "[2] Standard Errors assume that the covariance matrix of the errors is correctly specified.\n"
     ]
    }
   ],
   "source": [
    "\n",
    "\n",
    "data_df['Prev_change_MYAGM2USM052S_Prev'] = data_df['change_MYAGM2USM052S_Prev'].shift(1)\n",
    "data_df['change_change_Prev_MYAGM2USM052S_Prev'] = data_df['change_MYAGM2USM052S_Prev'] - data_df['Prev_change_MYAGM2USM052S_Prev']\n",
    "\n",
    "\n",
    "mod1 = smf.ols(f'change_change_Prev_MYAGM2USM052S_Prev ~ 0 + Prev_change_MYAGM2USM052S_Prev', data = data_df).fit() \n",
    "print(mod1.summary())"
   ]
  },
  {
   "cell_type": "markdown",
   "id": "f17e1e8d",
   "metadata": {},
   "source": [
    "Change in MYAGM2USM052S is stationary"
   ]
  },
  {
   "cell_type": "code",
   "execution_count": 39,
   "id": "5bc8ccbf",
   "metadata": {},
   "outputs": [
    {
     "data": {
      "text/plain": [
       "<AxesSubplot:>"
      ]
     },
     "execution_count": 39,
     "metadata": {},
     "output_type": "execute_result"
    },
    {
     "data": {
      "image/png": "[encoded data removed]",
      "text/plain": [
       "<Figure size 640x480 with 1 Axes>"
      ]
     },
     "metadata": {},
     "output_type": "display_data"
    }
   ],
   "source": [
    "data_df.plot(y='MEDCPIM158SFRBCLE_Prev')"
   ]
  },
  {
   "cell_type": "code",
   "execution_count": 40,
   "id": "9cb28c4a",
   "metadata": {},
   "outputs": [
    {
     "name": "stdout",
     "output_type": "stream",
     "text": [
      "                                  OLS Regression Results                                 \n",
      "=========================================================================================\n",
      "Dep. Variable:     change_MEDCPIM158SFRBCLE_Prev   R-squared:                       0.252\n",
      "Model:                                       OLS   Adj. R-squared:                  0.216\n",
      "Method:                            Least Squares   F-statistic:                     6.912\n",
      "Date:                           Sun, 06 Oct 2024   Prob (F-statistic):            0.00259\n",
      "Time:                                   15:49:26   Log-Likelihood:                -44.690\n",
      "No. Observations:                             44   AIC:                             95.38\n",
      "Df Residuals:                                 41   BIC:                             100.7\n",
      "Df Model:                                      2                                         \n",
      "Covariance Type:                       nonrobust                                         \n",
      "===============================================================================================\n",
      "                                  coef    std err          t      P>|t|      [0.025      0.975]\n",
      "-----------------------------------------------------------------------------------------------\n",
      "Intercept                       1.2025      0.399      3.011      0.004       0.396       2.009\n",
      "data_df.index                  -0.0031      0.008     -0.372      0.712      -0.020       0.014\n",
      "Prev_MEDCPIM158SFRBCLE_Prev    -0.5045      0.136     -3.710      0.001      -0.779      -0.230\n",
      "==============================================================================\n",
      "Omnibus:                        5.981   Durbin-Watson:                   2.319\n",
      "Prob(Omnibus):                  0.050   Jarque-Bera (JB):                4.845\n",
      "Skew:                           0.622   Prob(JB):                       0.0887\n",
      "Kurtosis:                       4.046   Cond. No.                         103.\n",
      "==============================================================================\n",
      "\n",
      "Notes:\n",
      "[1] Standard Errors assume that the covariance matrix of the errors is correctly specified.\n"
     ]
    }
   ],
   "source": [
    "data_df['Prev_MEDCPIM158SFRBCLE_Prev'] = data_df['MEDCPIM158SFRBCLE_Prev'].shift(1)\n",
    "data_df['change_MEDCPIM158SFRBCLE_Prev'] = data_df['MEDCPIM158SFRBCLE_Prev'] - data_df['Prev_MEDCPIM158SFRBCLE_Prev']\n",
    "\n",
    "\n",
    "mod1 = smf.ols(f'change_MEDCPIM158SFRBCLE_Prev ~ data_df.index + Prev_MEDCPIM158SFRBCLE_Prev', data = data_df).fit() \n",
    "print(mod1.summary())"
   ]
  },
  {
   "cell_type": "markdown",
   "id": "c0754681",
   "metadata": {},
   "source": [
    "MEDCPIM158SFRBCLE is stationary"
   ]
  },
  {
   "cell_type": "markdown",
   "id": "f148c9b1",
   "metadata": {},
   "source": [
    "## REAINTRATREARAT10Y_Prev"
   ]
  },
  {
   "cell_type": "code",
   "execution_count": 41,
   "id": "1679b17c",
   "metadata": {},
   "outputs": [
    {
     "data": {
      "text/plain": [
       "<AxesSubplot:>"
      ]
     },
     "execution_count": 41,
     "metadata": {},
     "output_type": "execute_result"
    },
    {
     "data": {
      "image/png": "[encoded data removed]",
      "text/plain": [
       "<Figure size 640x480 with 1 Axes>"
      ]
     },
     "metadata": {},
     "output_type": "display_data"
    }
   ],
   "source": [
    "data_df.plot(y='REAINTRATREARAT10Y_Prev')"
   ]
  },
  {
   "cell_type": "code",
   "execution_count": 42,
   "id": "54b98f8b",
   "metadata": {},
   "outputs": [
    {
     "name": "stdout",
     "output_type": "stream",
     "text": [
      "                                  OLS Regression Results                                  \n",
      "==========================================================================================\n",
      "Dep. Variable:     change_REAINTRATREARAT10Y_Prev   R-squared:                       0.092\n",
      "Model:                                        OLS   Adj. R-squared:                  0.048\n",
      "Method:                             Least Squares   F-statistic:                     2.088\n",
      "Date:                            Sun, 06 Oct 2024   Prob (F-statistic):              0.137\n",
      "Time:                                    15:50:20   Log-Likelihood:             -0.0034129\n",
      "No. Observations:                              44   AIC:                             6.007\n",
      "Df Residuals:                                  41   BIC:                             11.36\n",
      "Df Model:                                       2                                         \n",
      "Covariance Type:                        nonrobust                                         \n",
      "================================================================================================\n",
      "                                   coef    std err          t      P>|t|      [0.025      0.975]\n",
      "------------------------------------------------------------------------------------------------\n",
      "Intercept                        0.3341      0.184      1.813      0.077      -0.038       0.706\n",
      "data_df.index                   -0.0081      0.005     -1.751      0.087      -0.017       0.001\n",
      "Prev_REAINTRATREARAT10Y_Prev    -0.1662      0.082     -2.019      0.050      -0.333    5.21e-05\n",
      "==============================================================================\n",
      "Omnibus:                        2.473   Durbin-Watson:                   2.285\n",
      "Prob(Omnibus):                  0.290   Jarque-Bera (JB):                2.190\n",
      "Skew:                          -0.536   Prob(JB):                        0.335\n",
      "Kurtosis:                       2.791   Cond. No.                         136.\n",
      "==============================================================================\n",
      "\n",
      "Notes:\n",
      "[1] Standard Errors assume that the covariance matrix of the errors is correctly specified.\n"
     ]
    }
   ],
   "source": [
    "data_df['Prev_REAINTRATREARAT10Y_Prev'] = data_df['REAINTRATREARAT10Y_Prev'].shift(1)\n",
    "data_df['change_REAINTRATREARAT10Y_Prev'] = data_df['REAINTRATREARAT10Y_Prev'] - data_df['Prev_REAINTRATREARAT10Y_Prev']\n",
    "\n",
    "\n",
    "mod1 = smf.ols(f'change_REAINTRATREARAT10Y_Prev ~ data_df.index + Prev_REAINTRATREARAT10Y_Prev', data = data_df).fit() \n",
    "print(mod1.summary())"
   ]
  },
  {
   "cell_type": "code",
   "execution_count": 44,
   "id": "0640fafc",
   "metadata": {},
   "outputs": [
    {
     "name": "stdout",
     "output_type": "stream",
     "text": [
      "                                             OLS Regression Results                                            \n",
      "===============================================================================================================\n",
      "Dep. Variable:     change_change_Prev_REAINTRATREARAT10Y_Prev   R-squared (uncentered):                   0.613\n",
      "Model:                                                    OLS   Adj. R-squared (uncentered):              0.604\n",
      "Method:                                         Least Squares   F-statistic:                              66.60\n",
      "Date:                                        Sun, 06 Oct 2024   Prob (F-statistic):                    3.34e-10\n",
      "Time:                                                15:52:29   Log-Likelihood:                         -1.4592\n",
      "No. Observations:                                          43   AIC:                                      4.918\n",
      "Df Residuals:                                              42   BIC:                                      6.680\n",
      "Df Model:                                                   1                                                  \n",
      "Covariance Type:                                    nonrobust                                                  \n",
      "=======================================================================================================\n",
      "                                          coef    std err          t      P>|t|      [0.025      0.975]\n",
      "-------------------------------------------------------------------------------------------------------\n",
      "Prev_change_REAINTRATREARAT10Y_Prev    -1.2215      0.150     -8.161      0.000      -1.524      -0.919\n",
      "==============================================================================\n",
      "Omnibus:                        2.940   Durbin-Watson:                   2.016\n",
      "Prob(Omnibus):                  0.230   Jarque-Bera (JB):                1.844\n",
      "Skew:                          -0.360   Prob(JB):                        0.398\n",
      "Kurtosis:                       3.714   Cond. No.                         1.00\n",
      "==============================================================================\n",
      "\n",
      "Notes:\n",
      "[1] R² is computed without centering (uncentered) since the model does not contain a constant.\n",
      "[2] Standard Errors assume that the covariance matrix of the errors is correctly specified.\n"
     ]
    }
   ],
   "source": [
    "\n",
    "\n",
    "data_df['Prev_change_REAINTRATREARAT10Y_Prev'] = data_df['change_REAINTRATREARAT10Y_Prev'].shift(1)\n",
    "data_df['change_change_Prev_REAINTRATREARAT10Y_Prev'] = data_df['change_REAINTRATREARAT10Y_Prev'] - data_df['Prev_change_REAINTRATREARAT10Y_Prev']\n",
    "\n",
    "\n",
    "mod1 = smf.ols(f'change_change_Prev_REAINTRATREARAT10Y_Prev ~ 0 + Prev_change_REAINTRATREARAT10Y_Prev', data = data_df).fit() \n",
    "print(mod1.summary())"
   ]
  },
  {
   "cell_type": "markdown",
   "id": "04c4ed3a",
   "metadata": {},
   "source": [
    "REAINTRATREARAT10Y is stationary to first degree"
   ]
  },
  {
   "cell_type": "code",
   "execution_count": null,
   "id": "ac27ce1c",
   "metadata": {},
   "outputs": [],
   "source": []
  },
  {
   "cell_type": "code",
   "execution_count": 45,
   "id": "7a399eb1",
   "metadata": {},
   "outputs": [
    {
     "data": {
      "text/plain": [
       "<AxesSubplot:>"
      ]
     },
     "execution_count": 45,
     "metadata": {},
     "output_type": "execute_result"
    },
    {
     "data": {
      "image/png": "[encoded data removed]",
      "text/plain": [
       "<Figure size 640x480 with 1 Axes>"
      ]
     },
     "metadata": {},
     "output_type": "display_data"
    }
   ],
   "source": [
    "data_df.plot(y='UNRATE_Prev')"
   ]
  },
  {
   "cell_type": "code",
   "execution_count": 46,
   "id": "ec62f775",
   "metadata": {},
   "outputs": [
    {
     "name": "stdout",
     "output_type": "stream",
     "text": [
      "                            OLS Regression Results                            \n",
      "==============================================================================\n",
      "Dep. Variable:     change_UNRATE_Prev   R-squared:                       0.040\n",
      "Model:                            OLS   Adj. R-squared:                 -0.007\n",
      "Method:                 Least Squares   F-statistic:                    0.8562\n",
      "Date:                Sun, 06 Oct 2024   Prob (F-statistic):              0.432\n",
      "Time:                        15:54:01   Log-Likelihood:                -39.025\n",
      "No. Observations:                  44   AIC:                             84.05\n",
      "Df Residuals:                      41   BIC:                             89.40\n",
      "Df Model:                           2                                         \n",
      "Covariance Type:            nonrobust                                         \n",
      "====================================================================================\n",
      "                       coef    std err          t      P>|t|      [0.025      0.975]\n",
      "------------------------------------------------------------------------------------\n",
      "Intercept            0.3818      0.365      1.045      0.302      -0.356       1.120\n",
      "data_df.index       -0.0067      0.007     -0.903      0.372      -0.022       0.008\n",
      "Prev_UNRATE_Prev    -0.0392      0.054     -0.723      0.474      -0.149       0.070\n",
      "==============================================================================\n",
      "Omnibus:                       57.715   Durbin-Watson:                   1.639\n",
      "Prob(Omnibus):                  0.000   Jarque-Bera (JB):              426.088\n",
      "Skew:                           3.162   Prob(JB):                     2.99e-93\n",
      "Kurtosis:                      16.871   Cond. No.                         106.\n",
      "==============================================================================\n",
      "\n",
      "Notes:\n",
      "[1] Standard Errors assume that the covariance matrix of the errors is correctly specified.\n"
     ]
    }
   ],
   "source": [
    "data_df['Prev_UNRATE_Prev'] = data_df['UNRATE_Prev'].shift(1)\n",
    "data_df['change_UNRATE_Prev'] = data_df['UNRATE_Prev'] - data_df['Prev_UNRATE_Prev']\n",
    "\n",
    "\n",
    "mod1 = smf.ols(f'change_UNRATE_Prev ~ data_df.index + Prev_UNRATE_Prev', data = data_df).fit() \n",
    "print(mod1.summary())"
   ]
  },
  {
   "cell_type": "code",
   "execution_count": 47,
   "id": "5f9c5de6",
   "metadata": {},
   "outputs": [
    {
     "name": "stdout",
     "output_type": "stream",
     "text": [
      "                                       OLS Regression Results                                      \n",
      "===================================================================================================\n",
      "Dep. Variable:     change_change_Prev_UNRATE_Prev   R-squared (uncentered):                   0.408\n",
      "Model:                                        OLS   Adj. R-squared (uncentered):              0.394\n",
      "Method:                             Least Squares   F-statistic:                              28.97\n",
      "Date:                            Sun, 06 Oct 2024   Prob (F-statistic):                    3.05e-06\n",
      "Time:                                    15:54:43   Log-Likelihood:                         -38.819\n",
      "No. Observations:                              43   AIC:                                      79.64\n",
      "Df Residuals:                                  42   BIC:                                      81.40\n",
      "Df Model:                                       1                                                  \n",
      "Covariance Type:                        nonrobust                                                  \n",
      "===========================================================================================\n",
      "                              coef    std err          t      P>|t|      [0.025      0.975]\n",
      "-------------------------------------------------------------------------------------------\n",
      "Prev_change_UNRATE_Prev    -0.8177      0.152     -5.383      0.000      -1.124      -0.511\n",
      "==============================================================================\n",
      "Omnibus:                       52.599   Durbin-Watson:                   2.022\n",
      "Prob(Omnibus):                  0.000   Jarque-Bera (JB):              333.116\n",
      "Skew:                           2.886   Prob(JB):                     4.62e-73\n",
      "Kurtosis:                      15.353   Cond. No.                         1.00\n",
      "==============================================================================\n",
      "\n",
      "Notes:\n",
      "[1] R² is computed without centering (uncentered) since the model does not contain a constant.\n",
      "[2] Standard Errors assume that the covariance matrix of the errors is correctly specified.\n"
     ]
    }
   ],
   "source": [
    "\n",
    "\n",
    "data_df['Prev_change_UNRATE_Prev'] = data_df['change_UNRATE_Prev'].shift(1)\n",
    "data_df['change_change_Prev_UNRATE_Prev'] = data_df['change_UNRATE_Prev'] - data_df['Prev_change_UNRATE_Prev']\n",
    "\n",
    "\n",
    "mod1 = smf.ols(f'change_change_Prev_UNRATE_Prev ~ 0 + Prev_change_UNRATE_Prev', data = data_df).fit() \n",
    "print(mod1.summary())"
   ]
  },
  {
   "cell_type": "markdown",
   "id": "d2fe7d7c",
   "metadata": {},
   "source": [
    "UNRATE stationary to first degree"
   ]
  },
  {
   "cell_type": "code",
   "execution_count": null,
   "id": "5abe366e",
   "metadata": {},
   "outputs": [],
   "source": []
  },
  {
   "cell_type": "code",
   "execution_count": 48,
   "id": "8a1e0d10",
   "metadata": {},
   "outputs": [
    {
     "data": {
      "text/plain": [
       "<AxesSubplot:>"
      ]
     },
     "execution_count": 48,
     "metadata": {},
     "output_type": "execute_result"
    },
    {
     "data": {
      "image/png": "[encoded data removed]",
      "text/plain": [
       "<Figure size 640x480 with 1 Axes>"
      ]
     },
     "metadata": {},
     "output_type": "display_data"
    }
   ],
   "source": [
    "data_df.plot(y='CORESTICKM159SFRBATL_Prev')"
   ]
  },
  {
   "cell_type": "code",
   "execution_count": 49,
   "id": "410b5fbe",
   "metadata": {},
   "outputs": [
    {
     "name": "stdout",
     "output_type": "stream",
     "text": [
      "                                   OLS Regression Results                                   \n",
      "============================================================================================\n",
      "Dep. Variable:     change_CORESTICKM159SFRBATL_Prev   R-squared:                       0.097\n",
      "Model:                                          OLS   Adj. R-squared:                  0.053\n",
      "Method:                               Least Squares   F-statistic:                     2.195\n",
      "Date:                              Sun, 06 Oct 2024   Prob (F-statistic):              0.124\n",
      "Time:                                      15:56:00   Log-Likelihood:                -12.222\n",
      "No. Observations:                                44   AIC:                             30.44\n",
      "Df Residuals:                                    41   BIC:                             35.80\n",
      "Df Model:                                         2                                         \n",
      "Covariance Type:                          nonrobust                                         \n",
      "==================================================================================================\n",
      "                                     coef    std err          t      P>|t|      [0.025      0.975]\n",
      "--------------------------------------------------------------------------------------------------\n",
      "Intercept                          0.3310      0.245      1.352      0.184      -0.163       0.825\n",
      "data_df.index                      0.0010      0.004      0.237      0.814      -0.007       0.009\n",
      "Prev_CORESTICKM159SFRBATL_Prev    -0.1644      0.087     -1.894      0.065      -0.340       0.011\n",
      "==============================================================================\n",
      "Omnibus:                       11.745   Durbin-Watson:                   1.521\n",
      "Prob(Omnibus):                  0.003   Jarque-Bera (JB):               18.980\n",
      "Skew:                          -0.679   Prob(JB):                     7.56e-05\n",
      "Kurtosis:                       5.917   Cond. No.                         134.\n",
      "==============================================================================\n",
      "\n",
      "Notes:\n",
      "[1] Standard Errors assume that the covariance matrix of the errors is correctly specified.\n"
     ]
    }
   ],
   "source": [
    "data_df['Prev_CORESTICKM159SFRBATL_Prev'] = data_df['CORESTICKM159SFRBATL_Prev'].shift(1)\n",
    "data_df['change_CORESTICKM159SFRBATL_Prev'] = data_df['CORESTICKM159SFRBATL_Prev'] - data_df['Prev_CORESTICKM159SFRBATL_Prev']\n",
    "\n",
    "\n",
    "mod1 = smf.ols(f'change_CORESTICKM159SFRBATL_Prev ~ data_df.index + Prev_CORESTICKM159SFRBATL_Prev', data = data_df).fit() \n",
    "print(mod1.summary())"
   ]
  },
  {
   "cell_type": "code",
   "execution_count": 50,
   "id": "8c9a78ab",
   "metadata": {},
   "outputs": [
    {
     "name": "stdout",
     "output_type": "stream",
     "text": [
      "                                              OLS Regression Results                                             \n",
      "=================================================================================================================\n",
      "Dep. Variable:     change_change_Prev_CORESTICKM159SFRBATL_Prev   R-squared (uncentered):                   0.403\n",
      "Model:                                                      OLS   Adj. R-squared (uncentered):              0.389\n",
      "Method:                                           Least Squares   F-statistic:                              28.40\n",
      "Date:                                          Sun, 06 Oct 2024   Prob (F-statistic):                    3.63e-06\n",
      "Time:                                                  15:56:37   Log-Likelihood:                         -13.791\n",
      "No. Observations:                                            43   AIC:                                      29.58\n",
      "Df Residuals:                                                42   BIC:                                      31.34\n",
      "Df Model:                                                     1                                                  \n",
      "Covariance Type:                                      nonrobust                                                  \n",
      "=========================================================================================================\n",
      "                                            coef    std err          t      P>|t|      [0.025      0.975]\n",
      "---------------------------------------------------------------------------------------------------------\n",
      "Prev_change_CORESTICKM159SFRBATL_Prev    -0.8060      0.151     -5.329      0.000      -1.111      -0.501\n",
      "==============================================================================\n",
      "Omnibus:                       11.197   Durbin-Watson:                   2.005\n",
      "Prob(Omnibus):                  0.004   Jarque-Bera (JB):               18.762\n",
      "Skew:                          -0.615   Prob(JB):                     8.43e-05\n",
      "Kurtosis:                       5.993   Cond. No.                         1.00\n",
      "==============================================================================\n",
      "\n",
      "Notes:\n",
      "[1] R² is computed without centering (uncentered) since the model does not contain a constant.\n",
      "[2] Standard Errors assume that the covariance matrix of the errors is correctly specified.\n"
     ]
    }
   ],
   "source": [
    "\n",
    "\n",
    "data_df['Prev_change_CORESTICKM159SFRBATL_Prev'] = data_df['change_CORESTICKM159SFRBATL_Prev'].shift(1)\n",
    "data_df['change_change_Prev_CORESTICKM159SFRBATL_Prev'] = data_df['change_CORESTICKM159SFRBATL_Prev'] - data_df['Prev_change_CORESTICKM159SFRBATL_Prev']\n",
    "\n",
    "\n",
    "mod1 = smf.ols(f'change_change_Prev_CORESTICKM159SFRBATL_Prev ~ 0 + Prev_change_CORESTICKM159SFRBATL_Prev', data = data_df).fit() \n",
    "print(mod1.summary())"
   ]
  },
  {
   "cell_type": "markdown",
   "id": "0eb3d04d",
   "metadata": {},
   "source": [
    "CORESTICKM159SFRBATL stationary to first degree"
   ]
  },
  {
   "cell_type": "code",
   "execution_count": 108,
   "id": "946d4a09",
   "metadata": {},
   "outputs": [],
   "source": [
    "data_df['change_UNRATE_Prev_1'] = data_df['change_UNRATE_Prev'].shift(1)\n",
    "data_df['change_UNRATE_Prev_2'] = data_df['change_UNRATE_Prev'].shift(2)\n",
    "data_df['change_UNRATE_Prev_3'] = data_df['change_UNRATE_Prev'].shift(3)\n",
    "data_df['change_UNRATE_Prev_4'] = data_df['change_UNRATE_Prev'].shift(4)\n",
    "data_df['change_UNRATE_Prev_5'] = data_df['change_UNRATE_Prev'].shift(5)\n",
    "\n",
    "data_df['change_CORESTICKM159SFRBATL_Prev_1'] = data_df['change_CORESTICKM159SFRBATL_Prev'].shift(1)\n",
    "data_df['change_CORESTICKM159SFRBATL_Prev_2'] = data_df['change_CORESTICKM159SFRBATL_Prev'].shift(2)\n",
    "data_df['change_CORESTICKM159SFRBATL_Prev_3'] = data_df['change_CORESTICKM159SFRBATL_Prev'].shift(3)\n",
    "data_df['change_CORESTICKM159SFRBATL_Prev_4'] = data_df['change_CORESTICKM159SFRBATL_Prev'].shift(4)\n",
    "data_df['change_CORESTICKM159SFRBATL_Prev_5'] = data_df['change_CORESTICKM159SFRBATL_Prev'].shift(5)\n",
    "\n",
    "data_df['change_REAINTRATREARAT10Y_Prev_1'] = data_df['change_REAINTRATREARAT10Y_Prev'].shift(1)\n",
    "data_df['change_REAINTRATREARAT10Y_Prev_2'] = data_df['change_REAINTRATREARAT10Y_Prev'].shift(2)\n",
    "data_df['change_REAINTRATREARAT10Y_Prev_3'] = data_df['change_REAINTRATREARAT10Y_Prev'].shift(3)\n",
    "data_df['change_REAINTRATREARAT10Y_Prev_4'] = data_df['change_REAINTRATREARAT10Y_Prev'].shift(4)\n",
    "data_df['change_REAINTRATREARAT10Y_Prev_5'] = data_df['change_REAINTRATREARAT10Y_Prev'].shift(5)\n",
    "\n",
    "data_df['MEDCPIM158SFRBCLE_Prev_1'] = data_df['MEDCPIM158SFRBCLE_Prev'].shift(1)\n",
    "data_df['MEDCPIM158SFRBCLE_Prev_2'] = data_df['MEDCPIM158SFRBCLE_Prev'].shift(2)\n",
    "data_df['MEDCPIM158SFRBCLE_Prev_3'] = data_df['MEDCPIM158SFRBCLE_Prev'].shift(3)\n",
    "\n",
    "data_df['change_MYAGM2USM052S_Prev_1'] = data_df['change_MYAGM2USM052S_Prev'].shift(1)\n",
    "data_df['change_MYAGM2USM052S_Prev_2'] = data_df['change_MYAGM2USM052S_Prev'].shift(2)\n",
    "data_df['change_MYAGM2USM052S_Prev_3'] = data_df['change_MYAGM2USM052S_Prev'].shift(3)\n",
    "data_df['change_MYAGM2USM052S_Prev_4'] = data_df['change_MYAGM2USM052S_Prev'].shift(4)\n",
    "data_df['change_MYAGM2USM052S_Prev_5'] = data_df['change_MYAGM2USM052S_Prev'].shift(5)"
   ]
  },
  {
   "cell_type": "markdown",
   "id": "c07e0b31",
   "metadata": {},
   "source": [
    "# Total Sales Used"
   ]
  },
  {
   "cell_type": "code",
   "execution_count": 20,
   "id": "71a86d84",
   "metadata": {},
   "outputs": [
    {
     "data": {
      "text/plain": [
       "<AxesSubplot:>"
      ]
     },
     "execution_count": 20,
     "metadata": {},
     "output_type": "execute_result"
    },
    {
     "data": {
      "image/png": "[encoded data removed]",
      "text/plain": [
       "<Figure size 640x480 with 1 Axes>"
      ]
     },
     "metadata": {},
     "output_type": "display_data"
    }
   ],
   "source": [
    "data_df.plot(y='Total_Sales_Used')"
   ]
  },
  {
   "cell_type": "code",
   "execution_count": 29,
   "id": "73271a6c",
   "metadata": {},
   "outputs": [
    {
     "name": "stdout",
     "output_type": "stream",
     "text": [
      "                               OLS Regression Results                              \n",
      "===================================================================================\n",
      "Dep. Variable:     change_Total_Sales_Used   R-squared:                       0.194\n",
      "Model:                                 OLS   Adj. R-squared:                  0.154\n",
      "Method:                      Least Squares   F-statistic:                     4.926\n",
      "Date:                     Sun, 06 Oct 2024   Prob (F-statistic):             0.0121\n",
      "Time:                             15:27:43   Log-Likelihood:                -848.21\n",
      "No. Observations:                       44   AIC:                             1702.\n",
      "Df Residuals:                           41   BIC:                             1708.\n",
      "Df Model:                                2                                         \n",
      "Covariance Type:                 nonrobust                                         \n",
      "=========================================================================================\n",
      "                            coef    std err          t      P>|t|      [0.025      0.975]\n",
      "-----------------------------------------------------------------------------------------\n",
      "Intercept              1.299e+08   4.97e+07      2.613      0.012    2.95e+07     2.3e+08\n",
      "data_df.index          1.965e+06   8.31e+05      2.365      0.023    2.87e+05    3.64e+06\n",
      "Prev_Total_Sales_Used    -0.3738      0.124     -3.011      0.004      -0.624      -0.123\n",
      "==============================================================================\n",
      "Omnibus:                        1.137   Durbin-Watson:                   2.316\n",
      "Prob(Omnibus):                  0.566   Jarque-Bera (JB):                1.156\n",
      "Skew:                           0.297   Prob(JB):                        0.561\n",
      "Kurtosis:                       2.474   Cond. No.                     2.58e+09\n",
      "==============================================================================\n",
      "\n",
      "Notes:\n",
      "[1] Standard Errors assume that the covariance matrix of the errors is correctly specified.\n",
      "[2] The condition number is large, 2.58e+09. This might indicate that there are\n",
      "strong multicollinearity or other numerical problems.\n"
     ]
    }
   ],
   "source": [
    "data_df['Prev_Total_Sales_Used'] = data_df['Total_Sales_Used'].shift(1)\n",
    "data_df['change_Total_Sales_Used'] = data_df['Total_Sales_Used'] - data_df['Prev_Total_Sales_Used']\n",
    "\n",
    "\n",
    "mod1 = smf.ols(f'change_Total_Sales_Used ~ data_df.index + Prev_Total_Sales_Used', data = data_df).fit() \n",
    "print(mod1.summary())"
   ]
  },
  {
   "cell_type": "code",
   "execution_count": 31,
   "id": "72079c4a",
   "metadata": {},
   "outputs": [
    {
     "data": {
      "text/plain": [
       "<AxesSubplot:>"
      ]
     },
     "execution_count": 31,
     "metadata": {},
     "output_type": "execute_result"
    },
    {
     "data": {
      "image/png": "[encoded data removed]",
      "text/plain": [
       "<Figure size 640x480 with 1 Axes>"
      ]
     },
     "metadata": {},
     "output_type": "display_data"
    }
   ],
   "source": [
    "data_df.plot(y='change_Total_Sales_Used')"
   ]
  },
  {
   "cell_type": "code",
   "execution_count": 33,
   "id": "a4dbc67b",
   "metadata": {},
   "outputs": [
    {
     "name": "stdout",
     "output_type": "stream",
     "text": [
      "                                         OLS Regression Results                                         \n",
      "========================================================================================================\n",
      "Dep. Variable:     change_change_Prev_Total_Sales_Used   R-squared (uncentered):                   0.709\n",
      "Model:                                             OLS   Adj. R-squared (uncentered):              0.702\n",
      "Method:                                  Least Squares   F-statistic:                              102.4\n",
      "Date:                                 Sun, 06 Oct 2024   Prob (F-statistic):                    7.84e-13\n",
      "Time:                                         15:41:49   Log-Likelihood:                         -829.50\n",
      "No. Observations:                                   43   AIC:                                      1661.\n",
      "Df Residuals:                                       42   BIC:                                      1663.\n",
      "Df Model:                                            1                                                  \n",
      "Covariance Type:                             nonrobust                                                  \n",
      "================================================================================================\n",
      "                                   coef    std err          t      P>|t|      [0.025      0.975]\n",
      "------------------------------------------------------------------------------------------------\n",
      "Prev_change_Total_Sales_Used    -1.4019      0.139    -10.120      0.000      -1.681      -1.122\n",
      "==============================================================================\n",
      "Omnibus:                        4.290   Durbin-Watson:                   2.519\n",
      "Prob(Omnibus):                  0.117   Jarque-Bera (JB):                3.789\n",
      "Skew:                           0.726   Prob(JB):                        0.150\n",
      "Kurtosis:                       2.927   Cond. No.                         1.00\n",
      "==============================================================================\n",
      "\n",
      "Notes:\n",
      "[1] R² is computed without centering (uncentered) since the model does not contain a constant.\n",
      "[2] Standard Errors assume that the covariance matrix of the errors is correctly specified.\n"
     ]
    }
   ],
   "source": [
    "data_df['Prev_Total_Sales_Used'] = data_df['Total_Sales_Used'].shift(1)\n",
    "data_df['change_Total_Sales_Used'] = data_df['Total_Sales_Used'] - data_df['Prev_Total_Sales_Used']\n",
    "\n",
    "data_df['Prev_change_Total_Sales_Used'] = data_df['change_Total_Sales_Used'].shift(1)\n",
    "data_df['change_change_Prev_Total_Sales_Used'] = data_df['change_Total_Sales_Used'] - data_df['Prev_change_Total_Sales_Used']\n",
    "\n",
    "\n",
    "mod1 = smf.ols(f'change_change_Prev_Total_Sales_Used ~ 0 + Prev_change_Total_Sales_Used', data = data_df).fit() \n",
    "print(mod1.summary())"
   ]
  },
  {
   "cell_type": "markdown",
   "id": "249c9f74",
   "metadata": {},
   "source": [
    "Total Sales Used to first derivative is therefore stationary by Dickey-Fuller test since -10.120 < -3.41"
   ]
  },
  {
   "cell_type": "code",
   "execution_count": 176,
   "id": "57683a68",
   "metadata": {},
   "outputs": [
    {
     "name": "stdout",
     "output_type": "stream",
     "text": [
      "                               OLS Regression Results                              \n",
      "===================================================================================\n",
      "Dep. Variable:     change_Total_Sales_Used   R-squared:                       0.800\n",
      "Model:                                 OLS   Adj. R-squared:                  0.589\n",
      "Method:                      Least Squares   F-statistic:                     7.715\n",
      "Date:                     Tue, 08 Oct 2024   Prob (F-statistic):           3.38e-05\n",
      "Time:                             14:25:13   Log-Likelihood:                -742.31\n",
      "No. Observations:                       40   AIC:                             1527.\n",
      "Df Residuals:                           19   BIC:                             1562.\n",
      "Df Model:                               20                                         \n",
      "Covariance Type:                       HAC                                         \n",
      "======================================================================================================\n",
      "                                         coef    std err          z      P>|z|      [0.025      0.975]\n",
      "------------------------------------------------------------------------------------------------------\n",
      "Intercept                          -3.902e+06   9.98e+06     -0.391      0.696   -2.35e+07    1.57e+07\n",
      "change_MYAGM2USM052S_Prev              0.0001   7.02e-05      2.129      0.033    1.18e-05       0.000\n",
      "change_CORESTICKM159SFRBATL_Prev   -5.994e+07   4.08e+07     -1.468      0.142    -1.4e+08    2.01e+07\n",
      "change_UNRATE_Prev                  -1.71e+07   7.63e+06     -2.241      0.025   -3.21e+07   -2.14e+06\n",
      "change_REAINTRATREARAT10Y_Prev      5.173e+07   3.46e+07      1.496      0.135    -1.6e+07     1.2e+08\n",
      "change_CORESTICKM159SFRBATL_Prev_1  1.256e+07   2.65e+07      0.474      0.636   -3.94e+07    6.46e+07\n",
      "change_CORESTICKM159SFRBATL_Prev_2  -5.46e+06   1.37e+07     -0.399      0.690   -3.23e+07    2.14e+07\n",
      "change_CORESTICKM159SFRBATL_Prev_3 -2.598e+07    3.5e+07     -0.742      0.458   -9.46e+07    4.26e+07\n",
      "change_CORESTICKM159SFRBATL_Prev_4  2.338e+07   2.45e+07      0.956      0.339   -2.46e+07    7.13e+07\n",
      "change_UNRATE_Prev_1               -1.449e+07    8.7e+06     -1.666      0.096   -3.15e+07    2.55e+06\n",
      "change_UNRATE_Prev_2                1.105e+07    8.5e+06      1.299      0.194   -5.62e+06    2.77e+07\n",
      "change_UNRATE_Prev_3               -1.174e+07   3.06e+07     -0.383      0.702   -7.18e+07    4.83e+07\n",
      "change_UNRATE_Prev_4                1.772e+07   1.97e+07      0.901      0.367   -2.08e+07    5.63e+07\n",
      "change_REAINTRATREARAT10Y_Prev_1    1.391e+07   2.31e+07      0.602      0.547   -3.13e+07    5.92e+07\n",
      "change_REAINTRATREARAT10Y_Prev_2    2.398e+07    1.6e+07      1.499      0.134   -7.37e+06    5.53e+07\n",
      "change_REAINTRATREARAT10Y_Prev_3     -4.4e+06   2.15e+07     -0.205      0.837   -4.64e+07    3.76e+07\n",
      "change_REAINTRATREARAT10Y_Prev_4   -3.286e+07      3e+07     -1.097      0.273   -9.16e+07    2.59e+07\n",
      "change_MYAGM2USM052S_Prev_1        -3.309e-05   6.91e-05     -0.479      0.632      -0.000       0.000\n",
      "change_MYAGM2USM052S_Prev_2         2.426e-05   2.57e-05      0.943      0.346   -2.62e-05    7.47e-05\n",
      "change_MYAGM2USM052S_Prev_3         4.153e-05   5.39e-05      0.771      0.441   -6.41e-05       0.000\n",
      "change_MYAGM2USM052S_Prev_4           -0.0001   5.79e-05     -2.075      0.038      -0.000   -6.63e-06\n",
      "==============================================================================\n",
      "Omnibus:                        2.768   Durbin-Watson:                   2.332\n",
      "Prob(Omnibus):                  0.251   Jarque-Bera (JB):                2.583\n",
      "Skew:                           0.577   Prob(JB):                        0.275\n",
      "Kurtosis:                       2.535   Cond. No.                     4.36e+12\n",
      "==============================================================================\n",
      "\n",
      "Notes:\n",
      "[1] Standard Errors are heteroscedasticity and autocorrelation robust (HAC) using 4 lags and without small sample correction\n",
      "[2] The condition number is large, 4.36e+12. This might indicate that there are\n",
      "strong multicollinearity or other numerical problems.\n"
     ]
    },
    {
     "name": "stderr",
     "output_type": "stream",
     "text": [
      "/Users/evanbruno/opt/anaconda3/lib/python3.9/site-packages/statsmodels/base/model.py:1896: ValueWarning: covariance of constraints does not have full rank. The number of constraints is 20, but rank is 15\n",
      "  warnings.warn('covariance of constraints does not have full '\n"
     ]
    }
   ],
   "source": [
    "formula = 'change_MYAGM2USM052S_Prev + change_CORESTICKM159SFRBATL_Prev + change_UNRATE_Prev + change_REAINTRATREARAT10Y_Prev'\n",
    "\n",
    "lags = 5\n",
    "\n",
    "variables = ['change_CORESTICKM159SFRBATL_Prev', 'change_UNRATE_Prev', 'change_REAINTRATREARAT10Y_Prev', 'change_MYAGM2USM052S_Prev']\n",
    "\n",
    "for var in variables:\n",
    "\n",
    "    for i in range(1, lags):\n",
    "\n",
    "        formula = formula + f' + {var}_{i}'\n",
    "\n",
    "\n",
    "\n",
    "\n",
    "mod1 = smf.ols(f'change_Total_Sales_Used ~ {formula}', data = data_df)\n",
    "results = mod1.fit(cov_type='HAC', cov_kwds={'maxlags': 4})  \n",
    "print(results.summary())"
   ]
  },
  {
   "cell_type": "code",
   "execution_count": 177,
   "id": "59711f80",
   "metadata": {},
   "outputs": [
    {
     "name": "stdout",
     "output_type": "stream",
     "text": [
      "Autocorrelations for the first four lags:\n",
      "Lag 1: 1.0\n",
      "Lag 2: -0.17739276165447707\n",
      "Lag 3: 0.047373392259667566\n",
      "Lag 4: 0.18546968185085225\n",
      "Lag 5: -0.22186273130641299\n",
      "Lag 6: 0.21402696619628145\n"
     ]
    }
   ],
   "source": [
    "\n",
    "from statsmodels.tsa.stattools import acf\n",
    "\n",
    "\n",
    "# Get residuals\n",
    "residuals = results.resid\n",
    "\n",
    "\n",
    "# Calculate autocorrelations for the first four lags\n",
    "acf_res = acf(residuals, fft=False, nlags=5)\n",
    "\n",
    "# Print autocorrelations\n",
    "print(\"Autocorrelations for the first four lags:\")\n",
    "for lag, acf_value in enumerate(acf_res):\n",
    "    print(f\"Lag {lag + 1}: {acf_value}\")"
   ]
  },
  {
   "cell_type": "code",
   "execution_count": 169,
   "id": "244208c9",
   "metadata": {},
   "outputs": [
    {
     "data": {
      "text/plain": [
       "0.2921795490599725"
      ]
     },
     "execution_count": 169,
     "metadata": {},
     "output_type": "execute_result"
    }
   ],
   "source": [
    "1.96 / math.sqrt(len(data_df))"
   ]
  },
  {
   "cell_type": "code",
   "execution_count": 138,
   "id": "1a0df1a0",
   "metadata": {},
   "outputs": [],
   "source": [
    "bic_dict = {}\n",
    "\n",
    "\n",
    "for lag in range(2, 7):\n",
    "\n",
    "\n",
    "    formula = 'change_MYAGM2USM052S_Prev + change_CORESTICKM159SFRBATL_Prev + change_UNRATE_Prev + change_REAINTRATREARAT10Y_Prev'\n",
    "\n",
    "    lags = lag\n",
    "\n",
    "    variables = ['change_CORESTICKM159SFRBATL_Prev', 'change_UNRATE_Prev', 'change_REAINTRATREARAT10Y_Prev', 'change_MYAGM2USM052S_Prev']\n",
    "\n",
    "    for var in variables:\n",
    "\n",
    "        for i in range(1, lags):\n",
    "\n",
    "            formula = formula + f' + {var}_{i}'\n",
    "\n",
    "\n",
    "\n",
    "\n",
    "    mod1 = smf.ols(f'change_Total_Sales_Used ~ {formula}', data = data_df)\n",
    "    results = mod1.fit(cov_type='HAC', cov_kwds={'maxlags': 4})  \n",
    "\n",
    "    bic_dict[lag - 1] = results.bic"
   ]
  },
  {
   "cell_type": "code",
   "execution_count": 139,
   "id": "d91bfb71",
   "metadata": {},
   "outputs": [
    {
     "data": {
      "text/plain": [
       "{1: 1637.1805679460304,\n",
       " 2: 1613.6098287673055,\n",
       " 3: 1590.812745814281,\n",
       " 4: 1562.084627550116,\n",
       " 5: 1528.6118063090337}"
      ]
     },
     "execution_count": 139,
     "metadata": {},
     "output_type": "execute_result"
    }
   ],
   "source": [
    "bic_dict"
   ]
  },
  {
   "cell_type": "code",
   "execution_count": 142,
   "id": "04856652",
   "metadata": {},
   "outputs": [
    {
     "name": "stdout",
     "output_type": "stream",
     "text": [
      "                            OLS Regression Results                            \n",
      "==============================================================================\n",
      "Dep. Variable:                  Resid   R-squared:                       0.497\n",
      "Model:                            OLS   Adj. R-squared:                 -0.365\n",
      "Method:                 Least Squares   F-statistic:                    0.5763\n",
      "Date:                Tue, 08 Oct 2024   Prob (F-statistic):              0.886\n",
      "Time:                        12:59:29   Log-Likelihood:                -1373.4\n",
      "No. Observations:                  39   AIC:                             2797.\n",
      "Df Residuals:                      14   BIC:                             2838.\n",
      "Df Model:                          24                                         \n",
      "Covariance Type:            nonrobust                                         \n",
      "======================================================================================================\n",
      "                                         coef    std err          t      P>|t|      [0.025      0.975]\n",
      "------------------------------------------------------------------------------------------------------\n",
      "Intercept                           5.254e+14   5.47e+14      0.961      0.353   -6.47e+14     1.7e+15\n",
      "change_MYAGM2USM052S_Prev             -1.3663   2225.881     -0.001      1.000   -4775.406    4772.673\n",
      "change_CORESTICKM159SFRBATL_Prev    1.132e+15   8.06e+14      1.405      0.182   -5.96e+14    2.86e+15\n",
      "change_UNRATE_Prev                  1.185e+14   3.39e+14      0.350      0.732   -6.08e+14    8.45e+14\n",
      "change_REAINTRATREARAT10Y_Prev      3.817e+14   1.07e+15      0.358      0.726   -1.91e+15    2.67e+15\n",
      "change_CORESTICKM159SFRBATL_Prev_1  4.153e+13   8.01e+14      0.052      0.959   -1.68e+15    1.76e+15\n",
      "change_CORESTICKM159SFRBATL_Prev_2  -3.41e+14   7.73e+14     -0.441      0.666      -2e+15    1.32e+15\n",
      "change_CORESTICKM159SFRBATL_Prev_3  7.122e+14   8.35e+14      0.853      0.408   -1.08e+15     2.5e+15\n",
      "change_CORESTICKM159SFRBATL_Prev_4 -3.857e+14   8.28e+14     -0.466      0.649   -2.16e+15    1.39e+15\n",
      "change_CORESTICKM159SFRBATL_Prev_5 -6.659e+14   7.64e+14     -0.872      0.398    -2.3e+15    9.72e+14\n",
      "change_UNRATE_Prev_1                1.412e+14   3.81e+14      0.371      0.716   -6.76e+14    9.58e+14\n",
      "change_UNRATE_Prev_2               -1.232e+13   3.46e+14     -0.036      0.972   -7.55e+14     7.3e+14\n",
      "change_UNRATE_Prev_3                5.038e+14   6.61e+14      0.762      0.459   -9.15e+14    1.92e+15\n",
      "change_UNRATE_Prev_4               -2.052e+14   6.71e+14     -0.306      0.764   -1.65e+15    1.23e+15\n",
      "change_UNRATE_Prev_5                -2.68e+14   6.16e+14     -0.435      0.670   -1.59e+15    1.05e+15\n",
      "change_REAINTRATREARAT10Y_Prev_1    1.558e+14   1.06e+15      0.147      0.886   -2.13e+15    2.44e+15\n",
      "change_REAINTRATREARAT10Y_Prev_2    5.094e+14   8.11e+14      0.628      0.540   -1.23e+15    2.25e+15\n",
      "change_REAINTRATREARAT10Y_Prev_3    1.136e+15   7.83e+14      1.451      0.169   -5.43e+14    2.81e+15\n",
      "change_REAINTRATREARAT10Y_Prev_4    6.323e+14   7.83e+14      0.807      0.433   -1.05e+15    2.31e+15\n",
      "change_REAINTRATREARAT10Y_Prev_5    9.715e+14   7.26e+14      1.338      0.202   -5.86e+14    2.53e+15\n",
      "change_MYAGM2USM052S_Prev_1          380.2165   2328.128      0.163      0.873   -4613.121    5373.554\n",
      "change_MYAGM2USM052S_Prev_2        -1291.3216   2299.484     -0.562      0.583   -6223.224    3640.580\n",
      "change_MYAGM2USM052S_Prev_3          686.0978   2054.473      0.334      0.743   -3720.309    5092.505\n",
      "change_MYAGM2USM052S_Prev_4         -486.0822   2053.598     -0.237      0.816   -4890.612    3918.447\n",
      "change_MYAGM2USM052S_Prev_5         1645.5511   2171.241      0.758      0.461   -3011.299    6302.401\n",
      "==============================================================================\n",
      "Omnibus:                        0.062   Durbin-Watson:                   2.681\n",
      "Prob(Omnibus):                  0.969   Jarque-Bera (JB):                0.269\n",
      "Skew:                           0.010   Prob(JB):                        0.874\n",
      "Kurtosis:                       2.593   Cond. No.                     5.40e+12\n",
      "==============================================================================\n",
      "\n",
      "Notes:\n",
      "[1] Standard Errors assume that the covariance matrix of the errors is correctly specified.\n",
      "[2] The condition number is large, 5.4e+12. This might indicate that there are\n",
      "strong multicollinearity or other numerical problems.\n"
     ]
    }
   ],
   "source": [
    "data_df['Resid'] = residuals ** 2\n",
    "\n",
    "mod1 = smf.ols(f'Resid ~ {formula}', data = data_df)\n",
    "results = mod1.fit()  \n",
    "print(results.summary())"
   ]
  },
  {
   "cell_type": "code",
   "execution_count": 143,
   "id": "e65bbc29",
   "metadata": {},
   "outputs": [
    {
     "data": {
      "text/plain": [
       "22.365"
      ]
     },
     "execution_count": 143,
     "metadata": {},
     "output_type": "execute_result"
    }
   ],
   "source": [
    "len(data_df) * 0.497"
   ]
  },
  {
   "cell_type": "markdown",
   "id": "5018209a",
   "metadata": {},
   "source": [
    "at 24 degrees of freedom 5% crit value is 36.42 and since 22.365 is less than this value passes test of homoskedaticity"
   ]
  },
  {
   "cell_type": "markdown",
   "id": "44165cca",
   "metadata": {},
   "source": [
    "## Assumptions of Finite Distributed Lag Model\n",
    "\n",
    "1. Time series for both dependent and independent variables are stationary as testing previously\n",
    "2. finite distributed lag model is written as y = alpha + B0x ... \n",
    "3. error term is not auto correlated as the 5% crit value is 0.29 and the correlations do not exceed this threshold\n",
    "4. test for homoskedaticity remains valid"
   ]
  },
  {
   "cell_type": "markdown",
   "id": "bbab52cc",
   "metadata": {},
   "source": [
    "# Total Sales New"
   ]
  },
  {
   "cell_type": "code",
   "execution_count": 218,
   "id": "a64adcfe",
   "metadata": {},
   "outputs": [
    {
     "data": {
      "text/plain": [
       "<AxesSubplot:>"
      ]
     },
     "execution_count": 218,
     "metadata": {},
     "output_type": "execute_result"
    },
    {
     "data": {
      "image/png": "[encoded data removed]",
      "text/plain": [
       "<Figure size 640x480 with 1 Axes>"
      ]
     },
     "metadata": {},
     "output_type": "display_data"
    }
   ],
   "source": [
    "data_df.plot(y='Total_Sales_New')"
   ]
  },
  {
   "cell_type": "code",
   "execution_count": 219,
   "id": "20db3ca4",
   "metadata": {},
   "outputs": [
    {
     "name": "stdout",
     "output_type": "stream",
     "text": [
      "                              OLS Regression Results                              \n",
      "==================================================================================\n",
      "Dep. Variable:     change_Total_Sales_New   R-squared:                       0.184\n",
      "Model:                                OLS   Adj. R-squared:                  0.144\n",
      "Method:                     Least Squares   F-statistic:                     4.613\n",
      "Date:                    Tue, 08 Oct 2024   Prob (F-statistic):             0.0156\n",
      "Time:                            16:07:23   Log-Likelihood:                -873.04\n",
      "No. Observations:                      44   AIC:                             1752.\n",
      "Df Residuals:                          41   BIC:                             1757.\n",
      "Df Model:                               2                                         \n",
      "Covariance Type:                nonrobust                                         \n",
      "========================================================================================\n",
      "                           coef    std err          t      P>|t|      [0.025      0.975]\n",
      "----------------------------------------------------------------------------------------\n",
      "Intercept             2.421e+08   9.36e+07      2.586      0.013     5.3e+07    4.31e+08\n",
      "data_df.index         1.147e+06   1.24e+06      0.928      0.359   -1.35e+06    3.64e+06\n",
      "Prev_Total_Sales_New    -0.3526      0.119     -2.955      0.005      -0.593      -0.112\n",
      "==============================================================================\n",
      "Omnibus:                        3.134   Durbin-Watson:                   2.294\n",
      "Prob(Omnibus):                  0.209   Jarque-Bera (JB):                2.195\n",
      "Skew:                           0.526   Prob(JB):                        0.334\n",
      "Kurtosis:                       3.299   Cond. No.                     4.59e+09\n",
      "==============================================================================\n",
      "\n",
      "Notes:\n",
      "[1] Standard Errors assume that the covariance matrix of the errors is correctly specified.\n",
      "[2] The condition number is large, 4.59e+09. This might indicate that there are\n",
      "strong multicollinearity or other numerical problems.\n"
     ]
    }
   ],
   "source": [
    "data_df['Prev_Total_Sales_New'] = data_df['Total_Sales_New'].shift(1)\n",
    "data_df['change_Total_Sales_New'] = data_df['Total_Sales_New'] - data_df['Prev_Total_Sales_New']\n",
    "\n",
    "\n",
    "mod1 = smf.ols(f'change_Total_Sales_New ~ data_df.index + Prev_Total_Sales_New', data = data_df).fit() \n",
    "print(mod1.summary())"
   ]
  },
  {
   "cell_type": "markdown",
   "id": "e00f7e38",
   "metadata": {},
   "source": [
    "Nonstaionary"
   ]
  },
  {
   "cell_type": "code",
   "execution_count": null,
   "id": "614f15d8",
   "metadata": {},
   "outputs": [],
   "source": []
  },
  {
   "cell_type": "code",
   "execution_count": 220,
   "id": "62c493ec",
   "metadata": {},
   "outputs": [
    {
     "name": "stdout",
     "output_type": "stream",
     "text": [
      "                                         OLS Regression Results                                        \n",
      "=======================================================================================================\n",
      "Dep. Variable:     change_change_Prev_Total_Sales_New   R-squared (uncentered):                   0.712\n",
      "Model:                                            OLS   Adj. R-squared (uncentered):              0.705\n",
      "Method:                                 Least Squares   F-statistic:                              103.9\n",
      "Date:                                Tue, 08 Oct 2024   Prob (F-statistic):                    6.31e-13\n",
      "Time:                                        16:07:25   Log-Likelihood:                         -852.88\n",
      "No. Observations:                                  43   AIC:                                      1708.\n",
      "Df Residuals:                                      42   BIC:                                      1710.\n",
      "Df Model:                                           1                                                  \n",
      "Covariance Type:                            nonrobust                                                  \n",
      "===============================================================================================\n",
      "                                  coef    std err          t      P>|t|      [0.025      0.975]\n",
      "-----------------------------------------------------------------------------------------------\n",
      "Prev_change_Total_Sales_New    -1.4002      0.137    -10.194      0.000      -1.677      -1.123\n",
      "==============================================================================\n",
      "Omnibus:                        5.009   Durbin-Watson:                   2.474\n",
      "Prob(Omnibus):                  0.082   Jarque-Bera (JB):                3.971\n",
      "Skew:                           0.725   Prob(JB):                        0.137\n",
      "Kurtosis:                       3.337   Cond. No.                         1.00\n",
      "==============================================================================\n",
      "\n",
      "Notes:\n",
      "[1] R² is computed without centering (uncentered) since the model does not contain a constant.\n",
      "[2] Standard Errors assume that the covariance matrix of the errors is correctly specified.\n"
     ]
    }
   ],
   "source": [
    "data_df['Prev_Total_Sales_New'] = data_df['Total_Sales_New'].shift(1)\n",
    "data_df['change_Total_Sales_New'] = data_df['Total_Sales_New'] - data_df['Prev_Total_Sales_New']\n",
    "\n",
    "data_df['Prev_change_Total_Sales_New'] = data_df['change_Total_Sales_New'].shift(1)\n",
    "data_df['change_change_Prev_Total_Sales_New'] = data_df['change_Total_Sales_New'] - data_df['Prev_change_Total_Sales_New']\n",
    "\n",
    "\n",
    "mod1 = smf.ols(f'change_change_Prev_Total_Sales_New ~ 0 + Prev_change_Total_Sales_New', data = data_df).fit() \n",
    "print(mod1.summary())"
   ]
  },
  {
   "cell_type": "markdown",
   "id": "d8502275",
   "metadata": {},
   "source": [
    "Stationary I(1)"
   ]
  },
  {
   "cell_type": "code",
   "execution_count": 221,
   "id": "9b0e8999",
   "metadata": {},
   "outputs": [
    {
     "name": "stdout",
     "output_type": "stream",
     "text": [
      "                              OLS Regression Results                              \n",
      "==================================================================================\n",
      "Dep. Variable:     change_Total_Sales_New   R-squared:                       0.750\n",
      "Model:                                OLS   Adj. R-squared:                  0.487\n",
      "Method:                     Least Squares   F-statistic:                     11.57\n",
      "Date:                    Tue, 08 Oct 2024   Prob (F-statistic):           1.49e-06\n",
      "Time:                            16:08:26   Log-Likelihood:                -764.60\n",
      "No. Observations:                      40   AIC:                             1571.\n",
      "Df Residuals:                          19   BIC:                             1607.\n",
      "Df Model:                              20                                         \n",
      "Covariance Type:                      HAC                                         \n",
      "======================================================================================================\n",
      "                                         coef    std err          z      P>|z|      [0.025      0.975]\n",
      "------------------------------------------------------------------------------------------------------\n",
      "Intercept                          -2.383e+07   1.79e+07     -1.333      0.183   -5.89e+07    1.12e+07\n",
      "change_MYAGM2USM052S_Prev              0.0003      0.000      2.801      0.005    9.61e-05       0.001\n",
      "change_CORESTICKM159SFRBATL_Prev   -9.321e+07   4.49e+07     -2.074      0.038   -1.81e+08   -5.14e+06\n",
      "change_UNRATE_Prev                 -1.037e+07   1.25e+07     -0.831      0.406   -3.48e+07    1.41e+07\n",
      "change_REAINTRATREARAT10Y_Prev      1.367e+08   5.35e+07      2.555      0.011    3.19e+07    2.42e+08\n",
      "change_CORESTICKM159SFRBATL_Prev_1   8.83e+06   3.91e+07      0.226      0.821   -6.78e+07    8.54e+07\n",
      "change_CORESTICKM159SFRBATL_Prev_2 -4.571e+07   2.29e+07     -1.998      0.046   -9.05e+07    -8.8e+05\n",
      "change_CORESTICKM159SFRBATL_Prev_3  -7.81e+06   4.37e+07     -0.179      0.858   -9.34e+07    7.78e+07\n",
      "change_CORESTICKM159SFRBATL_Prev_4  4.585e+07   4.39e+07      1.044      0.296   -4.02e+07    1.32e+08\n",
      "change_UNRATE_Prev_1                -3.51e+07   1.73e+07     -2.034      0.042   -6.89e+07   -1.28e+06\n",
      "change_UNRATE_Prev_2               -1.777e+07   1.25e+07     -1.416      0.157   -4.24e+07    6.82e+06\n",
      "change_UNRATE_Prev_3                2.666e+07   3.94e+07      0.676      0.499   -5.06e+07    1.04e+08\n",
      "change_UNRATE_Prev_4                4.125e+07   3.95e+07      1.044      0.297   -3.62e+07    1.19e+08\n",
      "change_REAINTRATREARAT10Y_Prev_1    2.813e+07   4.89e+07      0.575      0.565   -6.78e+07    1.24e+08\n",
      "change_REAINTRATREARAT10Y_Prev_2    1.159e+07   2.79e+07      0.415      0.678   -4.31e+07    6.63e+07\n",
      "change_REAINTRATREARAT10Y_Prev_3    4.609e+07   3.16e+07      1.460      0.144   -1.58e+07    1.08e+08\n",
      "change_REAINTRATREARAT10Y_Prev_4   -8.346e+07   3.75e+07     -2.223      0.026   -1.57e+08   -9.88e+06\n",
      "change_MYAGM2USM052S_Prev_1         9.529e-05      0.000      0.742      0.458      -0.000       0.000\n",
      "change_MYAGM2USM052S_Prev_2            0.0001   3.87e-05      2.716      0.007    2.93e-05       0.000\n",
      "change_MYAGM2USM052S_Prev_3        -2.678e-05   7.33e-05     -0.365      0.715      -0.000       0.000\n",
      "change_MYAGM2USM052S_Prev_4           -0.0003      0.000     -3.072      0.002      -0.001      -0.000\n",
      "==============================================================================\n",
      "Omnibus:                        3.096   Durbin-Watson:                   2.268\n",
      "Prob(Omnibus):                  0.213   Jarque-Bera (JB):                2.036\n",
      "Skew:                          -0.518   Prob(JB):                        0.361\n",
      "Kurtosis:                       3.386   Cond. No.                     4.36e+12\n",
      "==============================================================================\n",
      "\n",
      "Notes:\n",
      "[1] Standard Errors are heteroscedasticity and autocorrelation robust (HAC) using 4 lags and without small sample correction\n",
      "[2] The condition number is large, 4.36e+12. This might indicate that there are\n",
      "strong multicollinearity or other numerical problems.\n"
     ]
    },
    {
     "name": "stderr",
     "output_type": "stream",
     "text": [
      "/Users/evanbruno/opt/anaconda3/lib/python3.9/site-packages/statsmodels/base/model.py:1896: ValueWarning: covariance of constraints does not have full rank. The number of constraints is 20, but rank is 15\n",
      "  warnings.warn('covariance of constraints does not have full '\n"
     ]
    }
   ],
   "source": [
    "formula = 'change_MYAGM2USM052S_Prev + change_CORESTICKM159SFRBATL_Prev + change_UNRATE_Prev + change_REAINTRATREARAT10Y_Prev'\n",
    "\n",
    "lags = 5\n",
    "\n",
    "variables = ['change_CORESTICKM159SFRBATL_Prev', 'change_UNRATE_Prev', 'change_REAINTRATREARAT10Y_Prev', 'change_MYAGM2USM052S_Prev']\n",
    "\n",
    "for var in variables:\n",
    "\n",
    "    for i in range(1, lags):\n",
    "\n",
    "        formula = formula + f' + {var}_{i}'\n",
    "\n",
    "\n",
    "\n",
    "\n",
    "mod1 = smf.ols(f'change_Total_Sales_New ~ {formula}', data = data_df)\n",
    "results = mod1.fit(cov_type='HAC', cov_kwds={'maxlags': 4})  \n",
    "print(results.summary())"
   ]
  },
  {
   "cell_type": "code",
   "execution_count": 247,
   "id": "b71789bc",
   "metadata": {},
   "outputs": [
    {
     "data": {
      "text/plain": [
       "2124002948538017.5"
      ]
     },
     "execution_count": 247,
     "metadata": {},
     "output_type": "execute_result"
    }
   ],
   "source": [
    "from sklearn.metrics import mean_squared_error\n",
    "\n",
    "formula = ['change_MYAGM2USM052S_Prev', 'change_CORESTICKM159SFRBATL_Prev', 'change_UNRATE_Prev', 'change_REAINTRATREARAT10Y_Prev']\n",
    "\n",
    "lags = 5\n",
    "\n",
    "variables = ['change_CORESTICKM159SFRBATL_Prev', 'change_UNRATE_Prev', 'change_REAINTRATREARAT10Y_Prev', 'change_MYAGM2USM052S_Prev']\n",
    "\n",
    "for var in variables:\n",
    "\n",
    "    for i in range(1, lags):\n",
    "\n",
    "        formula.append(f'{var}_{i}')\n",
    "        \n",
    "formula.append('change_Total_Sales_Used')\n",
    "\n",
    "test_df = data_df[formula].dropna()\n",
    "\n",
    "pred = model.predict(test_df[formula[:-1]])\n",
    "\n",
    "mse = mean_squared_error(test_df['change_Total_Sales_Used'], pred)\n",
    "\n",
    "mse"
   ]
  },
  {
   "cell_type": "code",
   "execution_count": 175,
   "id": "c8e0c554",
   "metadata": {},
   "outputs": [
    {
     "name": "stdout",
     "output_type": "stream",
     "text": [
      "Autocorrelations for the first four lags:\n",
      "Lag 1: 1.0\n",
      "Lag 2: -0.1413046968145453\n",
      "Lag 3: -0.07884733764132414\n",
      "Lag 4: 0.015430903873462376\n",
      "Lag 5: -0.16940920313859778\n",
      "Lag 6: 0.1011752931233515\n"
     ]
    }
   ],
   "source": [
    "\n",
    "from statsmodels.tsa.stattools import acf\n",
    "\n",
    "\n",
    "# Get residuals\n",
    "residuals = results.resid\n",
    "\n",
    "\n",
    "# Calculate autocorrelations for the first four lags\n",
    "acf_res = acf(residuals, fft=False, nlags=5)\n",
    "\n",
    "# Print autocorrelations\n",
    "print(\"Autocorrelations for the first four lags:\")\n",
    "for lag, acf_value in enumerate(acf_res):\n",
    "    print(f\"Lag {lag + 1}: {acf_value}\")"
   ]
  },
  {
   "cell_type": "code",
   "execution_count": 178,
   "id": "32757ea7",
   "metadata": {},
   "outputs": [
    {
     "data": {
      "text/plain": [
       "0.2921795490599725"
      ]
     },
     "execution_count": 178,
     "metadata": {},
     "output_type": "execute_result"
    }
   ],
   "source": [
    "1.96 / math.sqrt(len(data_df))"
   ]
  },
  {
   "cell_type": "code",
   "execution_count": 179,
   "id": "c48d80cc",
   "metadata": {},
   "outputs": [
    {
     "name": "stdout",
     "output_type": "stream",
     "text": [
      "                            OLS Regression Results                            \n",
      "==============================================================================\n",
      "Dep. Variable:                  Resid   R-squared:                       0.355\n",
      "Model:                            OLS   Adj. R-squared:                 -0.325\n",
      "Method:                 Least Squares   F-statistic:                    0.5222\n",
      "Date:                Tue, 08 Oct 2024   Prob (F-statistic):              0.921\n",
      "Time:                        14:29:40   Log-Likelihood:                -1427.7\n",
      "No. Observations:                  40   AIC:                             2897.\n",
      "Df Residuals:                      19   BIC:                             2933.\n",
      "Df Model:                          20                                         \n",
      "Covariance Type:            nonrobust                                         \n",
      "======================================================================================================\n",
      "                                         coef    std err          t      P>|t|      [0.025      0.975]\n",
      "------------------------------------------------------------------------------------------------------\n",
      "Intercept                           4.729e+14   6.79e+14      0.697      0.494   -9.47e+14    1.89e+15\n",
      "change_MYAGM2USM052S_Prev            942.4919   2917.705      0.323      0.750   -5164.335    7049.319\n",
      "change_CORESTICKM159SFRBATL_Prev    1.682e+15   1.05e+15      1.604      0.125   -5.12e+14    3.88e+15\n",
      "change_UNRATE_Prev                  2.725e+14    4.7e+14      0.580      0.569   -7.11e+14    1.26e+15\n",
      "change_REAINTRATREARAT10Y_Prev      9.635e+14   1.45e+15      0.665      0.514   -2.07e+15       4e+15\n",
      "change_CORESTICKM159SFRBATL_Prev_1  4.345e+14   1.04e+15      0.419      0.680   -1.73e+15     2.6e+15\n",
      "change_CORESTICKM159SFRBATL_Prev_2 -4.877e+14   7.31e+14     -0.667      0.513   -2.02e+15    1.04e+15\n",
      "change_CORESTICKM159SFRBATL_Prev_3  8.817e+14   1.06e+15      0.830      0.417   -1.34e+15    3.11e+15\n",
      "change_CORESTICKM159SFRBATL_Prev_4 -4.197e+14   1.05e+15     -0.400      0.694   -2.62e+15    1.78e+15\n",
      "change_UNRATE_Prev_1                3.225e+14    4.7e+14      0.686      0.501   -6.61e+14    1.31e+15\n",
      "change_UNRATE_Prev_2               -4.161e+14   4.26e+14     -0.976      0.341   -1.31e+15    4.76e+14\n",
      "change_UNRATE_Prev_3                6.592e+14   8.36e+14      0.788      0.440   -1.09e+15    2.41e+15\n",
      "change_UNRATE_Prev_4                6.572e+12   8.33e+14      0.008      0.994   -1.74e+15    1.75e+15\n",
      "change_REAINTRATREARAT10Y_Prev_1    1.059e+15   1.12e+15      0.943      0.357   -1.29e+15    3.41e+15\n",
      "change_REAINTRATREARAT10Y_Prev_2    8.384e+14    8.9e+14      0.942      0.358   -1.02e+15     2.7e+15\n",
      "change_REAINTRATREARAT10Y_Prev_3    5.681e+14   1.06e+15      0.538      0.597   -1.64e+15    2.78e+15\n",
      "change_REAINTRATREARAT10Y_Prev_4    8.389e+14   9.39e+14      0.893      0.383   -1.13e+15     2.8e+15\n",
      "change_MYAGM2USM052S_Prev_1          389.2285   3038.407      0.128      0.899   -5970.231    6748.688\n",
      "change_MYAGM2USM052S_Prev_2          922.2254   1308.588      0.705      0.490   -1816.681    3661.131\n",
      "change_MYAGM2USM052S_Prev_3         -154.4282   2593.433     -0.060      0.953   -5582.546    5273.689\n",
      "change_MYAGM2USM052S_Prev_4          260.1089   2824.428      0.092      0.928   -5651.487    6171.705\n",
      "==============================================================================\n",
      "Omnibus:                        5.534   Durbin-Watson:                   1.871\n",
      "Prob(Omnibus):                  0.063   Jarque-Bera (JB):                4.157\n",
      "Skew:                           0.684   Prob(JB):                        0.125\n",
      "Kurtosis:                       3.790   Cond. No.                     4.36e+12\n",
      "==============================================================================\n",
      "\n",
      "Notes:\n",
      "[1] Standard Errors assume that the covariance matrix of the errors is correctly specified.\n",
      "[2] The condition number is large, 4.36e+12. This might indicate that there are\n",
      "strong multicollinearity or other numerical problems.\n"
     ]
    }
   ],
   "source": [
    "data_df['Resid'] = residuals ** 2\n",
    "\n",
    "mod1 = smf.ols(f'Resid ~ {formula}', data = data_df)\n",
    "results = mod1.fit()  \n",
    "print(results.summary())"
   ]
  },
  {
   "cell_type": "code",
   "execution_count": 181,
   "id": "b480b982",
   "metadata": {},
   "outputs": [
    {
     "data": {
      "text/plain": [
       "15.975"
      ]
     },
     "execution_count": 181,
     "metadata": {},
     "output_type": "execute_result"
    }
   ],
   "source": [
    "len(data_df) * 0.355"
   ]
  },
  {
   "cell_type": "markdown",
   "id": "db59baf7",
   "metadata": {},
   "source": [
    "at 24 degrees of freedom 5% crit value is 36.42 and since 15.975 is less than this value passes test of homoskedaticity"
   ]
  },
  {
   "cell_type": "markdown",
   "id": "33d73d98",
   "metadata": {},
   "source": [
    "## Assumptions of Finite Distributed Lag Model\n",
    "\n",
    "1. Time series for both dependent and independent variables are stationary as testing previously\n",
    "2. finite distributed lag model is written as y = alpha + B0x ... \n",
    "3. error term is not auto correlated as the 5% crit value is 0.29 and the correlations do not exceed this threshold\n",
    "4. test for homoskedaticity remains valid"
   ]
  },
  {
   "cell_type": "markdown",
   "id": "7b9c31b2",
   "metadata": {},
   "source": [
    "# Avg Used"
   ]
  },
  {
   "cell_type": "code",
   "execution_count": 183,
   "id": "d3282c95",
   "metadata": {},
   "outputs": [
    {
     "data": {
      "text/plain": [
       "<AxesSubplot:>"
      ]
     },
     "execution_count": 183,
     "metadata": {},
     "output_type": "execute_result"
    },
    {
     "data": {
      "image/png": "[encoded data removed]",
      "text/plain": [
       "<Figure size 640x480 with 1 Axes>"
      ]
     },
     "metadata": {},
     "output_type": "display_data"
    }
   ],
   "source": [
    "data_df.plot(y='Avg_Used')"
   ]
  },
  {
   "cell_type": "code",
   "execution_count": 184,
   "id": "9b0b4f4b",
   "metadata": {},
   "outputs": [
    {
     "name": "stdout",
     "output_type": "stream",
     "text": [
      "                            OLS Regression Results                            \n",
      "==============================================================================\n",
      "Dep. Variable:        change_Avg_Used   R-squared:                       0.115\n",
      "Model:                            OLS   Adj. R-squared:                  0.071\n",
      "Method:                 Least Squares   F-statistic:                     2.655\n",
      "Date:                Tue, 08 Oct 2024   Prob (F-statistic):             0.0824\n",
      "Time:                        14:32:30   Log-Likelihood:                -325.71\n",
      "No. Observations:                  44   AIC:                             657.4\n",
      "Df Residuals:                      41   BIC:                             662.8\n",
      "Df Model:                           2                                         \n",
      "Covariance Type:            nonrobust                                         \n",
      "=================================================================================\n",
      "                    coef    std err          t      P>|t|      [0.025      0.975]\n",
      "---------------------------------------------------------------------------------\n",
      "Intercept      1590.5494    807.794      1.969      0.056     -40.823    3221.922\n",
      "data_df.index    19.9066      8.690      2.291      0.027       2.358      37.456\n",
      "Prev_Avg_Used    -0.2201      0.108     -2.034      0.048      -0.439      -0.002\n",
      "==============================================================================\n",
      "Omnibus:                        7.627   Durbin-Watson:                   2.283\n",
      "Prob(Omnibus):                  0.022   Jarque-Bera (JB):               10.136\n",
      "Skew:                          -0.424   Prob(JB):                      0.00629\n",
      "Kurtosis:                       5.193   Cond. No.                     1.16e+05\n",
      "==============================================================================\n",
      "\n",
      "Notes:\n",
      "[1] Standard Errors assume that the covariance matrix of the errors is correctly specified.\n",
      "[2] The condition number is large, 1.16e+05. This might indicate that there are\n",
      "strong multicollinearity or other numerical problems.\n"
     ]
    }
   ],
   "source": [
    "data_df['Prev_Avg_Used'] = data_df['Avg_Used'].shift(1)\n",
    "data_df['change_Avg_Used'] = data_df['Avg_Used'] - data_df['Prev_Avg_Used']\n",
    "\n",
    "\n",
    "mod1 = smf.ols(f'change_Avg_Used ~ data_df.index + Prev_Avg_Used', data = data_df).fit() \n",
    "print(mod1.summary())"
   ]
  },
  {
   "cell_type": "code",
   "execution_count": 185,
   "id": "399b5ff2",
   "metadata": {},
   "outputs": [
    {
     "name": "stdout",
     "output_type": "stream",
     "text": [
      "                                     OLS Regression Results                                     \n",
      "================================================================================================\n",
      "Dep. Variable:     change_change_Prev_Avg_Used   R-squared (uncentered):                   0.612\n",
      "Model:                                     OLS   Adj. R-squared (uncentered):              0.603\n",
      "Method:                          Least Squares   F-statistic:                              66.30\n",
      "Date:                         Tue, 08 Oct 2024   Prob (F-statistic):                    3.54e-10\n",
      "Time:                                 14:33:24   Log-Likelihood:                         -320.96\n",
      "No. Observations:                           43   AIC:                                      643.9\n",
      "Df Residuals:                               42   BIC:                                      645.7\n",
      "Df Model:                                    1                                                  \n",
      "Covariance Type:                     nonrobust                                                  \n",
      "========================================================================================\n",
      "                           coef    std err          t      P>|t|      [0.025      0.975]\n",
      "----------------------------------------------------------------------------------------\n",
      "Prev_change_Avg_Used    -1.2465      0.153     -8.143      0.000      -1.555      -0.938\n",
      "==============================================================================\n",
      "Omnibus:                       10.965   Durbin-Watson:                   1.880\n",
      "Prob(Omnibus):                  0.004   Jarque-Bera (JB):               13.770\n",
      "Skew:                          -0.776   Prob(JB):                      0.00102\n",
      "Kurtosis:                       5.297   Cond. No.                         1.00\n",
      "==============================================================================\n",
      "\n",
      "Notes:\n",
      "[1] R² is computed without centering (uncentered) since the model does not contain a constant.\n",
      "[2] Standard Errors assume that the covariance matrix of the errors is correctly specified.\n"
     ]
    }
   ],
   "source": [
    "data_df['Prev_Avg_Used'] = data_df['Avg_Used'].shift(1)\n",
    "data_df['change_Avg_Used'] = data_df['Avg_Used'] - data_df['Prev_Avg_Used']\n",
    "\n",
    "data_df['Prev_change_Avg_Used'] = data_df['change_Avg_Used'].shift(1)\n",
    "data_df['change_change_Prev_Avg_Used'] = data_df['change_Avg_Used'] - data_df['Prev_change_Avg_Used']\n",
    "\n",
    "\n",
    "mod1 = smf.ols(f'change_change_Prev_Avg_Used ~ 0 + Prev_change_Avg_Used', data = data_df).fit() \n",
    "print(mod1.summary())"
   ]
  },
  {
   "cell_type": "code",
   "execution_count": 186,
   "id": "8841b5f2",
   "metadata": {},
   "outputs": [
    {
     "name": "stdout",
     "output_type": "stream",
     "text": [
      "                            OLS Regression Results                            \n",
      "==============================================================================\n",
      "Dep. Variable:        change_Avg_Used   R-squared:                       0.756\n",
      "Model:                            OLS   Adj. R-squared:                  0.500\n",
      "Method:                 Least Squares   F-statistic:                     16.64\n",
      "Date:                Tue, 08 Oct 2024   Prob (F-statistic):           7.59e-08\n",
      "Time:                        14:33:44   Log-Likelihood:                -262.79\n",
      "No. Observations:                  40   AIC:                             567.6\n",
      "Df Residuals:                      19   BIC:                             603.1\n",
      "Df Model:                          20                                         \n",
      "Covariance Type:                  HAC                                         \n",
      "======================================================================================================\n",
      "                                         coef    std err          z      P>|z|      [0.025      0.975]\n",
      "------------------------------------------------------------------------------------------------------\n",
      "Intercept                             68.8702    110.851      0.621      0.534    -148.393     286.134\n",
      "change_MYAGM2USM052S_Prev           9.199e-10   5.24e-10      1.756      0.079   -1.07e-10    1.95e-09\n",
      "change_CORESTICKM159SFRBATL_Prev    -333.2487    129.391     -2.576      0.010    -586.849     -79.648\n",
      "change_UNRATE_Prev                  -234.9566     59.621     -3.941      0.000    -351.811    -118.102\n",
      "change_REAINTRATREARAT10Y_Prev        98.2372    370.641      0.265      0.791    -628.205     824.679\n",
      "change_CORESTICKM159SFRBATL_Prev_1    -0.1844     81.203     -0.002      0.998    -159.340     158.971\n",
      "change_CORESTICKM159SFRBATL_Prev_2  -465.4727    114.560     -4.063      0.000    -690.007    -240.938\n",
      "change_CORESTICKM159SFRBATL_Prev_3   263.8753    141.008      1.871      0.061     -12.495     540.246\n",
      "change_CORESTICKM159SFRBATL_Prev_4    86.5377    136.604      0.633      0.526    -181.201     354.276\n",
      "change_UNRATE_Prev_1                  48.4558     58.080      0.834      0.404     -65.378     162.290\n",
      "change_UNRATE_Prev_2                 -71.5309     52.078     -1.374      0.170    -173.601      30.540\n",
      "change_UNRATE_Prev_3                  51.6931    129.800      0.398      0.690    -202.711     306.097\n",
      "change_UNRATE_Prev_4                  93.1604    141.062      0.660      0.509    -183.316     369.636\n",
      "change_REAINTRATREARAT10Y_Prev_1     428.7605    163.720      2.619      0.009     107.875     749.646\n",
      "change_REAINTRATREARAT10Y_Prev_2     -81.0787    122.246     -0.663      0.507    -320.676     158.519\n",
      "change_REAINTRATREARAT10Y_Prev_3     -46.7147    129.787     -0.360      0.719    -301.093     207.663\n",
      "change_REAINTRATREARAT10Y_Prev_4       1.8490     90.784      0.020      0.984    -176.085     179.783\n",
      "change_MYAGM2USM052S_Prev_1         5.838e-10   5.15e-10      1.134      0.257   -4.26e-10    1.59e-09\n",
      "change_MYAGM2USM052S_Prev_2          6.89e-10   1.31e-10      5.246      0.000    4.32e-10    9.46e-10\n",
      "change_MYAGM2USM052S_Prev_3        -1.721e-09   3.85e-10     -4.467      0.000   -2.48e-09   -9.66e-10\n",
      "change_MYAGM2USM052S_Prev_4        -3.586e-10   4.02e-10     -0.893      0.372   -1.15e-09    4.29e-10\n",
      "==============================================================================\n",
      "Omnibus:                        7.029   Durbin-Watson:                   1.656\n",
      "Prob(Omnibus):                  0.030   Jarque-Bera (JB):                6.955\n",
      "Skew:                          -0.565   Prob(JB):                       0.0309\n",
      "Kurtosis:                       4.702   Cond. No.                     4.36e+12\n",
      "==============================================================================\n",
      "\n",
      "Notes:\n",
      "[1] Standard Errors are heteroscedasticity and autocorrelation robust (HAC) using 4 lags and without small sample correction\n",
      "[2] The condition number is large, 4.36e+12. This might indicate that there are\n",
      "strong multicollinearity or other numerical problems.\n"
     ]
    },
    {
     "name": "stderr",
     "output_type": "stream",
     "text": [
      "/Users/evanbruno/opt/anaconda3/lib/python3.9/site-packages/statsmodels/base/model.py:1896: ValueWarning: covariance of constraints does not have full rank. The number of constraints is 20, but rank is 15\n",
      "  warnings.warn('covariance of constraints does not have full '\n"
     ]
    }
   ],
   "source": [
    "formula = 'change_MYAGM2USM052S_Prev + change_CORESTICKM159SFRBATL_Prev + change_UNRATE_Prev + change_REAINTRATREARAT10Y_Prev'\n",
    "\n",
    "lags = 5\n",
    "\n",
    "variables = ['change_CORESTICKM159SFRBATL_Prev', 'change_UNRATE_Prev', 'change_REAINTRATREARAT10Y_Prev', 'change_MYAGM2USM052S_Prev']\n",
    "\n",
    "for var in variables:\n",
    "\n",
    "    for i in range(1, lags):\n",
    "\n",
    "        formula = formula + f' + {var}_{i}'\n",
    "\n",
    "\n",
    "\n",
    "\n",
    "mod1 = smf.ols(f'change_Avg_Used ~ {formula}', data = data_df)\n",
    "results = mod1.fit(cov_type='HAC', cov_kwds={'maxlags': 4})  \n",
    "print(results.summary())"
   ]
  },
  {
   "cell_type": "code",
   "execution_count": 187,
   "id": "1ce7d5f3",
   "metadata": {},
   "outputs": [
    {
     "name": "stdout",
     "output_type": "stream",
     "text": [
      "Autocorrelations for the first four lags:\n",
      "Lag 1: 1.0\n",
      "Lag 2: 0.15951108071863396\n",
      "Lag 3: 0.19185326012079484\n",
      "Lag 4: 0.21401822767488965\n",
      "Lag 5: -0.26992824609571175\n",
      "Lag 6: -0.03720902705586824\n"
     ]
    }
   ],
   "source": [
    "\n",
    "from statsmodels.tsa.stattools import acf\n",
    "\n",
    "\n",
    "# Get residuals\n",
    "residuals = results.resid\n",
    "\n",
    "\n",
    "# Calculate autocorrelations for the first four lags\n",
    "acf_res = acf(residuals, fft=False, nlags=5)\n",
    "\n",
    "# Print autocorrelations\n",
    "print(\"Autocorrelations for the first four lags:\")\n",
    "for lag, acf_value in enumerate(acf_res):\n",
    "    print(f\"Lag {lag + 1}: {acf_value}\")"
   ]
  },
  {
   "cell_type": "code",
   "execution_count": 189,
   "id": "2df61fcd",
   "metadata": {},
   "outputs": [
    {
     "name": "stdout",
     "output_type": "stream",
     "text": [
      "                            OLS Regression Results                            \n",
      "==============================================================================\n",
      "Dep. Variable:                  Resid   R-squared:                       0.611\n",
      "Model:                            OLS   Adj. R-squared:                 -0.057\n",
      "Method:                 Least Squares   F-statistic:                    0.9145\n",
      "Date:                Tue, 08 Oct 2024   Prob (F-statistic):              0.590\n",
      "Time:                        14:34:18   Log-Likelihood:                -464.74\n",
      "No. Observations:                  39   AIC:                             979.5\n",
      "Df Residuals:                      14   BIC:                             1021.\n",
      "Df Model:                          24                                         \n",
      "Covariance Type:            nonrobust                                         \n",
      "======================================================================================================\n",
      "                                         coef    std err          t      P>|t|      [0.025      0.975]\n",
      "------------------------------------------------------------------------------------------------------\n",
      "Intercept                           4.985e+04   4.16e+04      1.199      0.251   -3.93e+04    1.39e+05\n",
      "change_MYAGM2USM052S_Prev          -3.187e-07   1.69e-07     -1.881      0.081   -6.82e-07    4.46e-08\n",
      "change_CORESTICKM159SFRBATL_Prev   -3.355e+04   6.13e+04     -0.547      0.593   -1.65e+05     9.8e+04\n",
      "change_UNRATE_Prev                  -1.92e+04   2.58e+04     -0.745      0.468   -7.45e+04    3.61e+04\n",
      "change_REAINTRATREARAT10Y_Prev     -1.776e+05   8.12e+04     -2.186      0.046   -3.52e+05   -3315.887\n",
      "change_CORESTICKM159SFRBATL_Prev_1  4.147e+04    6.1e+04      0.680      0.507   -8.93e+04    1.72e+05\n",
      "change_CORESTICKM159SFRBATL_Prev_2 -8.302e+04   5.88e+04     -1.412      0.180   -2.09e+05    4.31e+04\n",
      "change_CORESTICKM159SFRBATL_Prev_3 -6.318e+04   6.36e+04     -0.994      0.337   -1.99e+05    7.31e+04\n",
      "change_CORESTICKM159SFRBATL_Prev_4 -1.543e+04    6.3e+04     -0.245      0.810   -1.51e+05     1.2e+05\n",
      "change_CORESTICKM159SFRBATL_Prev_5  7.044e+04   5.81e+04      1.212      0.246   -5.42e+04    1.95e+05\n",
      "change_UNRATE_Prev_1                3.831e+04    2.9e+04      1.321      0.208   -2.39e+04       1e+05\n",
      "change_UNRATE_Prev_2               -3.402e+04   2.63e+04     -1.292      0.217   -9.05e+04    2.25e+04\n",
      "change_UNRATE_Prev_3               -1.001e+05   5.03e+04     -1.988      0.067   -2.08e+05    7883.806\n",
      "change_UNRATE_Prev_4               -2.321e+04   5.11e+04     -0.454      0.657   -1.33e+05    8.64e+04\n",
      "change_UNRATE_Prev_5                 2.92e+04   4.69e+04      0.623      0.543   -7.14e+04     1.3e+05\n",
      "change_REAINTRATREARAT10Y_Prev_1    6926.7499   8.09e+04      0.086      0.933   -1.67e+05    1.81e+05\n",
      "change_REAINTRATREARAT10Y_Prev_2   -6.294e+04   6.17e+04     -1.020      0.325   -1.95e+05    6.94e+04\n",
      "change_REAINTRATREARAT10Y_Prev_3    -7.75e+04   5.96e+04     -1.301      0.214   -2.05e+05    5.02e+04\n",
      "change_REAINTRATREARAT10Y_Prev_4   -3277.3228   5.96e+04     -0.055      0.957   -1.31e+05    1.25e+05\n",
      "change_REAINTRATREARAT10Y_Prev_5    5.611e+04   5.53e+04      1.016      0.327   -6.24e+04    1.75e+05\n",
      "change_MYAGM2USM052S_Prev_1        -1.007e-07   1.77e-07     -0.568      0.579   -4.81e-07    2.79e-07\n",
      "change_MYAGM2USM052S_Prev_2          3.17e-07   1.75e-07      1.811      0.092   -5.83e-08    6.92e-07\n",
      "change_MYAGM2USM052S_Prev_3         2.249e-07   1.56e-07      1.438      0.172    -1.1e-07     5.6e-07\n",
      "change_MYAGM2USM052S_Prev_4         6.129e-08   1.56e-07      0.392      0.701   -2.74e-07    3.96e-07\n",
      "change_MYAGM2USM052S_Prev_5        -3.478e-07   1.65e-07     -2.105      0.054   -7.02e-07    6.56e-09\n",
      "==============================================================================\n",
      "Omnibus:                        8.864   Durbin-Watson:                   2.112\n",
      "Prob(Omnibus):                  0.012   Jarque-Bera (JB):                7.923\n",
      "Skew:                           0.879   Prob(JB):                       0.0190\n",
      "Kurtosis:                       4.335   Cond. No.                     5.40e+12\n",
      "==============================================================================\n",
      "\n",
      "Notes:\n",
      "[1] Standard Errors assume that the covariance matrix of the errors is correctly specified.\n",
      "[2] The condition number is large, 5.4e+12. This might indicate that there are\n",
      "strong multicollinearity or other numerical problems.\n"
     ]
    }
   ],
   "source": [
    "data_df['Resid'] = residuals ** 2\n",
    "\n",
    "mod1 = smf.ols(f'Resid ~ {formula}', data = data_df)\n",
    "results = mod1.fit()  \n",
    "print(results.summary())"
   ]
  },
  {
   "cell_type": "code",
   "execution_count": 190,
   "id": "7bde735c",
   "metadata": {},
   "outputs": [
    {
     "data": {
      "text/plain": [
       "27.495"
      ]
     },
     "execution_count": 190,
     "metadata": {},
     "output_type": "execute_result"
    }
   ],
   "source": [
    "len(data_df) * 0.611"
   ]
  },
  {
   "cell_type": "markdown",
   "id": "5e0c9bfd",
   "metadata": {},
   "source": [
    "at 24 degrees of freedom 5% crit value is 36.42 and since 27.495 is less than this value passes test of homoskedaticity"
   ]
  },
  {
   "cell_type": "markdown",
   "id": "e21ffec8",
   "metadata": {},
   "source": [
    "## Assumptions of Finite Distributed Lag Model\n",
    "\n",
    "1. Time series for both dependent and independent variables are stationary as testing previously\n",
    "2. finite distributed lag model is written as y = alpha + B0x ... \n",
    "3. error term is not auto correlated as the 5% crit value is 0.29 and the correlations do not exceed this threshold\n",
    "4. test for homoskedaticity remains valid"
   ]
  },
  {
   "cell_type": "markdown",
   "id": "13012f97",
   "metadata": {},
   "source": [
    "# Avg_New"
   ]
  },
  {
   "cell_type": "code",
   "execution_count": 191,
   "id": "14a22da2",
   "metadata": {},
   "outputs": [
    {
     "data": {
      "text/plain": [
       "<AxesSubplot:>"
      ]
     },
     "execution_count": 191,
     "metadata": {},
     "output_type": "execute_result"
    },
    {
     "data": {
      "image/png": "[encoded data removed]",
      "text/plain": [
       "<Figure size 640x480 with 1 Axes>"
      ]
     },
     "metadata": {},
     "output_type": "display_data"
    }
   ],
   "source": [
    "data_df.plot(y='Avg_New')"
   ]
  },
  {
   "cell_type": "code",
   "execution_count": 192,
   "id": "dbdeac5e",
   "metadata": {},
   "outputs": [
    {
     "name": "stdout",
     "output_type": "stream",
     "text": [
      "                            OLS Regression Results                            \n",
      "==============================================================================\n",
      "Dep. Variable:         change_Avg_New   R-squared:                       0.184\n",
      "Model:                            OLS   Adj. R-squared:                  0.144\n",
      "Method:                 Least Squares   F-statistic:                     4.612\n",
      "Date:                Tue, 08 Oct 2024   Prob (F-statistic):             0.0156\n",
      "Time:                        14:36:07   Log-Likelihood:                -347.66\n",
      "No. Observations:                  44   AIC:                             701.3\n",
      "Df Residuals:                      41   BIC:                             706.7\n",
      "Df Model:                           2                                         \n",
      "Covariance Type:            nonrobust                                         \n",
      "=================================================================================\n",
      "                    coef    std err          t      P>|t|      [0.025      0.975]\n",
      "---------------------------------------------------------------------------------\n",
      "Intercept      9953.8070   3344.954      2.976      0.005    3198.535    1.67e+04\n",
      "data_df.index    89.3077     29.423      3.035      0.004      29.887     148.728\n",
      "Prev_Avg_New     -0.4058      0.138     -2.947      0.005      -0.684      -0.128\n",
      "==============================================================================\n",
      "Omnibus:                        1.665   Durbin-Watson:                   1.907\n",
      "Prob(Omnibus):                  0.435   Jarque-Bera (JB):                0.891\n",
      "Skew:                          -0.311   Prob(JB):                        0.640\n",
      "Kurtosis:                       3.316   Cond. No.                     9.50e+05\n",
      "==============================================================================\n",
      "\n",
      "Notes:\n",
      "[1] Standard Errors assume that the covariance matrix of the errors is correctly specified.\n",
      "[2] The condition number is large, 9.5e+05. This might indicate that there are\n",
      "strong multicollinearity or other numerical problems.\n"
     ]
    }
   ],
   "source": [
    "data_df['Prev_Avg_New'] = data_df['Avg_New'].shift(1)\n",
    "data_df['change_Avg_New'] = data_df['Avg_New'] - data_df['Prev_Avg_New']\n",
    "\n",
    "\n",
    "mod1 = smf.ols(f'change_Avg_New ~ data_df.index + Prev_Avg_New', data = data_df).fit() \n",
    "print(mod1.summary())"
   ]
  },
  {
   "cell_type": "code",
   "execution_count": 193,
   "id": "26b0903b",
   "metadata": {},
   "outputs": [
    {
     "name": "stdout",
     "output_type": "stream",
     "text": [
      "                                     OLS Regression Results                                    \n",
      "===============================================================================================\n",
      "Dep. Variable:     change_change_Prev_Avg_New   R-squared (uncentered):                   0.523\n",
      "Model:                                    OLS   Adj. R-squared (uncentered):              0.512\n",
      "Method:                         Least Squares   F-statistic:                              46.10\n",
      "Date:                        Tue, 08 Oct 2024   Prob (F-statistic):                    2.91e-08\n",
      "Time:                                14:36:49   Log-Likelihood:                         -346.70\n",
      "No. Observations:                          43   AIC:                                      695.4\n",
      "Df Residuals:                              42   BIC:                                      697.2\n",
      "Df Model:                                   1                                                  \n",
      "Covariance Type:                    nonrobust                                                  \n",
      "=======================================================================================\n",
      "                          coef    std err          t      P>|t|      [0.025      0.975]\n",
      "---------------------------------------------------------------------------------------\n",
      "Prev_change_Avg_New    -1.0945      0.161     -6.789      0.000      -1.420      -0.769\n",
      "==============================================================================\n",
      "Omnibus:                       11.345   Durbin-Watson:                   1.926\n",
      "Prob(Omnibus):                  0.003   Jarque-Bera (JB):               12.369\n",
      "Skew:                          -0.916   Prob(JB):                      0.00206\n",
      "Kurtosis:                       4.884   Cond. No.                         1.00\n",
      "==============================================================================\n",
      "\n",
      "Notes:\n",
      "[1] R² is computed without centering (uncentered) since the model does not contain a constant.\n",
      "[2] Standard Errors assume that the covariance matrix of the errors is correctly specified.\n"
     ]
    }
   ],
   "source": [
    "data_df['Prev_Avg_New'] = data_df['Avg_New'].shift(1)\n",
    "data_df['change_Avg_New'] = data_df['Avg_New'] - data_df['Prev_Avg_New']\n",
    "\n",
    "data_df['Prev_change_Avg_New'] = data_df['change_Avg_New'].shift(1)\n",
    "data_df['change_change_Prev_Avg_New'] = data_df['change_Avg_New'] - data_df['Prev_change_Avg_New']\n",
    "\n",
    "\n",
    "mod1 = smf.ols(f'change_change_Prev_Avg_New ~ 0 + Prev_change_Avg_New', data = data_df).fit() \n",
    "print(mod1.summary())"
   ]
  },
  {
   "cell_type": "code",
   "execution_count": 194,
   "id": "248795be",
   "metadata": {},
   "outputs": [
    {
     "name": "stdout",
     "output_type": "stream",
     "text": [
      "                            OLS Regression Results                            \n",
      "==============================================================================\n",
      "Dep. Variable:         change_Avg_New   R-squared:                       0.567\n",
      "Model:                            OLS   Adj. R-squared:                  0.110\n",
      "Method:                 Least Squares   F-statistic:                     25.15\n",
      "Date:                Tue, 08 Oct 2024   Prob (F-statistic):           2.17e-09\n",
      "Time:                        14:44:11   Log-Likelihood:                -305.18\n",
      "No. Observations:                  40   AIC:                             652.4\n",
      "Df Residuals:                      19   BIC:                             687.8\n",
      "Df Model:                          20                                         \n",
      "Covariance Type:                  HAC                                         \n",
      "======================================================================================================\n",
      "                                         coef    std err          z      P>|z|      [0.025      0.975]\n",
      "------------------------------------------------------------------------------------------------------\n",
      "Intercept                           -399.7083    297.348     -1.344      0.179    -982.500     183.083\n",
      "change_MYAGM2USM052S_Prev           3.077e-09   1.75e-09      1.757      0.079   -3.56e-10    6.51e-09\n",
      "change_CORESTICKM159SFRBATL_Prev    -720.8914    224.654     -3.209      0.001   -1161.206    -280.577\n",
      "change_UNRATE_Prev                   588.8302    210.460      2.798      0.005     176.337    1001.324\n",
      "change_REAINTRATREARAT10Y_Prev      2094.6817   1010.940      2.072      0.038     113.277    4076.087\n",
      "change_CORESTICKM159SFRBATL_Prev_1   170.7043    459.843      0.371      0.710    -730.572    1071.981\n",
      "change_CORESTICKM159SFRBATL_Prev_2  -437.4152    310.966     -1.407      0.160   -1046.897     172.066\n",
      "change_CORESTICKM159SFRBATL_Prev_3  -495.4031    281.988     -1.757      0.079   -1048.090      57.284\n",
      "change_CORESTICKM159SFRBATL_Prev_4   288.3475    559.763      0.515      0.606    -808.768    1385.463\n",
      "change_UNRATE_Prev_1                -443.4188    125.523     -3.533      0.000    -689.440    -197.397\n",
      "change_UNRATE_Prev_2                 -33.8915    203.132     -0.167      0.867    -432.022     364.239\n",
      "change_UNRATE_Prev_3                 -19.5490    393.553     -0.050      0.960    -790.899     751.801\n",
      "change_UNRATE_Prev_4                 678.8078    558.236      1.216      0.224    -415.314    1772.930\n",
      "change_REAINTRATREARAT10Y_Prev_1     688.2508    584.600      1.177      0.239    -457.544    1834.045\n",
      "change_REAINTRATREARAT10Y_Prev_2     -48.3886    247.898     -0.195      0.845    -534.259     437.482\n",
      "change_REAINTRATREARAT10Y_Prev_3       0.4644    547.448      0.001      0.999   -1072.514    1073.443\n",
      "change_REAINTRATREARAT10Y_Prev_4    -119.4759    298.094     -0.401      0.689    -703.729     464.777\n",
      "change_MYAGM2USM052S_Prev_1         3.453e-09   1.63e-09      2.118      0.034    2.57e-10    6.65e-09\n",
      "change_MYAGM2USM052S_Prev_2         1.534e-09   4.95e-10      3.096      0.002    5.63e-10     2.5e-09\n",
      "change_MYAGM2USM052S_Prev_3        -2.161e-09   1.17e-09     -1.842      0.066   -4.46e-09    1.39e-10\n",
      "change_MYAGM2USM052S_Prev_4        -2.088e-09   1.36e-09     -1.533      0.125   -4.76e-09    5.81e-10\n",
      "==============================================================================\n",
      "Omnibus:                        5.214   Durbin-Watson:                   2.253\n",
      "Prob(Omnibus):                  0.074   Jarque-Bera (JB):                4.761\n",
      "Skew:                          -0.393   Prob(JB):                       0.0925\n",
      "Kurtosis:                       4.496   Cond. No.                     4.36e+12\n",
      "==============================================================================\n",
      "\n",
      "Notes:\n",
      "[1] Standard Errors are heteroscedasticity and autocorrelation robust (HAC) using 4 lags and without small sample correction\n",
      "[2] The condition number is large, 4.36e+12. This might indicate that there are\n",
      "strong multicollinearity or other numerical problems.\n"
     ]
    },
    {
     "name": "stderr",
     "output_type": "stream",
     "text": [
      "/Users/evanbruno/opt/anaconda3/lib/python3.9/site-packages/statsmodels/base/model.py:1896: ValueWarning: covariance of constraints does not have full rank. The number of constraints is 20, but rank is 15\n",
      "  warnings.warn('covariance of constraints does not have full '\n"
     ]
    }
   ],
   "source": [
    "formula = 'change_MYAGM2USM052S_Prev + change_CORESTICKM159SFRBATL_Prev + change_UNRATE_Prev + change_REAINTRATREARAT10Y_Prev'\n",
    "\n",
    "lags = 5\n",
    "\n",
    "variables = ['change_CORESTICKM159SFRBATL_Prev', 'change_UNRATE_Prev', 'change_REAINTRATREARAT10Y_Prev', 'change_MYAGM2USM052S_Prev']\n",
    "\n",
    "for var in variables:\n",
    "\n",
    "    for i in range(1, lags):\n",
    "\n",
    "        formula = formula + f' + {var}_{i}'\n",
    "\n",
    "\n",
    "\n",
    "\n",
    "mod1 = smf.ols(f'change_Avg_New ~ {formula}', data = data_df)\n",
    "results = mod1.fit(cov_type='HAC', cov_kwds={'maxlags': 4})  \n",
    "print(results.summary())"
   ]
  },
  {
   "cell_type": "code",
   "execution_count": 195,
   "id": "f8068c99",
   "metadata": {},
   "outputs": [
    {
     "name": "stdout",
     "output_type": "stream",
     "text": [
      "Autocorrelations for the first four lags:\n",
      "Lag 1: 1.0\n",
      "Lag 2: -0.147966219057589\n",
      "Lag 3: -0.13890409324036004\n",
      "Lag 4: -0.07050741695448696\n",
      "Lag 5: -0.12539219610688457\n",
      "Lag 6: 0.013472396058880938\n"
     ]
    }
   ],
   "source": [
    "\n",
    "from statsmodels.tsa.stattools import acf\n",
    "\n",
    "\n",
    "# Get residuals\n",
    "residuals = results.resid\n",
    "\n",
    "\n",
    "# Calculate autocorrelations for the first four lags\n",
    "acf_res = acf(residuals, fft=False, nlags=5)\n",
    "\n",
    "# Print autocorrelations\n",
    "print(\"Autocorrelations for the first four lags:\")\n",
    "for lag, acf_value in enumerate(acf_res):\n",
    "    print(f\"Lag {lag + 1}: {acf_value}\")"
   ]
  },
  {
   "cell_type": "code",
   "execution_count": 196,
   "id": "9043b91c",
   "metadata": {},
   "outputs": [
    {
     "name": "stdout",
     "output_type": "stream",
     "text": [
      "                            OLS Regression Results                            \n",
      "==============================================================================\n",
      "Dep. Variable:                  Resid   R-squared:                       0.418\n",
      "Model:                            OLS   Adj. R-squared:                 -0.195\n",
      "Method:                 Least Squares   F-statistic:                    0.6824\n",
      "Date:                Tue, 08 Oct 2024   Prob (F-statistic):              0.798\n",
      "Time:                        14:44:36   Log-Likelihood:                -567.82\n",
      "No. Observations:                  40   AIC:                             1178.\n",
      "Df Residuals:                      19   BIC:                             1213.\n",
      "Df Model:                          20                                         \n",
      "Covariance Type:            nonrobust                                         \n",
      "======================================================================================================\n",
      "                                         coef    std err          t      P>|t|      [0.025      0.975]\n",
      "------------------------------------------------------------------------------------------------------\n",
      "Intercept                           5.186e+05   3.13e+05      1.656      0.114   -1.37e+05    1.17e+06\n",
      "change_MYAGM2USM052S_Prev          -2.491e-06   1.35e-06     -1.849      0.080   -5.31e-06    3.28e-07\n",
      "change_CORESTICKM159SFRBATL_Prev   -3.172e+05   4.84e+05     -0.655      0.520   -1.33e+06    6.96e+05\n",
      "change_UNRATE_Prev                 -2.101e+05   2.17e+05     -0.969      0.345   -6.64e+05    2.44e+05\n",
      "change_REAINTRATREARAT10Y_Prev     -8.303e+05   6.69e+05     -1.241      0.230   -2.23e+06     5.7e+05\n",
      "change_CORESTICKM159SFRBATL_Prev_1 -1.888e+05   4.78e+05     -0.395      0.697   -1.19e+06    8.12e+05\n",
      "change_CORESTICKM159SFRBATL_Prev_2  4.332e+05   3.38e+05      1.283      0.215   -2.73e+05    1.14e+06\n",
      "change_CORESTICKM159SFRBATL_Prev_3 -3.515e+05    4.9e+05     -0.717      0.482   -1.38e+06    6.75e+05\n",
      "change_CORESTICKM159SFRBATL_Prev_4 -6.038e+05   4.85e+05     -1.246      0.228   -1.62e+06    4.11e+05\n",
      "change_UNRATE_Prev_1                 1.49e+05   2.17e+05      0.687      0.500   -3.05e+05    6.03e+05\n",
      "change_UNRATE_Prev_2                1.921e+05   1.97e+05      0.976      0.341    -2.2e+05    6.04e+05\n",
      "change_UNRATE_Prev_3                -6.74e+05   3.86e+05     -1.746      0.097   -1.48e+06    1.34e+05\n",
      "change_UNRATE_Prev_4                -5.91e+05   3.85e+05     -1.537      0.141    -1.4e+06    2.14e+05\n",
      "change_REAINTRATREARAT10Y_Prev_1   -4.119e+05   5.18e+05     -0.795      0.437    -1.5e+06    6.73e+05\n",
      "change_REAINTRATREARAT10Y_Prev_2    2.777e+05   4.11e+05      0.676      0.507   -5.82e+05    1.14e+06\n",
      "change_REAINTRATREARAT10Y_Prev_3   -4.606e+05   4.87e+05     -0.945      0.357   -1.48e+06     5.6e+05\n",
      "change_REAINTRATREARAT10Y_Prev_4    7.169e+04   4.33e+05      0.165      0.870   -8.35e+05    9.79e+05\n",
      "change_MYAGM2USM052S_Prev_1        -2.217e-06    1.4e-06     -1.581      0.130   -5.15e-06    7.18e-07\n",
      "change_MYAGM2USM052S_Prev_2         -3.51e-07   6.04e-07     -0.581      0.568   -1.62e-06    9.13e-07\n",
      "change_MYAGM2USM052S_Prev_3          1.89e-06    1.2e-06      1.579      0.131   -6.15e-07     4.4e-06\n",
      "change_MYAGM2USM052S_Prev_4         1.534e-06    1.3e-06      1.177      0.254   -1.19e-06    4.26e-06\n",
      "==============================================================================\n",
      "Omnibus:                       32.345   Durbin-Watson:                   2.123\n",
      "Prob(Omnibus):                  0.000   Jarque-Bera (JB):               87.721\n",
      "Skew:                           1.964   Prob(JB):                     8.95e-20\n",
      "Kurtosis:                       9.100   Cond. No.                     4.36e+12\n",
      "==============================================================================\n",
      "\n",
      "Notes:\n",
      "[1] Standard Errors assume that the covariance matrix of the errors is correctly specified.\n",
      "[2] The condition number is large, 4.36e+12. This might indicate that there are\n",
      "strong multicollinearity or other numerical problems.\n"
     ]
    }
   ],
   "source": [
    "data_df['Resid'] = residuals ** 2\n",
    "\n",
    "mod1 = smf.ols(f'Resid ~ {formula}', data = data_df)\n",
    "results = mod1.fit()  \n",
    "print(results.summary())"
   ]
  },
  {
   "cell_type": "code",
   "execution_count": 197,
   "id": "b386df17",
   "metadata": {},
   "outputs": [
    {
     "data": {
      "text/plain": [
       "18.81"
      ]
     },
     "execution_count": 197,
     "metadata": {},
     "output_type": "execute_result"
    }
   ],
   "source": [
    "len(data_df) * 0.418"
   ]
  },
  {
   "cell_type": "markdown",
   "id": "e8a54b36",
   "metadata": {},
   "source": [
    "at 24 degrees of freedom 5% crit value is 36.42 and since 18.81 is less than this value passes test of homoskedaticity"
   ]
  },
  {
   "cell_type": "markdown",
   "id": "da5f0a14",
   "metadata": {},
   "source": [
    "## Assumptions of Finite Distributed Lag Model\n",
    "\n",
    "1. Time series for both dependent and independent variables are stationary as testing previously\n",
    "2. finite distributed lag model is written as y = alpha + B0x ... \n",
    "3. error term is not auto correlated as the 5% crit value is 0.29 and the correlations do not exceed this threshold\n",
    "4. test for homoskedaticity remains valid"
   ]
  },
  {
   "cell_type": "markdown",
   "id": "d9f0976c",
   "metadata": {},
   "source": [
    "# Ratio_Used_New"
   ]
  },
  {
   "cell_type": "code",
   "execution_count": 198,
   "id": "98525d61",
   "metadata": {},
   "outputs": [
    {
     "data": {
      "text/plain": [
       "<AxesSubplot:>"
      ]
     },
     "execution_count": 198,
     "metadata": {},
     "output_type": "execute_result"
    },
    {
     "data": {
      "image/png": "[encoded data removed]",
      "text/plain": [
       "<Figure size 640x480 with 1 Axes>"
      ]
     },
     "metadata": {},
     "output_type": "display_data"
    }
   ],
   "source": [
    "data_df.plot(y='Ratio_Used_New')"
   ]
  },
  {
   "cell_type": "code",
   "execution_count": 203,
   "id": "8195dc85",
   "metadata": {},
   "outputs": [
    {
     "name": "stdout",
     "output_type": "stream",
     "text": [
      "                              OLS Regression Results                             \n",
      "=================================================================================\n",
      "Dep. Variable:     change_Ratio_Used_New   R-squared:                       0.757\n",
      "Model:                               OLS   Adj. R-squared:                  0.744\n",
      "Method:                    Least Squares   F-statistic:                     60.69\n",
      "Date:                   Tue, 08 Oct 2024   Prob (F-statistic):           1.06e-12\n",
      "Time:                           14:57:16   Log-Likelihood:                 11.306\n",
      "No. Observations:                     42   AIC:                            -16.61\n",
      "Df Residuals:                         39   BIC:                            -11.40\n",
      "Df Model:                              2                                         \n",
      "Covariance Type:               nonrobust                                         \n",
      "=======================================================================================\n",
      "                          coef    std err          t      P>|t|      [0.025      0.975]\n",
      "---------------------------------------------------------------------------------------\n",
      "Intercept               0.0246      0.065      0.380      0.706      -0.106       0.155\n",
      "data_df.index          -0.0010      0.002     -0.430      0.670      -0.006       0.004\n",
      "Prev_Ratio_Used_New    -1.4916      0.136    -10.999      0.000      -1.766      -1.217\n",
      "==============================================================================\n",
      "Omnibus:                        3.079   Durbin-Watson:                   2.602\n",
      "Prob(Omnibus):                  0.215   Jarque-Bera (JB):                1.526\n",
      "Skew:                           0.041   Prob(JB):                        0.466\n",
      "Kurtosis:                       2.070   Cond. No.                         121.\n",
      "==============================================================================\n",
      "\n",
      "Notes:\n",
      "[1] Standard Errors assume that the covariance matrix of the errors is correctly specified.\n"
     ]
    }
   ],
   "source": [
    "data_df['Prev_Ratio_Used_New'] = data_df['Ratio_Used_New'].shift(1)\n",
    "data_df['change_Ratio_Used_New'] = data_df['Ratio_Used_New'] - data_df['Prev_Ratio_Used_New']\n",
    "\n",
    "\n",
    "mod1 = smf.ols(f'change_Ratio_Used_New ~ data_df.index + Prev_Ratio_Used_New', data = data_df).fit() \n",
    "print(mod1.summary())"
   ]
  },
  {
   "cell_type": "code",
   "execution_count": 204,
   "id": "6b023f22",
   "metadata": {},
   "outputs": [
    {
     "name": "stdout",
     "output_type": "stream",
     "text": [
      "                                        OLS Regression Results                                        \n",
      "======================================================================================================\n",
      "Dep. Variable:     change_change_Prev_Ratio_Used_New   R-squared (uncentered):                   0.796\n",
      "Model:                                           OLS   Adj. R-squared (uncentered):              0.791\n",
      "Method:                                Least Squares   F-statistic:                              156.4\n",
      "Date:                               Tue, 08 Oct 2024   Prob (F-statistic):                    2.10e-15\n",
      "Time:                                       15:00:42   Log-Likelihood:                         -8.8690\n",
      "No. Observations:                                 41   AIC:                                      19.74\n",
      "Df Residuals:                                     40   BIC:                                      21.45\n",
      "Df Model:                                          1                                                  \n",
      "Covariance Type:                           nonrobust                                                  \n",
      "==============================================================================================\n",
      "                                 coef    std err          t      P>|t|      [0.025      0.975]\n",
      "----------------------------------------------------------------------------------------------\n",
      "Prev_change_Ratio_Used_New    -1.5695      0.125    -12.507      0.000      -1.823      -1.316\n",
      "==============================================================================\n",
      "Omnibus:                        4.639   Durbin-Watson:                   2.892\n",
      "Prob(Omnibus):                  0.098   Jarque-Bera (JB):                2.864\n",
      "Skew:                           0.450   Prob(JB):                        0.239\n",
      "Kurtosis:                       2.070   Cond. No.                         1.00\n",
      "==============================================================================\n",
      "\n",
      "Notes:\n",
      "[1] R² is computed without centering (uncentered) since the model does not contain a constant.\n",
      "[2] Standard Errors assume that the covariance matrix of the errors is correctly specified.\n"
     ]
    }
   ],
   "source": [
    "data_df['Prev_Ratio_Used_New'] = data_df['Ratio_Used_New'].shift(1)\n",
    "data_df['change_Ratio_Used_New'] = data_df['Ratio_Used_New'] - data_df['Prev_Ratio_Used_New']\n",
    "\n",
    "data_df['Prev_change_Ratio_Used_New'] = data_df['change_Ratio_Used_New'].shift(1)\n",
    "data_df['change_change_Prev_Ratio_Used_New'] = data_df['change_Ratio_Used_New'] - data_df['Prev_change_Ratio_Used_New']\n",
    "\n",
    "\n",
    "mod1 = smf.ols(f'change_change_Prev_Ratio_Used_New ~ 0 + Prev_change_Ratio_Used_New', data = data_df).fit() \n",
    "print(mod1.summary())"
   ]
  },
  {
   "cell_type": "code",
   "execution_count": 205,
   "id": "ba2e4996",
   "metadata": {},
   "outputs": [
    {
     "name": "stdout",
     "output_type": "stream",
     "text": [
      "                              OLS Regression Results                             \n",
      "=================================================================================\n",
      "Dep. Variable:     change_Ratio_Used_New   R-squared:                       0.878\n",
      "Model:                               OLS   Adj. R-squared:                  0.750\n",
      "Method:                    Least Squares   F-statistic:                     40.84\n",
      "Date:                   Tue, 08 Oct 2024   Prob (F-statistic):           2.89e-11\n",
      "Time:                           15:01:03   Log-Likelihood:                 24.835\n",
      "No. Observations:                     40   AIC:                            -7.671\n",
      "Df Residuals:                         19   BIC:                             27.80\n",
      "Df Model:                             20                                         \n",
      "Covariance Type:                     HAC                                         \n",
      "======================================================================================================\n",
      "                                         coef    std err          z      P>|z|      [0.025      0.975]\n",
      "------------------------------------------------------------------------------------------------------\n",
      "Intercept                             -0.0606      0.044     -1.382      0.167      -0.147       0.025\n",
      "change_MYAGM2USM052S_Prev            1.86e-13   2.74e-13      0.679      0.497   -3.51e-13    7.23e-13\n",
      "change_CORESTICKM159SFRBATL_Prev       0.1496      0.157      0.951      0.341      -0.159       0.458\n",
      "change_UNRATE_Prev                     0.0304      0.032      0.952      0.341      -0.032       0.093\n",
      "change_REAINTRATREARAT10Y_Prev         0.2544      0.088      2.892      0.004       0.082       0.427\n",
      "change_CORESTICKM159SFRBATL_Prev_1    -0.0673      0.165     -0.407      0.684      -0.392       0.257\n",
      "change_CORESTICKM159SFRBATL_Prev_2     0.1713      0.064      2.682      0.007       0.046       0.297\n",
      "change_CORESTICKM159SFRBATL_Prev_3    -0.3392      0.168     -2.016      0.044      -0.669      -0.009\n",
      "change_CORESTICKM159SFRBATL_Prev_4     0.3844      0.149      2.585      0.010       0.093       0.676\n",
      "change_UNRATE_Prev_1                  -0.0521      0.044     -1.189      0.235      -0.138       0.034\n",
      "change_UNRATE_Prev_2                   0.1647      0.047      3.527      0.000       0.073       0.256\n",
      "change_UNRATE_Prev_3                  -0.1986      0.099     -2.014      0.044      -0.392      -0.005\n",
      "change_UNRATE_Prev_4                   0.2657      0.109      2.443      0.015       0.053       0.479\n",
      "change_REAINTRATREARAT10Y_Prev_1      -0.1146      0.125     -0.920      0.357      -0.359       0.129\n",
      "change_REAINTRATREARAT10Y_Prev_2       0.2059      0.095      2.169      0.030       0.020       0.392\n",
      "change_REAINTRATREARAT10Y_Prev_3      -0.2548      0.080     -3.168      0.002      -0.412      -0.097\n",
      "change_REAINTRATREARAT10Y_Prev_4       0.3990      0.116      3.443      0.001       0.172       0.626\n",
      "change_MYAGM2USM052S_Prev_1         1.868e-13   2.63e-13      0.709      0.478    -3.3e-13    7.03e-13\n",
      "change_MYAGM2USM052S_Prev_2         1.002e-13   1.07e-13      0.941      0.347   -1.09e-13    3.09e-13\n",
      "change_MYAGM2USM052S_Prev_3         8.276e-13   2.71e-13      3.050      0.002    2.96e-13    1.36e-12\n",
      "change_MYAGM2USM052S_Prev_4        -8.759e-13   2.14e-13     -4.092      0.000    -1.3e-12   -4.56e-13\n",
      "==============================================================================\n",
      "Omnibus:                        0.174   Durbin-Watson:                   3.030\n",
      "Prob(Omnibus):                  0.917   Jarque-Bera (JB):                0.384\n",
      "Skew:                          -0.020   Prob(JB):                        0.825\n",
      "Kurtosis:                       2.522   Cond. No.                     4.36e+12\n",
      "==============================================================================\n",
      "\n",
      "Notes:\n",
      "[1] Standard Errors are heteroscedasticity and autocorrelation robust (HAC) using 4 lags and without small sample correction\n",
      "[2] The condition number is large, 4.36e+12. This might indicate that there are\n",
      "strong multicollinearity or other numerical problems.\n"
     ]
    },
    {
     "name": "stderr",
     "output_type": "stream",
     "text": [
      "/Users/evanbruno/opt/anaconda3/lib/python3.9/site-packages/statsmodels/base/model.py:1896: ValueWarning: covariance of constraints does not have full rank. The number of constraints is 20, but rank is 15\n",
      "  warnings.warn('covariance of constraints does not have full '\n"
     ]
    }
   ],
   "source": [
    "formula = 'change_MYAGM2USM052S_Prev + change_CORESTICKM159SFRBATL_Prev + change_UNRATE_Prev + change_REAINTRATREARAT10Y_Prev'\n",
    "\n",
    "lags = 5\n",
    "\n",
    "variables = ['change_CORESTICKM159SFRBATL_Prev', 'change_UNRATE_Prev', 'change_REAINTRATREARAT10Y_Prev', 'change_MYAGM2USM052S_Prev']\n",
    "\n",
    "for var in variables:\n",
    "\n",
    "    for i in range(1, lags):\n",
    "\n",
    "        formula = formula + f' + {var}_{i}'\n",
    "\n",
    "\n",
    "\n",
    "\n",
    "mod1 = smf.ols(f'change_Ratio_Used_New ~ {formula}', data = data_df)\n",
    "results = mod1.fit(cov_type='HAC', cov_kwds={'maxlags': 4})  \n",
    "print(results.summary())"
   ]
  },
  {
   "cell_type": "code",
   "execution_count": 206,
   "id": "e68fe0f6",
   "metadata": {},
   "outputs": [
    {
     "name": "stdout",
     "output_type": "stream",
     "text": [
      "Autocorrelations for the first four lags:\n",
      "Lag 1: 1.0\n",
      "Lag 2: -0.5571991522811359\n",
      "Lag 3: -0.035644870376572685\n",
      "Lag 4: 0.21759515362982318\n",
      "Lag 5: -0.12426180380866925\n",
      "Lag 6: -0.10037191396159378\n"
     ]
    }
   ],
   "source": [
    "\n",
    "from statsmodels.tsa.stattools import acf\n",
    "\n",
    "\n",
    "# Get residuals\n",
    "residuals = results.resid\n",
    "\n",
    "\n",
    "# Calculate autocorrelations for the first four lags\n",
    "acf_res = acf(residuals, fft=False, nlags=5)\n",
    "\n",
    "# Print autocorrelations\n",
    "print(\"Autocorrelations for the first four lags:\")\n",
    "for lag, acf_value in enumerate(acf_res):\n",
    "    print(f\"Lag {lag + 1}: {acf_value}\")"
   ]
  },
  {
   "cell_type": "code",
   "execution_count": 207,
   "id": "56277aa3",
   "metadata": {},
   "outputs": [
    {
     "data": {
      "text/plain": [
       "0.2921795490599725"
      ]
     },
     "execution_count": 207,
     "metadata": {},
     "output_type": "execute_result"
    }
   ],
   "source": [
    "1.96 / math.sqrt(len(data_df))"
   ]
  },
  {
   "cell_type": "code",
   "execution_count": 210,
   "id": "5d4c6076",
   "metadata": {},
   "outputs": [
    {
     "name": "stdout",
     "output_type": "stream",
     "text": [
      "                              OLS Regression Results                             \n",
      "=================================================================================\n",
      "Dep. Variable:     change_Ratio_Used_New   R-squared:                       0.967\n",
      "Model:                               OLS   Adj. R-squared:                  0.924\n",
      "Method:                    Least Squares   F-statistic:                     335.3\n",
      "Date:                   Tue, 08 Oct 2024   Prob (F-statistic):           4.08e-18\n",
      "Time:                           15:12:23   Log-Likelihood:                 50.927\n",
      "No. Observations:                     40   AIC:                            -55.85\n",
      "Df Residuals:                         17   BIC:                            -17.01\n",
      "Df Model:                             22                                         \n",
      "Covariance Type:                     HAC                                         \n",
      "======================================================================================================\n",
      "                                         coef    std err          z      P>|z|      [0.025      0.975]\n",
      "------------------------------------------------------------------------------------------------------\n",
      "Intercept                             -0.0449      0.032     -1.414      0.157      -0.107       0.017\n",
      "change_MYAGM2USM052S_Prev          -4.393e-13   1.15e-13     -3.821      0.000   -6.65e-13   -2.14e-13\n",
      "change_CORESTICKM159SFRBATL_Prev       0.1268      0.047      2.691      0.007       0.034       0.219\n",
      "change_UNRATE_Prev                    -0.0194      0.015     -1.257      0.209      -0.050       0.011\n",
      "change_REAINTRATREARAT10Y_Prev         0.0470      0.068      0.687      0.492      -0.087       0.181\n",
      "change_CORESTICKM159SFRBATL_Prev_1     0.0633      0.055      1.156      0.248      -0.044       0.171\n",
      "change_CORESTICKM159SFRBATL_Prev_2     0.1729      0.065      2.673      0.008       0.046       0.300\n",
      "change_CORESTICKM159SFRBATL_Prev_3    -0.3584      0.065     -5.530      0.000      -0.485      -0.231\n",
      "change_CORESTICKM159SFRBATL_Prev_4     0.2601      0.038      6.904      0.000       0.186       0.334\n",
      "change_UNRATE_Prev_1                  -0.0679      0.022     -3.049      0.002      -0.112      -0.024\n",
      "change_UNRATE_Prev_2                   0.1552      0.036      4.367      0.000       0.086       0.225\n",
      "change_UNRATE_Prev_3                  -0.1449      0.031     -4.746      0.000      -0.205      -0.085\n",
      "change_UNRATE_Prev_4                   0.1809      0.022      8.374      0.000       0.139       0.223\n",
      "change_REAINTRATREARAT10Y_Prev_1      -0.1140      0.069     -1.647      0.100      -0.250       0.022\n",
      "change_REAINTRATREARAT10Y_Prev_2       0.2464      0.069      3.582      0.000       0.112       0.381\n",
      "change_REAINTRATREARAT10Y_Prev_3      -0.2616      0.041     -6.383      0.000      -0.342      -0.181\n",
      "change_REAINTRATREARAT10Y_Prev_4       0.2260      0.038      5.918      0.000       0.151       0.301\n",
      "change_MYAGM2USM052S_Prev_1         1.583e-13   1.04e-13      1.518      0.129    -4.6e-14    3.63e-13\n",
      "change_MYAGM2USM052S_Prev_2         8.331e-14   1.03e-13      0.813      0.416   -1.18e-13    2.84e-13\n",
      "change_MYAGM2USM052S_Prev_3         7.145e-13   1.08e-13      6.637      0.000    5.03e-13    9.25e-13\n",
      "change_MYAGM2USM052S_Prev_4        -2.065e-13   1.62e-13     -1.271      0.204   -5.25e-13    1.12e-13\n",
      "change_Ratio_Used_New_lag_2           -0.7144      0.060    -11.892      0.000      -0.832      -0.597\n",
      "change_Ratio_Used_New_lag_1           -0.8845      0.076    -11.617      0.000      -1.034      -0.735\n",
      "==============================================================================\n",
      "Omnibus:                        2.253   Durbin-Watson:                   2.418\n",
      "Prob(Omnibus):                  0.324   Jarque-Bera (JB):                1.215\n",
      "Skew:                          -0.295   Prob(JB):                        0.545\n",
      "Kurtosis:                       3.617   Cond. No.                     4.83e+12\n",
      "==============================================================================\n",
      "\n",
      "Notes:\n",
      "[1] Standard Errors are heteroscedasticity and autocorrelation robust (HAC) using 4 lags and without small sample correction\n",
      "[2] The condition number is large, 4.83e+12. This might indicate that there are\n",
      "strong multicollinearity or other numerical problems.\n"
     ]
    },
    {
     "name": "stderr",
     "output_type": "stream",
     "text": [
      "/Users/evanbruno/opt/anaconda3/lib/python3.9/site-packages/statsmodels/base/model.py:1896: ValueWarning: covariance of constraints does not have full rank. The number of constraints is 22, but rank is 17\n",
      "  warnings.warn('covariance of constraints does not have full '\n"
     ]
    }
   ],
   "source": [
    "# serial correlation present at lag 2 so eliminate it and re-run the regression\n",
    "data_df['change_Ratio_Used_New_lag_1'] = data_df['change_Ratio_Used_New'].shift(1)\n",
    "\n",
    "data_df['change_Ratio_Used_New_lag_2'] = data_df['change_Ratio_Used_New'].shift(2)\n",
    "\n",
    "formula = 'change_MYAGM2USM052S_Prev + change_CORESTICKM159SFRBATL_Prev + change_UNRATE_Prev + change_REAINTRATREARAT10Y_Prev'\n",
    "\n",
    "lags = 5\n",
    "\n",
    "variables = ['change_CORESTICKM159SFRBATL_Prev', 'change_UNRATE_Prev', 'change_REAINTRATREARAT10Y_Prev', 'change_MYAGM2USM052S_Prev']\n",
    "\n",
    "for var in variables:\n",
    "\n",
    "    for i in range(1, lags):\n",
    "\n",
    "        formula = formula + f' + {var}_{i}'\n",
    "\n",
    "\n",
    "\n",
    "\n",
    "mod1 = smf.ols(f'change_Ratio_Used_New ~ {formula} + change_Ratio_Used_New_lag_2 + change_Ratio_Used_New_lag_1', data = data_df)\n",
    "results = mod1.fit(cov_type='HAC', cov_kwds={'maxlags': 4})  \n",
    "print(results.summary())"
   ]
  },
  {
   "cell_type": "code",
   "execution_count": 211,
   "id": "a7f1df36",
   "metadata": {},
   "outputs": [
    {
     "name": "stdout",
     "output_type": "stream",
     "text": [
      "Autocorrelations for the first four lags:\n",
      "Lag 1: 1.0\n",
      "Lag 2: -0.21348536431173312\n",
      "Lag 3: 0.02346238095498797\n",
      "Lag 4: -0.2647241912556469\n",
      "Lag 5: 0.14627391386719932\n",
      "Lag 6: -0.02544155892795529\n"
     ]
    }
   ],
   "source": [
    "\n",
    "from statsmodels.tsa.stattools import acf\n",
    "\n",
    "\n",
    "# Get residuals\n",
    "residuals = results.resid\n",
    "\n",
    "\n",
    "# Calculate autocorrelations for the first four lags\n",
    "acf_res = acf(residuals, fft=False, nlags=5)\n",
    "\n",
    "# Print autocorrelations\n",
    "print(\"Autocorrelations for the first four lags:\")\n",
    "for lag, acf_value in enumerate(acf_res):\n",
    "    print(f\"Lag {lag + 1}: {acf_value}\")"
   ]
  },
  {
   "cell_type": "markdown",
   "id": "b305734f",
   "metadata": {},
   "source": [
    "eliminated serial correlation"
   ]
  },
  {
   "cell_type": "code",
   "execution_count": 217,
   "id": "cc4ea17f",
   "metadata": {},
   "outputs": [
    {
     "name": "stdout",
     "output_type": "stream",
     "text": [
      "                            OLS Regression Results                            \n",
      "==============================================================================\n",
      "Dep. Variable:                  Resid   R-squared:                       0.447\n",
      "Model:                            OLS   Adj. R-squared:                 -0.269\n",
      "Method:                 Least Squares   F-statistic:                    0.6243\n",
      "Date:                Tue, 08 Oct 2024   Prob (F-statistic):              0.852\n",
      "Time:                        15:23:11   Log-Likelihood:                 151.22\n",
      "No. Observations:                  40   AIC:                            -256.4\n",
      "Df Residuals:                      17   BIC:                            -217.6\n",
      "Df Model:                          22                                         \n",
      "Covariance Type:            nonrobust                                         \n",
      "======================================================================================================\n",
      "                                         coef    std err          t      P>|t|      [0.025      0.975]\n",
      "------------------------------------------------------------------------------------------------------\n",
      "Intercept                           -1.98e-05      0.005     -0.004      0.997      -0.011       0.011\n",
      "change_MYAGM2USM052S_Prev           1.679e-14   2.55e-14      0.659      0.519    -3.7e-14    7.05e-14\n",
      "change_CORESTICKM159SFRBATL_Prev       0.0018      0.008      0.219      0.829      -0.015       0.019\n",
      "change_UNRATE_Prev                    -0.0004      0.004     -0.122      0.904      -0.008       0.007\n",
      "change_REAINTRATREARAT10Y_Prev        -0.0007      0.011     -0.059      0.953      -0.025       0.023\n",
      "change_CORESTICKM159SFRBATL_Prev_1    -0.0072      0.008     -0.892      0.385      -0.024       0.010\n",
      "change_CORESTICKM159SFRBATL_Prev_2    -0.0003      0.006     -0.056      0.956      -0.013       0.012\n",
      "change_CORESTICKM159SFRBATL_Prev_3     0.0051      0.009      0.575      0.573      -0.014       0.024\n",
      "change_CORESTICKM159SFRBATL_Prev_4     0.0066      0.008      0.783      0.445      -0.011       0.025\n",
      "change_UNRATE_Prev_1                  -0.0015      0.004     -0.413      0.685      -0.009       0.006\n",
      "change_UNRATE_Prev_2                   0.0003      0.003      0.099      0.923      -0.007       0.007\n",
      "change_UNRATE_Prev_3                  -0.0013      0.007     -0.192      0.850      -0.016       0.013\n",
      "change_UNRATE_Prev_4                   0.0010      0.007      0.148      0.884      -0.013       0.015\n",
      "change_REAINTRATREARAT10Y_Prev_1      -0.0097      0.009     -1.120      0.278      -0.028       0.009\n",
      "change_REAINTRATREARAT10Y_Prev_2      -0.0079      0.007     -1.115      0.280      -0.023       0.007\n",
      "change_REAINTRATREARAT10Y_Prev_3      -0.0048      0.008     -0.574      0.574      -0.023       0.013\n",
      "change_REAINTRATREARAT10Y_Prev_4       0.0038      0.008      0.482      0.636      -0.013       0.020\n",
      "change_MYAGM2USM052S_Prev_1         2.634e-14   2.33e-14      1.132      0.273   -2.27e-14    7.54e-14\n",
      "change_MYAGM2USM052S_Prev_2         6.998e-15   1.34e-14      0.521      0.609   -2.13e-14    3.53e-14\n",
      "change_MYAGM2USM052S_Prev_3         2.019e-15   2.03e-14      0.100      0.922   -4.07e-14    4.48e-14\n",
      "change_MYAGM2USM052S_Prev_4        -3.081e-14   2.39e-14     -1.287      0.215   -8.13e-14    1.97e-14\n",
      "change_Ratio_Used_New_lag_2            0.0093      0.011      0.865      0.399      -0.013       0.032\n",
      "change_Ratio_Used_New_lag_1            0.0137      0.011      1.230      0.235      -0.010       0.037\n",
      "==============================================================================\n",
      "Omnibus:                       18.137   Durbin-Watson:                   1.708\n",
      "Prob(Omnibus):                  0.000   Jarque-Bera (JB):               24.347\n",
      "Skew:                           1.369   Prob(JB):                     5.17e-06\n",
      "Kurtosis:                       5.666   Cond. No.                     4.83e+12\n",
      "==============================================================================\n",
      "\n",
      "Notes:\n",
      "[1] Standard Errors assume that the covariance matrix of the errors is correctly specified.\n",
      "[2] The condition number is large, 4.83e+12. This might indicate that there are\n",
      "strong multicollinearity or other numerical problems.\n"
     ]
    }
   ],
   "source": [
    "data_df['Resid'] = residuals ** 2\n",
    "\n",
    "mod1 = smf.ols(f'Resid ~ {formula} + change_Ratio_Used_New_lag_2 + change_Ratio_Used_New_lag_1', data = data_df)\n",
    "results = mod1.fit()  \n",
    "print(results.summary())"
   ]
  },
  {
   "cell_type": "code",
   "execution_count": 216,
   "id": "c9d97452",
   "metadata": {},
   "outputs": [
    {
     "data": {
      "text/plain": [
       "20.115000000000002"
      ]
     },
     "execution_count": 216,
     "metadata": {},
     "output_type": "execute_result"
    }
   ],
   "source": [
    "len(data_df) * 0.447"
   ]
  },
  {
   "cell_type": "markdown",
   "id": "8c6d9adf",
   "metadata": {},
   "source": [
    "at 24 degrees of freedom 5% crit value is 36.42 and since 20.11 is less than this value passes test of homoskedaticity"
   ]
  },
  {
   "cell_type": "markdown",
   "id": "278d4b7d",
   "metadata": {},
   "source": [
    "## Assumptions of Finite Distributed Lag Model\n",
    "\n",
    "1. Time series for both dependent and independent variables are stationary as testing previously\n",
    "2. finite distributed lag model is written as y = alpha + B0x ... \n",
    "3. error term is not auto correlated as the 5% crit value is 0.29 and the correlations do not exceed this threshold\n",
    "4. test for homoskedaticity remains valid"
   ]
  }
 ],
 "metadata": {
  "kernelspec": {
   "display_name": "PythonData",
   "language": "python",
   "name": "pythondata"
  },
  "language_info": {
   "codemirror_mode": {
    "name": "ipython",
    "version": 3
   },
   "file_extension": ".py",
   "mimetype": "text/x-python",
   "name": "python",
   "nbconvert_exporter": "python",
   "pygments_lexer": "ipython3",
   "version": "3.9.7"
  }
 },
 "nbformat": 4,
 "nbformat_minor": 5
}
