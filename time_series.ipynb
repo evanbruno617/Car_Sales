{
 "cells": [
  {
   "cell_type": "code",
   "execution_count": 1,
   "id": "504a1877",
   "metadata": {},
   "outputs": [],
   "source": [
    "\n",
    "import pandas as pd\n",
    "import matplotlib.pyplot as plt\n",
    "from sklearn.linear_model import LinearRegression\n",
    "import os\n",
    "from sklearn.metrics import r2_score\n",
    "import statistics as stat\n",
    "from sklearn.preprocessing import StandardScaler\n",
    "data_scaler = StandardScaler()\n",
    "from matplotlib.pyplot import subplots"
   ]
  },
  {
   "cell_type": "code",
   "execution_count": 2,
   "id": "27434ca6",
   "metadata": {},
   "outputs": [],
   "source": [
    "convert = {'JAN': 1,\n",
    "          'FEB': 2,\n",
    "          'MAR': 3,\n",
    "          'APR': 4, \n",
    "          'MAY': 5,\n",
    "          'JUN': 6,\n",
    "          'JUL': 7,\n",
    "          'AUG': 8,\n",
    "          'SEP': 9,\n",
    "          'OCT': 10,\n",
    "          'NOV': 11,\n",
    "          'DEC': 12} "
   ]
  },
  {
   "cell_type": "code",
   "execution_count": 3,
   "id": "c5ca7c07",
   "metadata": {},
   "outputs": [],
   "source": [
    "sales = pd.read_csv(\"Car_sales.csv\")\n",
    "\n",
    "items = sales.columns.tolist()[5:-2]\n",
    "\n",
    "items.append('Ratio_Used_New_Sales_Change')\n",
    "\n",
    "items.remove( 'Avg_Used_Previous')\n",
    "\n",
    "items.remove('Avg_New_Previous')\n",
    "\n",
    "#items.remove('Ratio_Used_New_prev')"
   ]
  },
  {
   "cell_type": "code",
   "execution_count": 4,
   "id": "ba732b5f",
   "metadata": {},
   "outputs": [
    {
     "data": {
      "text/plain": [
       "['Total Sales New',\n",
       " 'Total Sales Used',\n",
       " 'Avg_Used',\n",
       " 'Avg_New',\n",
       " 'Change_Car_Sales_Used',\n",
       " 'Change_Car_Sales_New',\n",
       " 'Ratio_Used_New_Sales_Change']"
      ]
     },
     "execution_count": 4,
     "metadata": {},
     "output_type": "execute_result"
    }
   ],
   "source": [
    "items"
   ]
  },
  {
   "cell_type": "markdown",
   "id": "a44bb92e",
   "metadata": {},
   "source": [
    "# Multinomial"
   ]
  },
  {
   "cell_type": "code",
   "execution_count": 5,
   "id": "72f7d8d8",
   "metadata": {},
   "outputs": [],
   "source": [
    "# econ_data = ['MYAGM2USM052S', 'MEDCPIM158SFRBCLE', 'UNRATE', 'REAINTRATREARAT10Y', 'CORESTICKM159SFRBATL']\n",
    "\n",
    "econ_data = ['MYAGM2USM052S_Prev', 'MEDCPIM158SFRBCLE_Prev', 'UNRATE_Prev', 'REAINTRATREARAT10Y_Prev', 'CORESTICKM159SFRBATL_Prev']\n",
    "\n",
    "\n",
    "\n",
    "\n",
    "\n",
    "\n"
   ]
  },
  {
   "cell_type": "code",
   "execution_count": 6,
   "id": "25f7dba4",
   "metadata": {},
   "outputs": [],
   "source": [
    "from itertools import combinations"
   ]
  },
  {
   "cell_type": "code",
   "execution_count": 7,
   "id": "82492b15",
   "metadata": {},
   "outputs": [],
   "source": [
    "combos = list(combinations(econ_data, 3))"
   ]
  },
  {
   "cell_type": "code",
   "execution_count": 8,
   "id": "51a40234",
   "metadata": {},
   "outputs": [
    {
     "name": "stdout",
     "output_type": "stream",
     "text": [
      "['MYAGM2USM052S_Prev', 'MEDCPIM158SFRBCLE_Prev', 'UNRATE_Prev']\n",
      "['MYAGM2USM052S_Prev', 'MEDCPIM158SFRBCLE_Prev', 'REAINTRATREARAT10Y_Prev']\n",
      "['MYAGM2USM052S_Prev', 'MEDCPIM158SFRBCLE_Prev', 'CORESTICKM159SFRBATL_Prev']\n",
      "['MYAGM2USM052S_Prev', 'UNRATE_Prev', 'REAINTRATREARAT10Y_Prev']\n",
      "['MYAGM2USM052S_Prev', 'UNRATE_Prev', 'CORESTICKM159SFRBATL_Prev']\n",
      "['MYAGM2USM052S_Prev', 'REAINTRATREARAT10Y_Prev', 'CORESTICKM159SFRBATL_Prev']\n",
      "['MEDCPIM158SFRBCLE_Prev', 'UNRATE_Prev', 'REAINTRATREARAT10Y_Prev']\n",
      "['MEDCPIM158SFRBCLE_Prev', 'UNRATE_Prev', 'CORESTICKM159SFRBATL_Prev']\n",
      "['MEDCPIM158SFRBCLE_Prev', 'REAINTRATREARAT10Y_Prev', 'CORESTICKM159SFRBATL_Prev']\n",
      "['UNRATE_Prev', 'REAINTRATREARAT10Y_Prev', 'CORESTICKM159SFRBATL_Prev']\n"
     ]
    }
   ],
   "source": [
    "for combo in combos:\n",
    "    print(list(combo))"
   ]
  },
  {
   "cell_type": "code",
   "execution_count": 10,
   "id": "e3813ebe",
   "metadata": {},
   "outputs": [
    {
     "data": {
      "text/html": [
       "<div>\n",
       "<style scoped>\n",
       "    .dataframe tbody tr th:only-of-type {\n",
       "        vertical-align: middle;\n",
       "    }\n",
       "\n",
       "    .dataframe tbody tr th {\n",
       "        vertical-align: top;\n",
       "    }\n",
       "\n",
       "    .dataframe thead th {\n",
       "        text-align: right;\n",
       "    }\n",
       "</style>\n",
       "<table border=\"1\" class=\"dataframe\">\n",
       "  <thead>\n",
       "    <tr style=\"text-align: right;\">\n",
       "      <th></th>\n",
       "      <th>Unnamed: 0</th>\n",
       "      <th>Year</th>\n",
       "      <th>Month</th>\n",
       "      <th>New</th>\n",
       "      <th>Used</th>\n",
       "      <th>Total Sales New</th>\n",
       "      <th>Total Sales Used</th>\n",
       "      <th>Avg_Used</th>\n",
       "      <th>Avg_New</th>\n",
       "      <th>Avg_Used_Previous</th>\n",
       "      <th>Avg_New_Previous</th>\n",
       "      <th>Change_Car_Sales_Used</th>\n",
       "      <th>Change_Car_Sales_New</th>\n",
       "      <th>Ratio_Used_New</th>\n",
       "      <th>Ratio_Used_New_Sales</th>\n",
       "    </tr>\n",
       "  </thead>\n",
       "  <tbody>\n",
       "    <tr>\n",
       "      <th>0</th>\n",
       "      <td>1</td>\n",
       "      <td>2002</td>\n",
       "      <td>FEB</td>\n",
       "      <td>27520</td>\n",
       "      <td>50982</td>\n",
       "      <td>664454223</td>\n",
       "      <td>361353242</td>\n",
       "      <td>7087.859284</td>\n",
       "      <td>24144.412173</td>\n",
       "      <td>7740.940353</td>\n",
       "      <td>24272.353244</td>\n",
       "      <td>-0.092141</td>\n",
       "      <td>-0.005299</td>\n",
       "      <td>1.852544</td>\n",
       "      <td>0.293561</td>\n",
       "    </tr>\n",
       "    <tr>\n",
       "      <th>1</th>\n",
       "      <td>2</td>\n",
       "      <td>2002</td>\n",
       "      <td>MAR</td>\n",
       "      <td>34225</td>\n",
       "      <td>58794</td>\n",
       "      <td>805666244</td>\n",
       "      <td>419385387</td>\n",
       "      <td>7133.132411</td>\n",
       "      <td>23540.284704</td>\n",
       "      <td>7087.859284</td>\n",
       "      <td>24144.412173</td>\n",
       "      <td>0.006347</td>\n",
       "      <td>-0.025664</td>\n",
       "      <td>1.717867</td>\n",
       "      <td>0.303018</td>\n",
       "    </tr>\n",
       "    <tr>\n",
       "      <th>2</th>\n",
       "      <td>3</td>\n",
       "      <td>2002</td>\n",
       "      <td>APR</td>\n",
       "      <td>36452</td>\n",
       "      <td>59817</td>\n",
       "      <td>846368297</td>\n",
       "      <td>433061150</td>\n",
       "      <td>7239.767123</td>\n",
       "      <td>23218.706710</td>\n",
       "      <td>7133.132411</td>\n",
       "      <td>23540.284704</td>\n",
       "      <td>0.014729</td>\n",
       "      <td>-0.013850</td>\n",
       "      <td>1.640980</td>\n",
       "      <td>0.311808</td>\n",
       "    </tr>\n",
       "    <tr>\n",
       "      <th>3</th>\n",
       "      <td>4</td>\n",
       "      <td>2002</td>\n",
       "      <td>MAY</td>\n",
       "      <td>37359</td>\n",
       "      <td>60577</td>\n",
       "      <td>855005784</td>\n",
       "      <td>442569410</td>\n",
       "      <td>7305.898443</td>\n",
       "      <td>22886.206376</td>\n",
       "      <td>7239.767123</td>\n",
       "      <td>23218.706710</td>\n",
       "      <td>0.009052</td>\n",
       "      <td>-0.014528</td>\n",
       "      <td>1.621483</td>\n",
       "      <td>0.319227</td>\n",
       "    </tr>\n",
       "    <tr>\n",
       "      <th>4</th>\n",
       "      <td>5</td>\n",
       "      <td>2002</td>\n",
       "      <td>JUN</td>\n",
       "      <td>36348</td>\n",
       "      <td>55415</td>\n",
       "      <td>830251613</td>\n",
       "      <td>414731166</td>\n",
       "      <td>7484.095750</td>\n",
       "      <td>22841.741306</td>\n",
       "      <td>7305.898443</td>\n",
       "      <td>22886.206376</td>\n",
       "      <td>0.023810</td>\n",
       "      <td>-0.001947</td>\n",
       "      <td>1.524568</td>\n",
       "      <td>0.327650</td>\n",
       "    </tr>\n",
       "    <tr>\n",
       "      <th>...</th>\n",
       "      <td>...</td>\n",
       "      <td>...</td>\n",
       "      <td>...</td>\n",
       "      <td>...</td>\n",
       "      <td>...</td>\n",
       "      <td>...</td>\n",
       "      <td>...</td>\n",
       "      <td>...</td>\n",
       "      <td>...</td>\n",
       "      <td>...</td>\n",
       "      <td>...</td>\n",
       "      <td>...</td>\n",
       "      <td>...</td>\n",
       "      <td>...</td>\n",
       "      <td>...</td>\n",
       "    </tr>\n",
       "    <tr>\n",
       "      <th>248</th>\n",
       "      <td>249</td>\n",
       "      <td>2022</td>\n",
       "      <td>OCT</td>\n",
       "      <td>22255</td>\n",
       "      <td>47325</td>\n",
       "      <td>1060091844</td>\n",
       "      <td>804805365</td>\n",
       "      <td>17005.924247</td>\n",
       "      <td>47633.873017</td>\n",
       "      <td>17366.504576</td>\n",
       "      <td>47788.648533</td>\n",
       "      <td>-0.021203</td>\n",
       "      <td>-0.003249</td>\n",
       "      <td>2.126488</td>\n",
       "      <td>0.357013</td>\n",
       "    </tr>\n",
       "    <tr>\n",
       "      <th>249</th>\n",
       "      <td>250</td>\n",
       "      <td>2022</td>\n",
       "      <td>NOV</td>\n",
       "      <td>21117</td>\n",
       "      <td>43345</td>\n",
       "      <td>993531237</td>\n",
       "      <td>734729853</td>\n",
       "      <td>16950.740639</td>\n",
       "      <td>47048.881801</td>\n",
       "      <td>17005.924247</td>\n",
       "      <td>47633.873017</td>\n",
       "      <td>-0.003256</td>\n",
       "      <td>-0.012434</td>\n",
       "      <td>2.052612</td>\n",
       "      <td>0.360279</td>\n",
       "    </tr>\n",
       "    <tr>\n",
       "      <th>250</th>\n",
       "      <td>251</td>\n",
       "      <td>2022</td>\n",
       "      <td>DEC</td>\n",
       "      <td>23025</td>\n",
       "      <td>40906</td>\n",
       "      <td>1120587035</td>\n",
       "      <td>718545405</td>\n",
       "      <td>17565.770425</td>\n",
       "      <td>48668.275136</td>\n",
       "      <td>16950.740639</td>\n",
       "      <td>47048.881801</td>\n",
       "      <td>0.035013</td>\n",
       "      <td>0.033274</td>\n",
       "      <td>1.776591</td>\n",
       "      <td>0.360929</td>\n",
       "    </tr>\n",
       "    <tr>\n",
       "      <th>251</th>\n",
       "      <td>252</td>\n",
       "      <td>2023</td>\n",
       "      <td>JAN</td>\n",
       "      <td>21037</td>\n",
       "      <td>45543</td>\n",
       "      <td>992034915</td>\n",
       "      <td>762502754</td>\n",
       "      <td>16742.479722</td>\n",
       "      <td>47156.672292</td>\n",
       "      <td>17565.770425</td>\n",
       "      <td>48668.275136</td>\n",
       "      <td>-0.049174</td>\n",
       "      <td>-0.032055</td>\n",
       "      <td>2.164900</td>\n",
       "      <td>0.355039</td>\n",
       "    </tr>\n",
       "    <tr>\n",
       "      <th>252</th>\n",
       "      <td>253</td>\n",
       "      <td>2023</td>\n",
       "      <td>FEB</td>\n",
       "      <td>20893</td>\n",
       "      <td>44320</td>\n",
       "      <td>960384917</td>\n",
       "      <td>712901541</td>\n",
       "      <td>16085.323579</td>\n",
       "      <td>45966.827023</td>\n",
       "      <td>16742.479722</td>\n",
       "      <td>47156.672292</td>\n",
       "      <td>-0.040854</td>\n",
       "      <td>-0.025885</td>\n",
       "      <td>2.121285</td>\n",
       "      <td>0.349933</td>\n",
       "    </tr>\n",
       "  </tbody>\n",
       "</table>\n",
       "<p>253 rows × 15 columns</p>\n",
       "</div>"
      ],
      "text/plain": [
       "     Unnamed: 0  Year  Month     New   Used  Total Sales New  \\\n",
       "0             1   2002    FEB  27520  50982        664454223   \n",
       "1             2   2002    MAR  34225  58794        805666244   \n",
       "2             3   2002    APR  36452  59817        846368297   \n",
       "3             4   2002    MAY  37359  60577        855005784   \n",
       "4             5   2002    JUN  36348  55415        830251613   \n",
       "..          ...    ...    ...    ...    ...              ...   \n",
       "248         249   2022    OCT  22255  47325       1060091844   \n",
       "249         250   2022    NOV  21117  43345        993531237   \n",
       "250         251   2022    DEC  23025  40906       1120587035   \n",
       "251         252   2023    JAN  21037  45543        992034915   \n",
       "252         253   2023    FEB  20893  44320        960384917   \n",
       "\n",
       "     Total Sales Used      Avg_Used       Avg_New  Avg_Used_Previous  \\\n",
       "0           361353242   7087.859284  24144.412173        7740.940353   \n",
       "1           419385387   7133.132411  23540.284704        7087.859284   \n",
       "2           433061150   7239.767123  23218.706710        7133.132411   \n",
       "3           442569410   7305.898443  22886.206376        7239.767123   \n",
       "4           414731166   7484.095750  22841.741306        7305.898443   \n",
       "..                ...           ...           ...                ...   \n",
       "248         804805365  17005.924247  47633.873017       17366.504576   \n",
       "249         734729853  16950.740639  47048.881801       17005.924247   \n",
       "250         718545405  17565.770425  48668.275136       16950.740639   \n",
       "251         762502754  16742.479722  47156.672292       17565.770425   \n",
       "252         712901541  16085.323579  45966.827023       16742.479722   \n",
       "\n",
       "     Avg_New_Previous  Change_Car_Sales_Used  Change_Car_Sales_New  \\\n",
       "0        24272.353244              -0.092141             -0.005299   \n",
       "1        24144.412173               0.006347             -0.025664   \n",
       "2        23540.284704               0.014729             -0.013850   \n",
       "3        23218.706710               0.009052             -0.014528   \n",
       "4        22886.206376               0.023810             -0.001947   \n",
       "..                ...                    ...                   ...   \n",
       "248      47788.648533              -0.021203             -0.003249   \n",
       "249      47633.873017              -0.003256             -0.012434   \n",
       "250      47048.881801               0.035013              0.033274   \n",
       "251      48668.275136              -0.049174             -0.032055   \n",
       "252      47156.672292              -0.040854             -0.025885   \n",
       "\n",
       "     Ratio_Used_New  Ratio_Used_New_Sales  \n",
       "0          1.852544              0.293561  \n",
       "1          1.717867              0.303018  \n",
       "2          1.640980              0.311808  \n",
       "3          1.621483              0.319227  \n",
       "4          1.524568              0.327650  \n",
       "..              ...                   ...  \n",
       "248        2.126488              0.357013  \n",
       "249        2.052612              0.360279  \n",
       "250        1.776591              0.360929  \n",
       "251        2.164900              0.355039  \n",
       "252        2.121285              0.349933  \n",
       "\n",
       "[253 rows x 15 columns]"
      ]
     },
     "execution_count": 10,
     "metadata": {},
     "output_type": "execute_result"
    }
   ],
   "source": [
    "sales"
   ]
  },
  {
   "cell_type": "code",
   "execution_count": 11,
   "id": "a9e00b70",
   "metadata": {},
   "outputs": [],
   "source": [
    "sales['Num_Month'] = sales['Month '].apply(lambda x: convert[x])\n",
    "\n",
    "sales['DATE'] = sales.apply(lambda row: f\"{row['Year ']}-{row['Num_Month']}-01\", axis=1)"
   ]
  },
  {
   "cell_type": "code",
   "execution_count": 12,
   "id": "8949cd43",
   "metadata": {},
   "outputs": [
    {
     "name": "stderr",
     "output_type": "stream",
     "text": [
      "/var/folders/g3/164q6cz52jv0sjllnsg7jdsm0000gn/T/ipykernel_64445/3078440734.py:8: FutureWarning: Passing 'suffixes' which cause duplicate columns {'Unnamed: 0_y'} in the result is deprecated and will raise a MergeError in a future version.\n",
      "  final_df = pd.merge(econ_df, final_df, on='DATE')\n",
      "/var/folders/g3/164q6cz52jv0sjllnsg7jdsm0000gn/T/ipykernel_64445/3078440734.py:8: FutureWarning: Passing 'suffixes' which cause duplicate columns {'Datetime_y', 'Ten_Change_y'} in the result is deprecated and will raise a MergeError in a future version.\n",
      "  final_df = pd.merge(econ_df, final_df, on='DATE')\n",
      "/var/folders/g3/164q6cz52jv0sjllnsg7jdsm0000gn/T/ipykernel_64445/3078440734.py:8: FutureWarning: Passing 'suffixes' which cause duplicate columns {'Unnamed: 0_y'} in the result is deprecated and will raise a MergeError in a future version.\n",
      "  final_df = pd.merge(econ_df, final_df, on='DATE')\n"
     ]
    }
   ],
   "source": [
    "econ_data = ['MYAGM2USM052S', 'MEDCPIM158SFRBCLE', 'UNRATE', 'Ten_Year', 'CORESTICKM159SFRBATL']\n",
    "\n",
    "final_df = sales\n",
    "for econ in econ_data:\n",
    "    \n",
    "    econ_df = pd.read_csv(f'{econ}.csv')\n",
    "    \n",
    "    final_df = pd.merge(econ_df, final_df, on='DATE')\n",
    "    "
   ]
  },
  {
   "cell_type": "code",
   "execution_count": 13,
   "id": "36267e7d",
   "metadata": {},
   "outputs": [
    {
     "data": {
      "text/plain": [
       "['Unnamed: 0_x',\n",
       " 'DATE',\n",
       " 'CORESTICKM159SFRBATL',\n",
       " 'Datetime',\n",
       " 'CORESTICKM159SFRBATL_Prev',\n",
       " 'Ten_Change',\n",
       " 'Unnamed: 0_y',\n",
       " 'REAINTRATREARAT10Y',\n",
       " 'Datetime_x',\n",
       " 'REAINTRATREARAT10Y_Prev',\n",
       " 'Ten_Change_x',\n",
       " 'Unnamed: 0_x',\n",
       " 'UNRATE',\n",
       " 'Datetime_y',\n",
       " 'UNRATE_Prev',\n",
       " 'Ten_Change_y',\n",
       " 'Unnamed: 0_y',\n",
       " 'MEDCPIM158SFRBCLE',\n",
       " 'Datetime_x',\n",
       " 'MEDCPIM158SFRBCLE_Prev',\n",
       " 'Ten_Change_x',\n",
       " 'Unnamed: 0_x',\n",
       " 'MYAGM2USM052S',\n",
       " 'Datetime_y',\n",
       " 'MYAGM2USM052S_Prev',\n",
       " 'Ten_Change_y',\n",
       " 'Unnamed: 0_y',\n",
       " 'Year ',\n",
       " 'Month ',\n",
       " 'New',\n",
       " 'Used',\n",
       " 'Total Sales New',\n",
       " 'Total Sales Used',\n",
       " 'Avg_Used',\n",
       " 'Avg_New',\n",
       " 'Avg_Used_Previous',\n",
       " 'Avg_New_Previous',\n",
       " 'Change_Car_Sales_Used',\n",
       " 'Change_Car_Sales_New',\n",
       " 'Ratio_Used_New',\n",
       " 'Ratio_Used_New_Sales',\n",
       " 'Num_Month']"
      ]
     },
     "execution_count": 13,
     "metadata": {},
     "output_type": "execute_result"
    }
   ],
   "source": [
    "final_df.columns.tolist()"
   ]
  },
  {
   "cell_type": "code",
   "execution_count": 14,
   "id": "b0dc4b3d",
   "metadata": {},
   "outputs": [
    {
     "data": {
      "text/html": [
       "<div>\n",
       "<style scoped>\n",
       "    .dataframe tbody tr th:only-of-type {\n",
       "        vertical-align: middle;\n",
       "    }\n",
       "\n",
       "    .dataframe tbody tr th {\n",
       "        vertical-align: top;\n",
       "    }\n",
       "\n",
       "    .dataframe thead th {\n",
       "        text-align: right;\n",
       "    }\n",
       "</style>\n",
       "<table border=\"1\" class=\"dataframe\">\n",
       "  <thead>\n",
       "    <tr style=\"text-align: right;\">\n",
       "      <th></th>\n",
       "      <th>CORESTICKM159SFRBATL_Prev</th>\n",
       "      <th>REAINTRATREARAT10Y_Prev</th>\n",
       "      <th>MEDCPIM158SFRBCLE_Prev</th>\n",
       "      <th>MYAGM2USM052S_Prev</th>\n",
       "      <th>UNRATE_Prev</th>\n",
       "      <th>Total Sales New</th>\n",
       "      <th>Total Sales Used</th>\n",
       "      <th>Avg_Used</th>\n",
       "      <th>Avg_New</th>\n",
       "      <th>Avg_Used_Previous</th>\n",
       "      <th>Avg_New_Previous</th>\n",
       "      <th>Change_Car_Sales_Used</th>\n",
       "      <th>Change_Car_Sales_New</th>\n",
       "      <th>Ratio_Used_New</th>\n",
       "      <th>Ratio_Used_New_Sales</th>\n",
       "    </tr>\n",
       "  </thead>\n",
       "  <tbody>\n",
       "    <tr>\n",
       "      <th>0</th>\n",
       "      <td>3.037465</td>\n",
       "      <td>1.446108</td>\n",
       "      <td>2.717798</td>\n",
       "      <td>5.654800e+12</td>\n",
       "      <td>5.7</td>\n",
       "      <td>865326154</td>\n",
       "      <td>456738532</td>\n",
       "      <td>7872.087763</td>\n",
       "      <td>24530.166515</td>\n",
       "      <td>7787.911508</td>\n",
       "      <td>23918.018495</td>\n",
       "      <td>0.010693</td>\n",
       "      <td>0.024955</td>\n",
       "      <td>1.644744</td>\n",
       "      <td>0.320915</td>\n",
       "    </tr>\n",
       "    <tr>\n",
       "      <th>1</th>\n",
       "      <td>2.947748</td>\n",
       "      <td>1.268696</td>\n",
       "      <td>2.313903</td>\n",
       "      <td>5.707400e+12</td>\n",
       "      <td>5.7</td>\n",
       "      <td>691740703</td>\n",
       "      <td>379196575</td>\n",
       "      <td>7728.296071</td>\n",
       "      <td>24872.022976</td>\n",
       "      <td>7872.087763</td>\n",
       "      <td>24530.166515</td>\n",
       "      <td>-0.018606</td>\n",
       "      <td>0.013745</td>\n",
       "      <td>1.764203</td>\n",
       "      <td>0.310722</td>\n",
       "    </tr>\n",
       "    <tr>\n",
       "      <th>2</th>\n",
       "      <td>2.834183</td>\n",
       "      <td>1.395587</td>\n",
       "      <td>1.910976</td>\n",
       "      <td>5.750700e+12</td>\n",
       "      <td>5.9</td>\n",
       "      <td>673208880</td>\n",
       "      <td>374453368</td>\n",
       "      <td>8818.759992</td>\n",
       "      <td>24939.204268</td>\n",
       "      <td>7728.296071</td>\n",
       "      <td>24872.022976</td>\n",
       "      <td>0.123653</td>\n",
       "      <td>0.002694</td>\n",
       "      <td>1.572979</td>\n",
       "      <td>0.353610</td>\n",
       "    </tr>\n",
       "    <tr>\n",
       "      <th>3</th>\n",
       "      <td>2.184248</td>\n",
       "      <td>1.897238</td>\n",
       "      <td>2.022265</td>\n",
       "      <td>6.072600e+12</td>\n",
       "      <td>6.1</td>\n",
       "      <td>980365678</td>\n",
       "      <td>470520906</td>\n",
       "      <td>7538.345419</td>\n",
       "      <td>25400.048657</td>\n",
       "      <td>7654.893272</td>\n",
       "      <td>25019.893906</td>\n",
       "      <td>-0.015461</td>\n",
       "      <td>0.014967</td>\n",
       "      <td>1.617146</td>\n",
       "      <td>0.296785</td>\n",
       "    </tr>\n",
       "    <tr>\n",
       "      <th>4</th>\n",
       "      <td>2.161113</td>\n",
       "      <td>1.380819</td>\n",
       "      <td>2.095867</td>\n",
       "      <td>6.059600e+12</td>\n",
       "      <td>6.0</td>\n",
       "      <td>779674957</td>\n",
       "      <td>385164663</td>\n",
       "      <td>7603.684987</td>\n",
       "      <td>25855.578080</td>\n",
       "      <td>7538.345419</td>\n",
       "      <td>25400.048657</td>\n",
       "      <td>0.008593</td>\n",
       "      <td>0.017618</td>\n",
       "      <td>1.679821</td>\n",
       "      <td>0.294083</td>\n",
       "    </tr>\n",
       "  </tbody>\n",
       "</table>\n",
       "</div>"
      ],
      "text/plain": [
       "   CORESTICKM159SFRBATL_Prev  REAINTRATREARAT10Y_Prev  MEDCPIM158SFRBCLE_Prev  \\\n",
       "0                   3.037465                 1.446108                2.717798   \n",
       "1                   2.947748                 1.268696                2.313903   \n",
       "2                   2.834183                 1.395587                1.910976   \n",
       "3                   2.184248                 1.897238                2.022265   \n",
       "4                   2.161113                 1.380819                2.095867   \n",
       "\n",
       "   MYAGM2USM052S_Prev  UNRATE_Prev  Total Sales New  Total Sales Used  \\\n",
       "0        5.654800e+12          5.7        865326154         456738532   \n",
       "1        5.707400e+12          5.7        691740703         379196575   \n",
       "2        5.750700e+12          5.9        673208880         374453368   \n",
       "3        6.072600e+12          6.1        980365678         470520906   \n",
       "4        6.059600e+12          6.0        779674957         385164663   \n",
       "\n",
       "      Avg_Used       Avg_New  Avg_Used_Previous  Avg_New_Previous  \\\n",
       "0  7872.087763  24530.166515        7787.911508      23918.018495   \n",
       "1  7728.296071  24872.022976        7872.087763      24530.166515   \n",
       "2  8818.759992  24939.204268        7728.296071      24872.022976   \n",
       "3  7538.345419  25400.048657        7654.893272      25019.893906   \n",
       "4  7603.684987  25855.578080        7538.345419      25400.048657   \n",
       "\n",
       "   Change_Car_Sales_Used  Change_Car_Sales_New  Ratio_Used_New  \\\n",
       "0               0.010693              0.024955        1.644744   \n",
       "1              -0.018606              0.013745        1.764203   \n",
       "2               0.123653              0.002694        1.572979   \n",
       "3              -0.015461              0.014967        1.617146   \n",
       "4               0.008593              0.017618        1.679821   \n",
       "\n",
       "   Ratio_Used_New_Sales  \n",
       "0              0.320915  \n",
       "1              0.310722  \n",
       "2              0.353610  \n",
       "3              0.296785  \n",
       "4              0.294083  "
      ]
     },
     "execution_count": 14,
     "metadata": {},
     "output_type": "execute_result"
    }
   ],
   "source": [
    "data_df = final_df[['CORESTICKM159SFRBATL_Prev', 'REAINTRATREARAT10Y_Prev', 'MEDCPIM158SFRBCLE_Prev', 'MYAGM2USM052S_Prev', 'UNRATE_Prev', 'Total Sales New',\n",
    " 'Total Sales Used',\n",
    " 'Avg_Used',\n",
    " 'Avg_New',\n",
    " 'Avg_Used_Previous',\n",
    " 'Avg_New_Previous',\n",
    " 'Change_Car_Sales_Used',\n",
    " 'Change_Car_Sales_New',\n",
    " 'Ratio_Used_New',\n",
    " 'Ratio_Used_New_Sales']]\n",
    "\n",
    "data_df.head()"
   ]
  },
  {
   "cell_type": "code",
   "execution_count": 69,
   "id": "40a88808",
   "metadata": {},
   "outputs": [
    {
     "data": {
      "text/html": [
       "<div>\n",
       "<style scoped>\n",
       "    .dataframe tbody tr th:only-of-type {\n",
       "        vertical-align: middle;\n",
       "    }\n",
       "\n",
       "    .dataframe tbody tr th {\n",
       "        vertical-align: top;\n",
       "    }\n",
       "\n",
       "    .dataframe thead th {\n",
       "        text-align: right;\n",
       "    }\n",
       "</style>\n",
       "<table border=\"1\" class=\"dataframe\">\n",
       "  <thead>\n",
       "    <tr style=\"text-align: right;\">\n",
       "      <th></th>\n",
       "      <th>CORESTICKM159SFRBATL_Prev</th>\n",
       "      <th>REAINTRATREARAT10Y_Prev</th>\n",
       "      <th>MEDCPIM158SFRBCLE_Prev</th>\n",
       "      <th>MYAGM2USM052S_Prev</th>\n",
       "      <th>UNRATE_Prev</th>\n",
       "      <th>Total_Sales_New</th>\n",
       "      <th>Total_Sales_Used</th>\n",
       "      <th>Avg_Used</th>\n",
       "      <th>Avg_New</th>\n",
       "      <th>Avg_Used_Previous</th>\n",
       "      <th>Avg_New_Previous</th>\n",
       "      <th>Change_Car_Sales_Used</th>\n",
       "      <th>Change_Car_Sales_New</th>\n",
       "      <th>Ratio_Used_New</th>\n",
       "      <th>Ratio_Used_New_Sales</th>\n",
       "    </tr>\n",
       "  </thead>\n",
       "  <tbody>\n",
       "    <tr>\n",
       "      <th>0</th>\n",
       "      <td>3.037465</td>\n",
       "      <td>1.446108</td>\n",
       "      <td>2.717798</td>\n",
       "      <td>5.654800e+12</td>\n",
       "      <td>5.7</td>\n",
       "      <td>865326154</td>\n",
       "      <td>456738532</td>\n",
       "      <td>7872.087763</td>\n",
       "      <td>24530.166515</td>\n",
       "      <td>7787.911508</td>\n",
       "      <td>23918.018495</td>\n",
       "      <td>0.010693</td>\n",
       "      <td>0.024955</td>\n",
       "      <td>1.644744</td>\n",
       "      <td>0.320915</td>\n",
       "    </tr>\n",
       "    <tr>\n",
       "      <th>1</th>\n",
       "      <td>2.947748</td>\n",
       "      <td>1.268696</td>\n",
       "      <td>2.313903</td>\n",
       "      <td>5.707400e+12</td>\n",
       "      <td>5.7</td>\n",
       "      <td>691740703</td>\n",
       "      <td>379196575</td>\n",
       "      <td>7728.296071</td>\n",
       "      <td>24872.022976</td>\n",
       "      <td>7872.087763</td>\n",
       "      <td>24530.166515</td>\n",
       "      <td>-0.018606</td>\n",
       "      <td>0.013745</td>\n",
       "      <td>1.764203</td>\n",
       "      <td>0.310722</td>\n",
       "    </tr>\n",
       "    <tr>\n",
       "      <th>2</th>\n",
       "      <td>2.834183</td>\n",
       "      <td>1.395587</td>\n",
       "      <td>1.910976</td>\n",
       "      <td>5.750700e+12</td>\n",
       "      <td>5.9</td>\n",
       "      <td>673208880</td>\n",
       "      <td>374453368</td>\n",
       "      <td>8818.759992</td>\n",
       "      <td>24939.204268</td>\n",
       "      <td>7728.296071</td>\n",
       "      <td>24872.022976</td>\n",
       "      <td>0.123653</td>\n",
       "      <td>0.002694</td>\n",
       "      <td>1.572979</td>\n",
       "      <td>0.353610</td>\n",
       "    </tr>\n",
       "    <tr>\n",
       "      <th>3</th>\n",
       "      <td>2.184248</td>\n",
       "      <td>1.897238</td>\n",
       "      <td>2.022265</td>\n",
       "      <td>6.072600e+12</td>\n",
       "      <td>6.1</td>\n",
       "      <td>980365678</td>\n",
       "      <td>470520906</td>\n",
       "      <td>7538.345419</td>\n",
       "      <td>25400.048657</td>\n",
       "      <td>7654.893272</td>\n",
       "      <td>25019.893906</td>\n",
       "      <td>-0.015461</td>\n",
       "      <td>0.014967</td>\n",
       "      <td>1.617146</td>\n",
       "      <td>0.296785</td>\n",
       "    </tr>\n",
       "    <tr>\n",
       "      <th>4</th>\n",
       "      <td>2.161113</td>\n",
       "      <td>1.380819</td>\n",
       "      <td>2.095867</td>\n",
       "      <td>6.059600e+12</td>\n",
       "      <td>6.0</td>\n",
       "      <td>779674957</td>\n",
       "      <td>385164663</td>\n",
       "      <td>7603.684987</td>\n",
       "      <td>25855.578080</td>\n",
       "      <td>7538.345419</td>\n",
       "      <td>25400.048657</td>\n",
       "      <td>0.008593</td>\n",
       "      <td>0.017618</td>\n",
       "      <td>1.679821</td>\n",
       "      <td>0.294083</td>\n",
       "    </tr>\n",
       "  </tbody>\n",
       "</table>\n",
       "</div>"
      ],
      "text/plain": [
       "   CORESTICKM159SFRBATL_Prev  REAINTRATREARAT10Y_Prev  MEDCPIM158SFRBCLE_Prev  \\\n",
       "0                   3.037465                 1.446108                2.717798   \n",
       "1                   2.947748                 1.268696                2.313903   \n",
       "2                   2.834183                 1.395587                1.910976   \n",
       "3                   2.184248                 1.897238                2.022265   \n",
       "4                   2.161113                 1.380819                2.095867   \n",
       "\n",
       "   MYAGM2USM052S_Prev  UNRATE_Prev  Total_Sales_New  Total_Sales_Used  \\\n",
       "0        5.654800e+12          5.7        865326154         456738532   \n",
       "1        5.707400e+12          5.7        691740703         379196575   \n",
       "2        5.750700e+12          5.9        673208880         374453368   \n",
       "3        6.072600e+12          6.1        980365678         470520906   \n",
       "4        6.059600e+12          6.0        779674957         385164663   \n",
       "\n",
       "      Avg_Used       Avg_New  Avg_Used_Previous  Avg_New_Previous  \\\n",
       "0  7872.087763  24530.166515        7787.911508      23918.018495   \n",
       "1  7728.296071  24872.022976        7872.087763      24530.166515   \n",
       "2  8818.759992  24939.204268        7728.296071      24872.022976   \n",
       "3  7538.345419  25400.048657        7654.893272      25019.893906   \n",
       "4  7603.684987  25855.578080        7538.345419      25400.048657   \n",
       "\n",
       "   Change_Car_Sales_Used  Change_Car_Sales_New  Ratio_Used_New  \\\n",
       "0               0.010693              0.024955        1.644744   \n",
       "1              -0.018606              0.013745        1.764203   \n",
       "2               0.123653              0.002694        1.572979   \n",
       "3              -0.015461              0.014967        1.617146   \n",
       "4               0.008593              0.017618        1.679821   \n",
       "\n",
       "   Ratio_Used_New_Sales  \n",
       "0              0.320915  \n",
       "1              0.310722  \n",
       "2              0.353610  \n",
       "3              0.296785  \n",
       "4              0.294083  "
      ]
     },
     "execution_count": 69,
     "metadata": {},
     "output_type": "execute_result"
    }
   ],
   "source": [
    "data_df = data_df.rename(columns={'Total Sales Used': 'Total_Sales_Used', 'Total Sales New': 'Total_Sales_New'})\n",
    "data_df.head()"
   ]
  },
  {
   "cell_type": "code",
   "execution_count": null,
   "id": "0e248a11",
   "metadata": {},
   "outputs": [],
   "source": [
    "data_df['']"
   ]
  },
  {
   "cell_type": "code",
   "execution_count": 113,
   "id": "fcfd54f2",
   "metadata": {},
   "outputs": [
    {
     "data": {
      "text/plain": [
       "45"
      ]
     },
     "execution_count": 113,
     "metadata": {},
     "output_type": "execute_result"
    }
   ],
   "source": [
    "len(data_df)"
   ]
  },
  {
   "cell_type": "markdown",
   "id": "c07e0b31",
   "metadata": {},
   "source": [
    "# Total Sales Used"
   ]
  },
  {
   "cell_type": "code",
   "execution_count": 150,
   "id": "afd3ff99",
   "metadata": {},
   "outputs": [
    {
     "name": "stdout",
     "output_type": "stream",
     "text": [
      "                            OLS Regression Results                            \n",
      "==============================================================================\n",
      "Dep. Variable:       Total_Sales_Used   R-squared:                       0.760\n",
      "Model:                            OLS   Adj. R-squared:                  0.735\n",
      "Method:                 Least Squares   F-statistic:                     31.59\n",
      "Date:                Sat, 05 Oct 2024   Prob (F-statistic):           6.76e-12\n",
      "Time:                        16:04:31   Log-Likelihood:                -855.56\n",
      "No. Observations:                  45   AIC:                             1721.\n",
      "Df Residuals:                      40   BIC:                             1730.\n",
      "Df Model:                           4                                         \n",
      "Covariance Type:            nonrobust                                         \n",
      "=============================================================================================\n",
      "                                coef    std err          t      P>|t|      [0.025      0.975]\n",
      "---------------------------------------------------------------------------------------------\n",
      "Intercept                  7.106e+08   1.35e+08      5.268      0.000    4.38e+08    9.83e+08\n",
      "CORESTICKM159SFRBATL_Prev -4.591e+07   1.88e+07     -2.437      0.019    -8.4e+07   -7.83e+06\n",
      "REAINTRATREARAT10Y_Prev    -2.83e+07   2.23e+07     -1.267      0.212   -7.34e+07    1.68e+07\n",
      "MYAGM2USM052S_Prev         1.925e-05   6.04e-06      3.187      0.003    7.04e-06    3.15e-05\n",
      "UNRATE_Prev                 -4.5e+07    7.9e+06     -5.694      0.000    -6.1e+07    -2.9e+07\n",
      "==============================================================================\n",
      "Omnibus:                        0.764   Durbin-Watson:                   1.747\n",
      "Prob(Omnibus):                  0.682   Jarque-Bera (JB):                0.559\n",
      "Skew:                          -0.270   Prob(JB):                        0.756\n",
      "Kurtosis:                       2.914   Cond. No.                     1.79e+14\n",
      "==============================================================================\n",
      "\n",
      "Notes:\n",
      "[1] Standard Errors assume that the covariance matrix of the errors is correctly specified.\n",
      "[2] The condition number is large, 1.79e+14. This might indicate that there are\n",
      "strong multicollinearity or other numerical problems.\n"
     ]
    }
   ],
   "source": [
    "import statsmodels.formula.api as smf \n",
    "\n",
    "# Estimating using R style formulas. Note the function is called \"ols\"\n",
    "formula2='Total_Sales_Used ~ CORESTICKM159SFRBATL_Prev + REAINTRATREARAT10Y_Prev + MYAGM2USM052S_Prev + UNRATE_Prev'\n",
    "res2=smf.ols(formula=formula2, data=data_df).fit()\n",
    "print(res2.summary())"
   ]
  },
  {
   "cell_type": "code",
   "execution_count": 125,
   "id": "ea5b9115",
   "metadata": {},
   "outputs": [
    {
     "name": "stdout",
     "output_type": "stream",
     "text": [
      "                            OLS Regression Results                            \n",
      "==============================================================================\n",
      "Dep. Variable:               resid_sq   R-squared:                       0.149\n",
      "Model:                            OLS   Adj. R-squared:                  0.064\n",
      "Method:                 Least Squares   F-statistic:                     1.753\n",
      "Date:                Sat, 05 Oct 2024   Prob (F-statistic):              0.158\n",
      "Time:                        15:41:37   Log-Likelihood:                -1658.2\n",
      "No. Observations:                  45   AIC:                             3326.\n",
      "Df Residuals:                      40   BIC:                             3335.\n",
      "Df Model:                           4                                         \n",
      "Covariance Type:            nonrobust                                         \n",
      "=============================================================================================\n",
      "                                coef    std err          t      P>|t|      [0.025      0.975]\n",
      "---------------------------------------------------------------------------------------------\n",
      "Intercept                  -1.28e+16   7.53e+15     -1.701      0.097    -2.8e+16    2.41e+15\n",
      "MYAGM2USM052S_Prev          620.3113    337.044      1.840      0.073     -60.879    1301.502\n",
      "UNRATE_Prev                5.221e+14   4.41e+14      1.184      0.243   -3.69e+14    1.41e+15\n",
      "REAINTRATREARAT10Y_Prev    1.714e+15   1.25e+15      1.375      0.177   -8.05e+14    4.23e+15\n",
      "CORESTICKM159SFRBATL_Prev  1.846e+15   1.05e+15      1.756      0.087   -2.79e+14    3.97e+15\n",
      "==============================================================================\n",
      "Omnibus:                       26.584   Durbin-Watson:                   2.354\n",
      "Prob(Omnibus):                  0.000   Jarque-Bera (JB):               46.959\n",
      "Skew:                           1.756   Prob(JB):                     6.35e-11\n",
      "Kurtosis:                       6.565   Cond. No.                     1.79e+14\n",
      "==============================================================================\n",
      "\n",
      "Notes:\n",
      "[1] Standard Errors assume that the covariance matrix of the errors is correctly specified.\n",
      "[2] The condition number is large, 1.79e+14. This might indicate that there are\n",
      "strong multicollinearity or other numerical problems.\n"
     ]
    }
   ],
   "source": [
    "# testing for heteroskedaticity\n",
    "\n",
    "data_df['resid_sq'] = res2.resid**2\n",
    "\n",
    "# Estimating using R style formulas. Note the function is called \"ols\"\n",
    "formula2='resid_sq ~ MYAGM2USM052S_Prev + UNRATE_Prev + REAINTRATREARAT10Y_Prev + CORESTICKM159SFRBATL_Prev'\n",
    "res2=smf.ols(formula=formula2, data=data_df).fit()\n",
    "print(res2.summary())"
   ]
  },
  {
   "cell_type": "code",
   "execution_count": 126,
   "id": "c48d80cc",
   "metadata": {},
   "outputs": [
    {
     "data": {
      "text/plain": [
       "6.705"
      ]
     },
     "execution_count": 126,
     "metadata": {},
     "output_type": "execute_result"
    }
   ],
   "source": [
    "# chi squared test 5% signifcance level with 4 degrees of freedom is 9.488 so fail to reject null hypothesis of homoskedaticity\n",
    "\n",
    "0.149 * 45"
   ]
  },
  {
   "cell_type": "code",
   "execution_count": 127,
   "id": "7454733e",
   "metadata": {},
   "outputs": [
    {
     "name": "stdout",
     "output_type": "stream",
     "text": [
      "                    features       VIF\n",
      "0         MYAGM2USM052S_Prev  3.968209\n",
      "1                UNRATE_Prev  3.944187\n",
      "2    REAINTRATREARAT10Y_Prev  5.341506\n",
      "3  CORESTICKM159SFRBATL_Prev  2.694422\n"
     ]
    }
   ],
   "source": [
    "from statsmodels.stats.outliers_influence import variance_inflation_factor\n",
    "# Create a DataFrame for the VIF results\n",
    "vif_data = pd.DataFrame()\n",
    "vif_data['features'] = res2.params.index[1:]  # Exclude the intercept\n",
    "vif_data['VIF'] = [variance_inflation_factor(res2.model.exog, i) for i in range(1, len(res2.params))]\n",
    "\n",
    "# Step 3: Print VIF results\n",
    "print(vif_data)"
   ]
  },
  {
   "cell_type": "markdown",
   "id": "db59baf7",
   "metadata": {},
   "source": [
    "Jarque-Bera (JB) test is not statistically signifcant indicating that the errors have a normal distribution and there is some collinearity among the variables but not signifcant. "
   ]
  },
  {
   "cell_type": "markdown",
   "id": "e46e44e9",
   "metadata": {},
   "source": [
    "# Total Sales New"
   ]
  },
  {
   "cell_type": "code",
   "execution_count": 104,
   "id": "52ff6922",
   "metadata": {},
   "outputs": [
    {
     "name": "stdout",
     "output_type": "stream",
     "text": [
      "                            OLS Regression Results                            \n",
      "==============================================================================\n",
      "Dep. Variable:        Total_Sales_New   R-squared:                       0.611\n",
      "Model:                            OLS   Adj. R-squared:                  0.572\n",
      "Method:                 Least Squares   F-statistic:                     15.70\n",
      "Date:                Sat, 05 Oct 2024   Prob (F-statistic):           8.36e-08\n",
      "Time:                        15:28:31   Log-Likelihood:                -884.23\n",
      "No. Observations:                  45   AIC:                             1778.\n",
      "Df Residuals:                      40   BIC:                             1787.\n",
      "Df Model:                           4                                         \n",
      "Covariance Type:            nonrobust                                         \n",
      "=============================================================================================\n",
      "                                coef    std err          t      P>|t|      [0.025      0.975]\n",
      "---------------------------------------------------------------------------------------------\n",
      "Intercept                  1.908e+09   2.55e+08      7.483      0.000    1.39e+09    2.42e+09\n",
      "MYAGM2USM052S_Prev        -1.331e-05   1.14e-05     -1.166      0.251   -3.64e-05    9.77e-06\n",
      "UNRATE_Prev               -1.009e+08   1.49e+07     -6.755      0.000   -1.31e+08   -7.07e+07\n",
      "REAINTRATREARAT10Y_Prev   -1.083e+08   4.22e+07     -2.564      0.014   -1.94e+08   -2.29e+07\n",
      "CORESTICKM159SFRBATL_Prev -1.206e+08   3.56e+07     -3.384      0.002   -1.93e+08   -4.86e+07\n",
      "==============================================================================\n",
      "Omnibus:                        1.281   Durbin-Watson:                   1.857\n",
      "Prob(Omnibus):                  0.527   Jarque-Bera (JB):                0.541\n",
      "Skew:                           0.189   Prob(JB):                        0.763\n",
      "Kurtosis:                       3.381   Cond. No.                     1.79e+14\n",
      "==============================================================================\n",
      "\n",
      "Notes:\n",
      "[1] Standard Errors assume that the covariance matrix of the errors is correctly specified.\n",
      "[2] The condition number is large, 1.79e+14. This might indicate that there are\n",
      "strong multicollinearity or other numerical problems.\n"
     ]
    }
   ],
   "source": [
    "import statsmodels.formula.api as smf \n",
    "\n",
    "# Estimating using R style formulas. Note the function is called \"ols\"\n",
    "formula2='Total_Sales_New ~ MYAGM2USM052S_Prev + UNRATE_Prev + REAINTRATREARAT10Y_Prev + CORESTICKM159SFRBATL_Prev'\n",
    "res2=smf.ols(formula=formula2, data=data_df).fit()\n",
    "print(res2.summary())"
   ]
  },
  {
   "cell_type": "code",
   "execution_count": 112,
   "id": "537d3d38",
   "metadata": {},
   "outputs": [
    {
     "name": "stdout",
     "output_type": "stream",
     "text": [
      "                            OLS Regression Results                            \n",
      "==============================================================================\n",
      "Dep. Variable:               resid_sq   R-squared:                       0.096\n",
      "Model:                            OLS   Adj. R-squared:                  0.006\n",
      "Method:                 Least Squares   F-statistic:                     1.062\n",
      "Date:                Sat, 05 Oct 2024   Prob (F-statistic):              0.388\n",
      "Time:                        15:30:00   Log-Likelihood:                -1721.9\n",
      "No. Observations:                  45   AIC:                             3454.\n",
      "Df Residuals:                      40   BIC:                             3463.\n",
      "Df Model:                           4                                         \n",
      "Covariance Type:            nonrobust                                         \n",
      "=============================================================================================\n",
      "                                coef    std err          t      P>|t|      [0.025      0.975]\n",
      "---------------------------------------------------------------------------------------------\n",
      "Intercept                 -2.729e+16   3.09e+16     -0.882      0.383   -8.98e+16    3.52e+16\n",
      "MYAGM2USM052S_Prev          871.1055   1385.694      0.629      0.533   -1929.487    3671.698\n",
      "UNRATE_Prev                1.821e+15   1.81e+15      1.004      0.321   -1.84e+15    5.48e+15\n",
      "REAINTRATREARAT10Y_Prev     7.05e+15   5.12e+15      1.376      0.176    -3.3e+15    1.74e+16\n",
      "CORESTICKM159SFRBATL_Prev  3.316e+15   4.32e+15      0.767      0.448   -5.42e+15    1.21e+16\n",
      "==============================================================================\n",
      "Omnibus:                       44.342   Durbin-Watson:                   2.074\n",
      "Prob(Omnibus):                  0.000   Jarque-Bera (JB):              176.663\n",
      "Skew:                           2.486   Prob(JB):                     4.35e-39\n",
      "Kurtosis:                      11.337   Cond. No.                     1.79e+14\n",
      "==============================================================================\n",
      "\n",
      "Notes:\n",
      "[1] Standard Errors assume that the covariance matrix of the errors is correctly specified.\n",
      "[2] The condition number is large, 1.79e+14. This might indicate that there are\n",
      "strong multicollinearity or other numerical problems.\n"
     ]
    }
   ],
   "source": [
    "# testing for heteroskedaticity\n",
    "\n",
    "data_df['resid_sq'] = res2.resid**2\n",
    "\n",
    "# Estimating using R style formulas. Note the function is called \"ols\"\n",
    "formula2='resid_sq ~ MYAGM2USM052S_Prev + UNRATE_Prev + REAINTRATREARAT10Y_Prev + CORESTICKM159SFRBATL_Prev'\n",
    "res2=smf.ols(formula=formula2, data=data_df).fit()\n",
    "print(res2.summary())"
   ]
  },
  {
   "cell_type": "code",
   "execution_count": 114,
   "id": "b06d95e1",
   "metadata": {},
   "outputs": [
    {
     "data": {
      "text/plain": [
       "4.32"
      ]
     },
     "execution_count": 114,
     "metadata": {},
     "output_type": "execute_result"
    }
   ],
   "source": [
    "# chi squared test 5% signifcance level with 4 degrees of freedom is 9.488 so fail to reject null hypothesis of homoskedaticity\n",
    "\n",
    "0.096 * 45"
   ]
  },
  {
   "cell_type": "code",
   "execution_count": 116,
   "id": "0a02f18f",
   "metadata": {},
   "outputs": [
    {
     "name": "stdout",
     "output_type": "stream",
     "text": [
      "                    features       VIF\n",
      "0         MYAGM2USM052S_Prev  3.968209\n",
      "1                UNRATE_Prev  3.944187\n",
      "2    REAINTRATREARAT10Y_Prev  5.341506\n",
      "3  CORESTICKM159SFRBATL_Prev  2.694422\n"
     ]
    }
   ],
   "source": [
    "from statsmodels.stats.outliers_influence import variance_inflation_factor\n",
    "# Create a DataFrame for the VIF results\n",
    "vif_data = pd.DataFrame()\n",
    "vif_data['features'] = res2.params.index[1:]  # Exclude the intercept\n",
    "vif_data['VIF'] = [variance_inflation_factor(res2.model.exog, i) for i in range(1, len(res2.params))]\n",
    "\n",
    "# Step 3: Print VIF results\n",
    "print(vif_data)"
   ]
  },
  {
   "cell_type": "markdown",
   "id": "466545ad",
   "metadata": {},
   "source": [
    "Jarque-Bera (JB) test is not statistically signifcant indicating that the errors have a normal distribution and there is some collinearity among the variables but not signifcant. "
   ]
  },
  {
   "cell_type": "markdown",
   "id": "7b9c31b2",
   "metadata": {},
   "source": [
    "# Avg Used"
   ]
  },
  {
   "cell_type": "code",
   "execution_count": 156,
   "id": "d3282c95",
   "metadata": {},
   "outputs": [
    {
     "name": "stdout",
     "output_type": "stream",
     "text": [
      "                            OLS Regression Results                            \n",
      "==============================================================================\n",
      "Dep. Variable:               Avg_Used   R-squared:                       0.877\n",
      "Model:                            OLS   Adj. R-squared:                  0.864\n",
      "Method:                 Least Squares   F-statistic:                     71.07\n",
      "Date:                Sat, 05 Oct 2024   Prob (F-statistic):           1.23e-17\n",
      "Time:                        16:05:41   Log-Likelihood:                -331.46\n",
      "No. Observations:                  45   AIC:                             672.9\n",
      "Df Residuals:                      40   BIC:                             682.0\n",
      "Df Model:                           4                                         \n",
      "Covariance Type:            nonrobust                                         \n",
      "=============================================================================================\n",
      "                                coef    std err          t      P>|t|      [0.025      0.975]\n",
      "---------------------------------------------------------------------------------------------\n",
      "Intercept                  9296.3942   1180.004      7.878      0.000    6911.517    1.17e+04\n",
      "CORESTICKM159SFRBATL_Prev  -301.6451    164.828     -1.830      0.075    -634.775      31.484\n",
      "REAINTRATREARAT10Y_Prev    -377.7297    195.394     -1.933      0.060    -772.637      17.177\n",
      "MYAGM2USM052S_Prev         3.318e-10   5.28e-11      6.279      0.000    2.25e-10    4.39e-10\n",
      "UNRATE_Prev                -343.5991     69.135     -4.970      0.000    -483.326    -203.872\n",
      "==============================================================================\n",
      "Omnibus:                        0.404   Durbin-Watson:                   1.590\n",
      "Prob(Omnibus):                  0.817   Jarque-Bera (JB):                0.083\n",
      "Skew:                           0.097   Prob(JB):                        0.959\n",
      "Kurtosis:                       3.079   Cond. No.                     1.79e+14\n",
      "==============================================================================\n",
      "\n",
      "Notes:\n",
      "[1] Standard Errors assume that the covariance matrix of the errors is correctly specified.\n",
      "[2] The condition number is large, 1.79e+14. This might indicate that there are\n",
      "strong multicollinearity or other numerical problems.\n"
     ]
    }
   ],
   "source": [
    "import statsmodels.formula.api as smf \n",
    "\n",
    "# Estimating using R style formulas. Note the function is called \"ols\"\n",
    "formula2='Avg_Used ~ CORESTICKM159SFRBATL_Prev + REAINTRATREARAT10Y_Prev + MYAGM2USM052S_Prev + UNRATE_Prev'\n",
    "res2=smf.ols(formula=formula2, data=data_df).fit()\n",
    "print(res2.summary())"
   ]
  },
  {
   "cell_type": "code",
   "execution_count": 129,
   "id": "9b0b4f4b",
   "metadata": {},
   "outputs": [
    {
     "name": "stdout",
     "output_type": "stream",
     "text": [
      "                            OLS Regression Results                            \n",
      "==============================================================================\n",
      "Dep. Variable:               resid_sq   R-squared:                       0.200\n",
      "Model:                            OLS   Adj. R-squared:                  0.121\n",
      "Method:                 Least Squares   F-statistic:                     2.507\n",
      "Date:                Sat, 05 Oct 2024   Prob (F-statistic):             0.0571\n",
      "Time:                        15:44:40   Log-Likelihood:                -610.51\n",
      "No. Observations:                  45   AIC:                             1231.\n",
      "Df Residuals:                      40   BIC:                             1240.\n",
      "Df Model:                           4                                         \n",
      "Covariance Type:            nonrobust                                         \n",
      "=============================================================================================\n",
      "                                coef    std err          t      P>|t|      [0.025      0.975]\n",
      "---------------------------------------------------------------------------------------------\n",
      "Intercept                 -7.424e+05   5.82e+05     -1.276      0.209   -1.92e+06    4.34e+05\n",
      "MYAGM2USM052S_Prev         -7.48e-09   2.61e-08     -0.287      0.776   -6.02e-08    4.52e-08\n",
      "UNRATE_Prev                6.823e+04   3.41e+04      2.001      0.052    -695.666    1.37e+05\n",
      "REAINTRATREARAT10Y_Prev    -1.51e+04   9.64e+04     -0.157      0.876    -2.1e+05     1.8e+05\n",
      "CORESTICKM159SFRBATL_Prev  2.384e+05   8.13e+04      2.932      0.006    7.41e+04    4.03e+05\n",
      "==============================================================================\n",
      "Omnibus:                       30.970   Durbin-Watson:                   1.916\n",
      "Prob(Omnibus):                  0.000   Jarque-Bera (JB):               71.981\n",
      "Skew:                           1.863   Prob(JB):                     2.34e-16\n",
      "Kurtosis:                       7.951   Cond. No.                     1.79e+14\n",
      "==============================================================================\n",
      "\n",
      "Notes:\n",
      "[1] Standard Errors assume that the covariance matrix of the errors is correctly specified.\n",
      "[2] The condition number is large, 1.79e+14. This might indicate that there are\n",
      "strong multicollinearity or other numerical problems.\n"
     ]
    }
   ],
   "source": [
    "# testing for heteroskedaticity\n",
    "\n",
    "data_df['resid_sq'] = res2.resid**2\n",
    "\n",
    "# Estimating using R style formulas. Note the function is called \"ols\"\n",
    "formula2='resid_sq ~ MYAGM2USM052S_Prev + UNRATE_Prev + REAINTRATREARAT10Y_Prev + CORESTICKM159SFRBATL_Prev'\n",
    "res2=smf.ols(formula=formula2, data=data_df).fit()\n",
    "print(res2.summary())"
   ]
  },
  {
   "cell_type": "code",
   "execution_count": 130,
   "id": "399b5ff2",
   "metadata": {},
   "outputs": [
    {
     "data": {
      "text/plain": [
       "9.0"
      ]
     },
     "execution_count": 130,
     "metadata": {},
     "output_type": "execute_result"
    }
   ],
   "source": [
    "# chi squared test 5% signifcance level with 4 degrees of freedom is 9.488 so fail to reject null hypothesis of homoskedaticity\n",
    "\n",
    "0.200 * 45"
   ]
  },
  {
   "cell_type": "markdown",
   "id": "e21ffec8",
   "metadata": {},
   "source": [
    "Jarque-Bera (JB) test is not statistically signifcant indicating that the errors have a normal distribution and there is some collinearity among the variables but not signifcant. "
   ]
  },
  {
   "cell_type": "markdown",
   "id": "13012f97",
   "metadata": {},
   "source": [
    "# Avg_New"
   ]
  },
  {
   "cell_type": "code",
   "execution_count": 131,
   "id": "14a22da2",
   "metadata": {},
   "outputs": [
    {
     "name": "stdout",
     "output_type": "stream",
     "text": [
      "                            OLS Regression Results                            \n",
      "==============================================================================\n",
      "Dep. Variable:                Avg_New   R-squared:                       0.947\n",
      "Model:                            OLS   Adj. R-squared:                  0.942\n",
      "Method:                 Least Squares   F-statistic:                     179.4\n",
      "Date:                Sat, 05 Oct 2024   Prob (F-statistic):           5.65e-25\n",
      "Time:                        15:46:24   Log-Likelihood:                -355.64\n",
      "No. Observations:                  45   AIC:                             721.3\n",
      "Df Residuals:                      40   BIC:                             730.3\n",
      "Df Model:                           4                                         \n",
      "Covariance Type:            nonrobust                                         \n",
      "=============================================================================================\n",
      "                                coef    std err          t      P>|t|      [0.025      0.975]\n",
      "---------------------------------------------------------------------------------------------\n",
      "Intercept                  2.162e+04   2019.332     10.706      0.000    1.75e+04    2.57e+04\n",
      "CORESTICKM159SFRBATL_Prev  -717.4288    282.069     -2.543      0.015   -1287.511    -147.347\n",
      "REAINTRATREARAT10Y_Prev    -117.4546    334.377     -0.351      0.727    -793.256     558.347\n",
      "MYAGM2USM052S_Prev         1.148e-09   9.04e-11     12.697      0.000    9.65e-10    1.33e-09\n",
      "UNRATE_Prev                -150.8216    118.310     -1.275      0.210    -389.935      88.292\n",
      "==============================================================================\n",
      "Omnibus:                        3.401   Durbin-Watson:                   1.557\n",
      "Prob(Omnibus):                  0.183   Jarque-Bera (JB):                3.128\n",
      "Skew:                           0.634   Prob(JB):                        0.209\n",
      "Kurtosis:                       2.751   Cond. No.                     1.79e+14\n",
      "==============================================================================\n",
      "\n",
      "Notes:\n",
      "[1] Standard Errors assume that the covariance matrix of the errors is correctly specified.\n",
      "[2] The condition number is large, 1.79e+14. This might indicate that there are\n",
      "strong multicollinearity or other numerical problems.\n"
     ]
    }
   ],
   "source": [
    "import statsmodels.formula.api as smf \n",
    "\n",
    "# Estimating using R style formulas. Note the function is called \"ols\"\n",
    "formula2='Avg_New ~ CORESTICKM159SFRBATL_Prev + REAINTRATREARAT10Y_Prev + MYAGM2USM052S_Prev + UNRATE_Prev'\n",
    "res2=smf.ols(formula=formula2, data=data_df).fit()\n",
    "print(res2.summary())"
   ]
  },
  {
   "cell_type": "code",
   "execution_count": 132,
   "id": "dbdeac5e",
   "metadata": {},
   "outputs": [
    {
     "name": "stdout",
     "output_type": "stream",
     "text": [
      "                            OLS Regression Results                            \n",
      "==============================================================================\n",
      "Dep. Variable:               resid_sq   R-squared:                       0.015\n",
      "Model:                            OLS   Adj. R-squared:                 -0.084\n",
      "Method:                 Least Squares   F-statistic:                    0.1498\n",
      "Date:                Sat, 05 Oct 2024   Prob (F-statistic):              0.962\n",
      "Time:                        15:46:30   Log-Likelihood:                -659.77\n",
      "No. Observations:                  45   AIC:                             1330.\n",
      "Df Residuals:                      40   BIC:                             1339.\n",
      "Df Model:                           4                                         \n",
      "Covariance Type:            nonrobust                                         \n",
      "=============================================================================================\n",
      "                                coef    std err          t      P>|t|      [0.025      0.975]\n",
      "---------------------------------------------------------------------------------------------\n",
      "Intercept                  1.248e+06   1.74e+06      0.718      0.477   -2.27e+06    4.76e+06\n",
      "MYAGM2USM052S_Prev        -4.805e-08   7.79e-08     -0.617      0.541   -2.05e-07    1.09e-07\n",
      "UNRATE_Prev               -3.123e+04   1.02e+05     -0.306      0.761   -2.37e+05    1.75e+05\n",
      "REAINTRATREARAT10Y_Prev   -2.168e+05   2.88e+05     -0.753      0.456   -7.99e+05    3.65e+05\n",
      "CORESTICKM159SFRBATL_Prev  1.352e+04   2.43e+05      0.056      0.956   -4.78e+05    5.05e+05\n",
      "==============================================================================\n",
      "Omnibus:                       25.277   Durbin-Watson:                   1.430\n",
      "Prob(Omnibus):                  0.000   Jarque-Bera (JB):               39.823\n",
      "Skew:                           1.775   Prob(JB):                     2.25e-09\n",
      "Kurtosis:                       5.938   Cond. No.                     1.79e+14\n",
      "==============================================================================\n",
      "\n",
      "Notes:\n",
      "[1] Standard Errors assume that the covariance matrix of the errors is correctly specified.\n",
      "[2] The condition number is large, 1.79e+14. This might indicate that there are\n",
      "strong multicollinearity or other numerical problems.\n"
     ]
    }
   ],
   "source": [
    "# testing for heteroskedaticity\n",
    "\n",
    "data_df['resid_sq'] = res2.resid**2\n",
    "\n",
    "# Estimating using R style formulas. Note the function is called \"ols\"\n",
    "formula2='resid_sq ~ MYAGM2USM052S_Prev + UNRATE_Prev + REAINTRATREARAT10Y_Prev + CORESTICKM159SFRBATL_Prev'\n",
    "res2=smf.ols(formula=formula2, data=data_df).fit()\n",
    "print(res2.summary())"
   ]
  },
  {
   "cell_type": "code",
   "execution_count": 133,
   "id": "26b0903b",
   "metadata": {},
   "outputs": [
    {
     "data": {
      "text/plain": [
       "0.6749999999999999"
      ]
     },
     "execution_count": 133,
     "metadata": {},
     "output_type": "execute_result"
    }
   ],
   "source": [
    "# chi squared test 5% signifcance level with 4 degrees of freedom is 9.488 so fail to reject null hypothesis of homoskedaticity\n",
    "\n",
    "0.015 * 45"
   ]
  },
  {
   "cell_type": "markdown",
   "id": "da5f0a14",
   "metadata": {},
   "source": [
    "Jarque-Bera (JB) test is not statistically signifcant indicating that the errors have a normal distribution and there is some collinearity among the variables but not signifcant. "
   ]
  },
  {
   "cell_type": "markdown",
   "id": "d9f0976c",
   "metadata": {},
   "source": [
    "# Ratio_Used_New"
   ]
  },
  {
   "cell_type": "code",
   "execution_count": 134,
   "id": "98525d61",
   "metadata": {},
   "outputs": [
    {
     "name": "stdout",
     "output_type": "stream",
     "text": [
      "                            OLS Regression Results                            \n",
      "==============================================================================\n",
      "Dep. Variable:         Ratio_Used_New   R-squared:                       0.677\n",
      "Model:                            OLS   Adj. R-squared:                  0.645\n",
      "Method:                 Least Squares   F-statistic:                     20.95\n",
      "Date:                Sat, 05 Oct 2024   Prob (F-statistic):           2.23e-09\n",
      "Time:                        15:48:21   Log-Likelihood:                 25.401\n",
      "No. Observations:                  45   AIC:                            -40.80\n",
      "Df Residuals:                      40   BIC:                            -31.77\n",
      "Df Model:                           4                                         \n",
      "Covariance Type:            nonrobust                                         \n",
      "=============================================================================================\n",
      "                                coef    std err          t      P>|t|      [0.025      0.975]\n",
      "---------------------------------------------------------------------------------------------\n",
      "Intercept                    -0.7744      0.424     -1.824      0.076      -1.632       0.083\n",
      "CORESTICKM159SFRBATL_Prev     0.1465      0.059      2.470      0.018       0.027       0.266\n",
      "REAINTRATREARAT10Y_Prev       0.2893      0.070      4.116      0.000       0.147       0.431\n",
      "MYAGM2USM052S_Prev         1.238e-13    1.9e-14      6.513      0.000    8.54e-14    1.62e-13\n",
      "UNRATE_Prev                   0.1605      0.025      6.455      0.000       0.110       0.211\n",
      "==============================================================================\n",
      "Omnibus:                        1.700   Durbin-Watson:                   1.278\n",
      "Prob(Omnibus):                  0.427   Jarque-Bera (JB):                1.623\n",
      "Skew:                           0.378   Prob(JB):                        0.444\n",
      "Kurtosis:                       2.457   Cond. No.                     1.79e+14\n",
      "==============================================================================\n",
      "\n",
      "Notes:\n",
      "[1] Standard Errors assume that the covariance matrix of the errors is correctly specified.\n",
      "[2] The condition number is large, 1.79e+14. This might indicate that there are\n",
      "strong multicollinearity or other numerical problems.\n"
     ]
    }
   ],
   "source": [
    "import statsmodels.formula.api as smf \n",
    "\n",
    "# Estimating using R style formulas. Note the function is called \"ols\"\n",
    "formula2='Ratio_Used_New ~ CORESTICKM159SFRBATL_Prev + REAINTRATREARAT10Y_Prev + MYAGM2USM052S_Prev + UNRATE_Prev'\n",
    "res2=smf.ols(formula=formula2, data=data_df).fit()\n",
    "print(res2.summary())"
   ]
  },
  {
   "cell_type": "code",
   "execution_count": 135,
   "id": "8195dc85",
   "metadata": {},
   "outputs": [
    {
     "name": "stdout",
     "output_type": "stream",
     "text": [
      "                            OLS Regression Results                            \n",
      "==============================================================================\n",
      "Dep. Variable:               resid_sq   R-squared:                       0.077\n",
      "Model:                            OLS   Adj. R-squared:                 -0.016\n",
      "Method:                 Least Squares   F-statistic:                    0.8304\n",
      "Date:                Sat, 05 Oct 2024   Prob (F-statistic):              0.514\n",
      "Time:                        15:48:31   Log-Likelihood:                 107.95\n",
      "No. Observations:                  45   AIC:                            -205.9\n",
      "Df Residuals:                      40   BIC:                            -196.9\n",
      "Df Model:                           4                                         \n",
      "Covariance Type:            nonrobust                                         \n",
      "=============================================================================================\n",
      "                                coef    std err          t      P>|t|      [0.025      0.975]\n",
      "---------------------------------------------------------------------------------------------\n",
      "Intercept                    -0.0551      0.068     -0.813      0.421      -0.192       0.082\n",
      "MYAGM2USM052S_Prev         3.268e-15   3.04e-15      1.076      0.288   -2.87e-15     9.4e-15\n",
      "UNRATE_Prev                   0.0051      0.004      1.276      0.209      -0.003       0.013\n",
      "REAINTRATREARAT10Y_Prev       0.0105      0.011      0.937      0.355      -0.012       0.033\n",
      "CORESTICKM159SFRBATL_Prev     0.0008      0.009      0.082      0.935      -0.018       0.020\n",
      "==============================================================================\n",
      "Omnibus:                       14.191   Durbin-Watson:                   1.817\n",
      "Prob(Omnibus):                  0.001   Jarque-Bera (JB):               15.199\n",
      "Skew:                           1.246   Prob(JB):                     0.000501\n",
      "Kurtosis:                       4.376   Cond. No.                     1.79e+14\n",
      "==============================================================================\n",
      "\n",
      "Notes:\n",
      "[1] Standard Errors assume that the covariance matrix of the errors is correctly specified.\n",
      "[2] The condition number is large, 1.79e+14. This might indicate that there are\n",
      "strong multicollinearity or other numerical problems.\n"
     ]
    }
   ],
   "source": [
    "# testing for heteroskedaticity\n",
    "\n",
    "data_df['resid_sq'] = res2.resid**2\n",
    "\n",
    "# Estimating using R style formulas. Note the function is called \"ols\"\n",
    "formula2='resid_sq ~ MYAGM2USM052S_Prev + UNRATE_Prev + REAINTRATREARAT10Y_Prev + CORESTICKM159SFRBATL_Prev'\n",
    "res2=smf.ols(formula=formula2, data=data_df).fit()\n",
    "print(res2.summary())"
   ]
  },
  {
   "cell_type": "code",
   "execution_count": 136,
   "id": "6b023f22",
   "metadata": {},
   "outputs": [
    {
     "data": {
      "text/plain": [
       "3.465"
      ]
     },
     "execution_count": 136,
     "metadata": {},
     "output_type": "execute_result"
    }
   ],
   "source": [
    "# chi squared test 5% signifcance level with 4 degrees of freedom is 9.488 so fail to reject null hypothesis of homoskedaticity\n",
    "0.077 * 45"
   ]
  },
  {
   "cell_type": "markdown",
   "id": "8c6d9adf",
   "metadata": {},
   "source": [
    "Jarque-Bera (JB) test is statistically signifcant indicating that the errors do not have a normal distribution therefore violating this linear regression assumption"
   ]
  },
  {
   "cell_type": "code",
   "execution_count": null,
   "id": "6988a607",
   "metadata": {},
   "outputs": [],
   "source": []
  }
 ],
 "metadata": {
  "kernelspec": {
   "display_name": "PythonData",
   "language": "python",
   "name": "pythondata"
  },
  "language_info": {
   "codemirror_mode": {
    "name": "ipython",
    "version": 3
   },
   "file_extension": ".py",
   "mimetype": "text/x-python",
   "name": "python",
   "nbconvert_exporter": "python",
   "pygments_lexer": "ipython3",
   "version": "3.9.7"
  }
 },
 "nbformat": 4,
 "nbformat_minor": 5
}
