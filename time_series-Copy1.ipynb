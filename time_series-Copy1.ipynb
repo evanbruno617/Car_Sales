{
 "cells": [
  {
   "cell_type": "code",
   "execution_count": 2,
   "id": "504a1877",
   "metadata": {},
   "outputs": [],
   "source": [
    "\n",
    "import pandas as pd\n",
    "import matplotlib.pyplot as plt\n",
    "from sklearn.linear_model import LinearRegression\n",
    "import os\n",
    "from sklearn.metrics import r2_score\n",
    "import statistics as stat\n",
    "from sklearn.preprocessing import StandardScaler\n",
    "data_scaler = StandardScaler()\n",
    "from matplotlib.pyplot import subplots\n",
    "import pandas as pd\n",
    "import statsmodels.formula.api as smf \n",
    "from matplotlib import pyplot as plt\n",
    "import numpy as np\n",
    "import statsmodels.api as sm\n",
    "from statsmodels.sandbox.regression.gmm import IV2SLS\n",
    "import math\n",
    "import statsmodels.api as smf_non"
   ]
  },
  {
   "cell_type": "code",
   "execution_count": 3,
   "id": "27434ca6",
   "metadata": {},
   "outputs": [],
   "source": [
    "convert = {'JAN': 1,\n",
    "          'FEB': 2,\n",
    "          'MAR': 3,\n",
    "          'APR': 4, \n",
    "          'MAY': 5,\n",
    "          'JUN': 6,\n",
    "          'JUL': 7,\n",
    "          'AUG': 8,\n",
    "          'SEP': 9,\n",
    "          'OCT': 10,\n",
    "          'NOV': 11,\n",
    "          'DEC': 12} "
   ]
  },
  {
   "cell_type": "code",
   "execution_count": 4,
   "id": "c5ca7c07",
   "metadata": {},
   "outputs": [],
   "source": [
    "sales = pd.read_csv(\"Car_sales.csv\")\n",
    "\n",
    "items = sales.columns.tolist()[5:-2]\n",
    "\n",
    "items.append('Ratio_Used_New_Sales_Change')\n",
    "\n",
    "items.remove( 'Avg_Used_Previous')\n",
    "\n",
    "items.remove('Avg_New_Previous')\n",
    "\n",
    "#items.remove('Ratio_Used_New_prev')"
   ]
  },
  {
   "cell_type": "code",
   "execution_count": 5,
   "id": "ba732b5f",
   "metadata": {},
   "outputs": [
    {
     "data": {
      "text/plain": [
       "['Total Sales New',\n",
       " 'Total Sales Used',\n",
       " 'Avg_Used',\n",
       " 'Avg_New',\n",
       " 'Change_Car_Sales_Used',\n",
       " 'Change_Car_Sales_New',\n",
       " 'Ratio_Used_New_Sales_Change']"
      ]
     },
     "execution_count": 5,
     "metadata": {},
     "output_type": "execute_result"
    }
   ],
   "source": [
    "items"
   ]
  },
  {
   "cell_type": "markdown",
   "id": "a44bb92e",
   "metadata": {},
   "source": [
    "# Multinomial"
   ]
  },
  {
   "cell_type": "code",
   "execution_count": 6,
   "id": "72f7d8d8",
   "metadata": {},
   "outputs": [],
   "source": [
    "# econ_data = ['MYAGM2USM052S', 'MEDCPIM158SFRBCLE', 'UNRATE', 'REAINTRATREARAT10Y', 'CORESTICKM159SFRBATL']\n",
    "\n",
    "econ_data = ['MYAGM2USM052S_Prev', 'MEDCPIM158SFRBCLE_Prev', 'UNRATE_Prev', 'REAINTRATREARAT10Y_Prev', 'CORESTICKM159SFRBATL_Prev']\n",
    "\n",
    "\n",
    "\n",
    "\n",
    "\n",
    "\n"
   ]
  },
  {
   "cell_type": "code",
   "execution_count": 7,
   "id": "25f7dba4",
   "metadata": {},
   "outputs": [],
   "source": [
    "from itertools import combinations"
   ]
  },
  {
   "cell_type": "code",
   "execution_count": 8,
   "id": "82492b15",
   "metadata": {},
   "outputs": [],
   "source": [
    "combos = list(combinations(econ_data, 3))"
   ]
  },
  {
   "cell_type": "code",
   "execution_count": 9,
   "id": "51a40234",
   "metadata": {},
   "outputs": [
    {
     "name": "stdout",
     "output_type": "stream",
     "text": [
      "['MYAGM2USM052S_Prev', 'MEDCPIM158SFRBCLE_Prev', 'UNRATE_Prev']\n",
      "['MYAGM2USM052S_Prev', 'MEDCPIM158SFRBCLE_Prev', 'REAINTRATREARAT10Y_Prev']\n",
      "['MYAGM2USM052S_Prev', 'MEDCPIM158SFRBCLE_Prev', 'CORESTICKM159SFRBATL_Prev']\n",
      "['MYAGM2USM052S_Prev', 'UNRATE_Prev', 'REAINTRATREARAT10Y_Prev']\n",
      "['MYAGM2USM052S_Prev', 'UNRATE_Prev', 'CORESTICKM159SFRBATL_Prev']\n",
      "['MYAGM2USM052S_Prev', 'REAINTRATREARAT10Y_Prev', 'CORESTICKM159SFRBATL_Prev']\n",
      "['MEDCPIM158SFRBCLE_Prev', 'UNRATE_Prev', 'REAINTRATREARAT10Y_Prev']\n",
      "['MEDCPIM158SFRBCLE_Prev', 'UNRATE_Prev', 'CORESTICKM159SFRBATL_Prev']\n",
      "['MEDCPIM158SFRBCLE_Prev', 'REAINTRATREARAT10Y_Prev', 'CORESTICKM159SFRBATL_Prev']\n",
      "['UNRATE_Prev', 'REAINTRATREARAT10Y_Prev', 'CORESTICKM159SFRBATL_Prev']\n"
     ]
    }
   ],
   "source": [
    "for combo in combos:\n",
    "    print(list(combo))"
   ]
  },
  {
   "cell_type": "code",
   "execution_count": 10,
   "id": "e3813ebe",
   "metadata": {},
   "outputs": [
    {
     "data": {
      "text/html": [
       "<div>\n",
       "<style scoped>\n",
       "    .dataframe tbody tr th:only-of-type {\n",
       "        vertical-align: middle;\n",
       "    }\n",
       "\n",
       "    .dataframe tbody tr th {\n",
       "        vertical-align: top;\n",
       "    }\n",
       "\n",
       "    .dataframe thead th {\n",
       "        text-align: right;\n",
       "    }\n",
       "</style>\n",
       "<table border=\"1\" class=\"dataframe\">\n",
       "  <thead>\n",
       "    <tr style=\"text-align: right;\">\n",
       "      <th></th>\n",
       "      <th>Unnamed: 0</th>\n",
       "      <th>Year</th>\n",
       "      <th>Month</th>\n",
       "      <th>New</th>\n",
       "      <th>Used</th>\n",
       "      <th>Total Sales New</th>\n",
       "      <th>Total Sales Used</th>\n",
       "      <th>Avg_Used</th>\n",
       "      <th>Avg_New</th>\n",
       "      <th>Avg_Used_Previous</th>\n",
       "      <th>Avg_New_Previous</th>\n",
       "      <th>Change_Car_Sales_Used</th>\n",
       "      <th>Change_Car_Sales_New</th>\n",
       "      <th>Ratio_Used_New</th>\n",
       "      <th>Ratio_Used_New_Sales</th>\n",
       "    </tr>\n",
       "  </thead>\n",
       "  <tbody>\n",
       "    <tr>\n",
       "      <th>0</th>\n",
       "      <td>1</td>\n",
       "      <td>2002</td>\n",
       "      <td>FEB</td>\n",
       "      <td>27520</td>\n",
       "      <td>50982</td>\n",
       "      <td>664454223</td>\n",
       "      <td>361353242</td>\n",
       "      <td>7087.859284</td>\n",
       "      <td>24144.412173</td>\n",
       "      <td>7740.940353</td>\n",
       "      <td>24272.353244</td>\n",
       "      <td>-0.092141</td>\n",
       "      <td>-0.005299</td>\n",
       "      <td>1.852544</td>\n",
       "      <td>0.293561</td>\n",
       "    </tr>\n",
       "    <tr>\n",
       "      <th>1</th>\n",
       "      <td>2</td>\n",
       "      <td>2002</td>\n",
       "      <td>MAR</td>\n",
       "      <td>34225</td>\n",
       "      <td>58794</td>\n",
       "      <td>805666244</td>\n",
       "      <td>419385387</td>\n",
       "      <td>7133.132411</td>\n",
       "      <td>23540.284704</td>\n",
       "      <td>7087.859284</td>\n",
       "      <td>24144.412173</td>\n",
       "      <td>0.006347</td>\n",
       "      <td>-0.025664</td>\n",
       "      <td>1.717867</td>\n",
       "      <td>0.303018</td>\n",
       "    </tr>\n",
       "    <tr>\n",
       "      <th>2</th>\n",
       "      <td>3</td>\n",
       "      <td>2002</td>\n",
       "      <td>APR</td>\n",
       "      <td>36452</td>\n",
       "      <td>59817</td>\n",
       "      <td>846368297</td>\n",
       "      <td>433061150</td>\n",
       "      <td>7239.767123</td>\n",
       "      <td>23218.706710</td>\n",
       "      <td>7133.132411</td>\n",
       "      <td>23540.284704</td>\n",
       "      <td>0.014729</td>\n",
       "      <td>-0.013850</td>\n",
       "      <td>1.640980</td>\n",
       "      <td>0.311808</td>\n",
       "    </tr>\n",
       "    <tr>\n",
       "      <th>3</th>\n",
       "      <td>4</td>\n",
       "      <td>2002</td>\n",
       "      <td>MAY</td>\n",
       "      <td>37359</td>\n",
       "      <td>60577</td>\n",
       "      <td>855005784</td>\n",
       "      <td>442569410</td>\n",
       "      <td>7305.898443</td>\n",
       "      <td>22886.206376</td>\n",
       "      <td>7239.767123</td>\n",
       "      <td>23218.706710</td>\n",
       "      <td>0.009052</td>\n",
       "      <td>-0.014528</td>\n",
       "      <td>1.621483</td>\n",
       "      <td>0.319227</td>\n",
       "    </tr>\n",
       "    <tr>\n",
       "      <th>4</th>\n",
       "      <td>5</td>\n",
       "      <td>2002</td>\n",
       "      <td>JUN</td>\n",
       "      <td>36348</td>\n",
       "      <td>55415</td>\n",
       "      <td>830251613</td>\n",
       "      <td>414731166</td>\n",
       "      <td>7484.095750</td>\n",
       "      <td>22841.741306</td>\n",
       "      <td>7305.898443</td>\n",
       "      <td>22886.206376</td>\n",
       "      <td>0.023810</td>\n",
       "      <td>-0.001947</td>\n",
       "      <td>1.524568</td>\n",
       "      <td>0.327650</td>\n",
       "    </tr>\n",
       "    <tr>\n",
       "      <th>...</th>\n",
       "      <td>...</td>\n",
       "      <td>...</td>\n",
       "      <td>...</td>\n",
       "      <td>...</td>\n",
       "      <td>...</td>\n",
       "      <td>...</td>\n",
       "      <td>...</td>\n",
       "      <td>...</td>\n",
       "      <td>...</td>\n",
       "      <td>...</td>\n",
       "      <td>...</td>\n",
       "      <td>...</td>\n",
       "      <td>...</td>\n",
       "      <td>...</td>\n",
       "      <td>...</td>\n",
       "    </tr>\n",
       "    <tr>\n",
       "      <th>248</th>\n",
       "      <td>249</td>\n",
       "      <td>2022</td>\n",
       "      <td>OCT</td>\n",
       "      <td>22255</td>\n",
       "      <td>47325</td>\n",
       "      <td>1060091844</td>\n",
       "      <td>804805365</td>\n",
       "      <td>17005.924247</td>\n",
       "      <td>47633.873017</td>\n",
       "      <td>17366.504576</td>\n",
       "      <td>47788.648533</td>\n",
       "      <td>-0.021203</td>\n",
       "      <td>-0.003249</td>\n",
       "      <td>2.126488</td>\n",
       "      <td>0.357013</td>\n",
       "    </tr>\n",
       "    <tr>\n",
       "      <th>249</th>\n",
       "      <td>250</td>\n",
       "      <td>2022</td>\n",
       "      <td>NOV</td>\n",
       "      <td>21117</td>\n",
       "      <td>43345</td>\n",
       "      <td>993531237</td>\n",
       "      <td>734729853</td>\n",
       "      <td>16950.740639</td>\n",
       "      <td>47048.881801</td>\n",
       "      <td>17005.924247</td>\n",
       "      <td>47633.873017</td>\n",
       "      <td>-0.003256</td>\n",
       "      <td>-0.012434</td>\n",
       "      <td>2.052612</td>\n",
       "      <td>0.360279</td>\n",
       "    </tr>\n",
       "    <tr>\n",
       "      <th>250</th>\n",
       "      <td>251</td>\n",
       "      <td>2022</td>\n",
       "      <td>DEC</td>\n",
       "      <td>23025</td>\n",
       "      <td>40906</td>\n",
       "      <td>1120587035</td>\n",
       "      <td>718545405</td>\n",
       "      <td>17565.770425</td>\n",
       "      <td>48668.275136</td>\n",
       "      <td>16950.740639</td>\n",
       "      <td>47048.881801</td>\n",
       "      <td>0.035013</td>\n",
       "      <td>0.033274</td>\n",
       "      <td>1.776591</td>\n",
       "      <td>0.360929</td>\n",
       "    </tr>\n",
       "    <tr>\n",
       "      <th>251</th>\n",
       "      <td>252</td>\n",
       "      <td>2023</td>\n",
       "      <td>JAN</td>\n",
       "      <td>21037</td>\n",
       "      <td>45543</td>\n",
       "      <td>992034915</td>\n",
       "      <td>762502754</td>\n",
       "      <td>16742.479722</td>\n",
       "      <td>47156.672292</td>\n",
       "      <td>17565.770425</td>\n",
       "      <td>48668.275136</td>\n",
       "      <td>-0.049174</td>\n",
       "      <td>-0.032055</td>\n",
       "      <td>2.164900</td>\n",
       "      <td>0.355039</td>\n",
       "    </tr>\n",
       "    <tr>\n",
       "      <th>252</th>\n",
       "      <td>253</td>\n",
       "      <td>2023</td>\n",
       "      <td>FEB</td>\n",
       "      <td>20893</td>\n",
       "      <td>44320</td>\n",
       "      <td>960384917</td>\n",
       "      <td>712901541</td>\n",
       "      <td>16085.323579</td>\n",
       "      <td>45966.827023</td>\n",
       "      <td>16742.479722</td>\n",
       "      <td>47156.672292</td>\n",
       "      <td>-0.040854</td>\n",
       "      <td>-0.025885</td>\n",
       "      <td>2.121285</td>\n",
       "      <td>0.349933</td>\n",
       "    </tr>\n",
       "  </tbody>\n",
       "</table>\n",
       "<p>253 rows × 15 columns</p>\n",
       "</div>"
      ],
      "text/plain": [
       "     Unnamed: 0  Year  Month     New   Used  Total Sales New  \\\n",
       "0             1   2002    FEB  27520  50982        664454223   \n",
       "1             2   2002    MAR  34225  58794        805666244   \n",
       "2             3   2002    APR  36452  59817        846368297   \n",
       "3             4   2002    MAY  37359  60577        855005784   \n",
       "4             5   2002    JUN  36348  55415        830251613   \n",
       "..          ...    ...    ...    ...    ...              ...   \n",
       "248         249   2022    OCT  22255  47325       1060091844   \n",
       "249         250   2022    NOV  21117  43345        993531237   \n",
       "250         251   2022    DEC  23025  40906       1120587035   \n",
       "251         252   2023    JAN  21037  45543        992034915   \n",
       "252         253   2023    FEB  20893  44320        960384917   \n",
       "\n",
       "     Total Sales Used      Avg_Used       Avg_New  Avg_Used_Previous  \\\n",
       "0           361353242   7087.859284  24144.412173        7740.940353   \n",
       "1           419385387   7133.132411  23540.284704        7087.859284   \n",
       "2           433061150   7239.767123  23218.706710        7133.132411   \n",
       "3           442569410   7305.898443  22886.206376        7239.767123   \n",
       "4           414731166   7484.095750  22841.741306        7305.898443   \n",
       "..                ...           ...           ...                ...   \n",
       "248         804805365  17005.924247  47633.873017       17366.504576   \n",
       "249         734729853  16950.740639  47048.881801       17005.924247   \n",
       "250         718545405  17565.770425  48668.275136       16950.740639   \n",
       "251         762502754  16742.479722  47156.672292       17565.770425   \n",
       "252         712901541  16085.323579  45966.827023       16742.479722   \n",
       "\n",
       "     Avg_New_Previous  Change_Car_Sales_Used  Change_Car_Sales_New  \\\n",
       "0        24272.353244              -0.092141             -0.005299   \n",
       "1        24144.412173               0.006347             -0.025664   \n",
       "2        23540.284704               0.014729             -0.013850   \n",
       "3        23218.706710               0.009052             -0.014528   \n",
       "4        22886.206376               0.023810             -0.001947   \n",
       "..                ...                    ...                   ...   \n",
       "248      47788.648533              -0.021203             -0.003249   \n",
       "249      47633.873017              -0.003256             -0.012434   \n",
       "250      47048.881801               0.035013              0.033274   \n",
       "251      48668.275136              -0.049174             -0.032055   \n",
       "252      47156.672292              -0.040854             -0.025885   \n",
       "\n",
       "     Ratio_Used_New  Ratio_Used_New_Sales  \n",
       "0          1.852544              0.293561  \n",
       "1          1.717867              0.303018  \n",
       "2          1.640980              0.311808  \n",
       "3          1.621483              0.319227  \n",
       "4          1.524568              0.327650  \n",
       "..              ...                   ...  \n",
       "248        2.126488              0.357013  \n",
       "249        2.052612              0.360279  \n",
       "250        1.776591              0.360929  \n",
       "251        2.164900              0.355039  \n",
       "252        2.121285              0.349933  \n",
       "\n",
       "[253 rows x 15 columns]"
      ]
     },
     "execution_count": 10,
     "metadata": {},
     "output_type": "execute_result"
    }
   ],
   "source": [
    "sales"
   ]
  },
  {
   "cell_type": "code",
   "execution_count": 11,
   "id": "a9e00b70",
   "metadata": {},
   "outputs": [],
   "source": [
    "sales['Num_Month'] = sales['Month '].apply(lambda x: convert[x])\n",
    "\n",
    "sales['DATE'] = sales.apply(lambda row: f\"{row['Year ']}-{row['Num_Month']}-01\", axis=1)"
   ]
  },
  {
   "cell_type": "code",
   "execution_count": 12,
   "id": "8949cd43",
   "metadata": {},
   "outputs": [
    {
     "name": "stderr",
     "output_type": "stream",
     "text": [
      "/var/folders/g3/164q6cz52jv0sjllnsg7jdsm0000gn/T/ipykernel_15175/3078440734.py:8: FutureWarning: Passing 'suffixes' which cause duplicate columns {'Unnamed: 0_y'} in the result is deprecated and will raise a MergeError in a future version.\n",
      "  final_df = pd.merge(econ_df, final_df, on='DATE')\n",
      "/var/folders/g3/164q6cz52jv0sjllnsg7jdsm0000gn/T/ipykernel_15175/3078440734.py:8: FutureWarning: Passing 'suffixes' which cause duplicate columns {'Ten_Change_y', 'Datetime_y'} in the result is deprecated and will raise a MergeError in a future version.\n",
      "  final_df = pd.merge(econ_df, final_df, on='DATE')\n",
      "/var/folders/g3/164q6cz52jv0sjllnsg7jdsm0000gn/T/ipykernel_15175/3078440734.py:8: FutureWarning: Passing 'suffixes' which cause duplicate columns {'Unnamed: 0_y'} in the result is deprecated and will raise a MergeError in a future version.\n",
      "  final_df = pd.merge(econ_df, final_df, on='DATE')\n"
     ]
    }
   ],
   "source": [
    "econ_data = ['MYAGM2USM052S', 'MEDCPIM158SFRBCLE', 'UNRATE', 'Ten_Year', 'CORESTICKM159SFRBATL']\n",
    "\n",
    "final_df = sales\n",
    "for econ in econ_data:\n",
    "    \n",
    "    econ_df = pd.read_csv(f'{econ}.csv')\n",
    "    \n",
    "    final_df = pd.merge(econ_df, final_df, on='DATE')\n",
    "    "
   ]
  },
  {
   "cell_type": "code",
   "execution_count": 13,
   "id": "36267e7d",
   "metadata": {},
   "outputs": [
    {
     "data": {
      "text/plain": [
       "['Unnamed: 0_x',\n",
       " 'DATE',\n",
       " 'CORESTICKM159SFRBATL',\n",
       " 'Datetime',\n",
       " 'CORESTICKM159SFRBATL_Prev',\n",
       " 'Ten_Change',\n",
       " 'Unnamed: 0_y',\n",
       " 'REAINTRATREARAT10Y',\n",
       " 'Datetime_x',\n",
       " 'REAINTRATREARAT10Y_Prev',\n",
       " 'Ten_Change_x',\n",
       " 'Unnamed: 0_x',\n",
       " 'UNRATE',\n",
       " 'Datetime_y',\n",
       " 'UNRATE_Prev',\n",
       " 'Ten_Change_y',\n",
       " 'Unnamed: 0_y',\n",
       " 'MEDCPIM158SFRBCLE',\n",
       " 'Datetime_x',\n",
       " 'MEDCPIM158SFRBCLE_Prev',\n",
       " 'Ten_Change_x',\n",
       " 'Unnamed: 0_x',\n",
       " 'MYAGM2USM052S',\n",
       " 'Datetime_y',\n",
       " 'MYAGM2USM052S_Prev',\n",
       " 'Ten_Change_y',\n",
       " 'Unnamed: 0_y',\n",
       " 'Year ',\n",
       " 'Month ',\n",
       " 'New',\n",
       " 'Used',\n",
       " 'Total Sales New',\n",
       " 'Total Sales Used',\n",
       " 'Avg_Used',\n",
       " 'Avg_New',\n",
       " 'Avg_Used_Previous',\n",
       " 'Avg_New_Previous',\n",
       " 'Change_Car_Sales_Used',\n",
       " 'Change_Car_Sales_New',\n",
       " 'Ratio_Used_New',\n",
       " 'Ratio_Used_New_Sales',\n",
       " 'Num_Month']"
      ]
     },
     "execution_count": 13,
     "metadata": {},
     "output_type": "execute_result"
    }
   ],
   "source": [
    "final_df.columns.tolist()"
   ]
  },
  {
   "cell_type": "code",
   "execution_count": 14,
   "id": "b0dc4b3d",
   "metadata": {},
   "outputs": [
    {
     "data": {
      "text/html": [
       "<div>\n",
       "<style scoped>\n",
       "    .dataframe tbody tr th:only-of-type {\n",
       "        vertical-align: middle;\n",
       "    }\n",
       "\n",
       "    .dataframe tbody tr th {\n",
       "        vertical-align: top;\n",
       "    }\n",
       "\n",
       "    .dataframe thead th {\n",
       "        text-align: right;\n",
       "    }\n",
       "</style>\n",
       "<table border=\"1\" class=\"dataframe\">\n",
       "  <thead>\n",
       "    <tr style=\"text-align: right;\">\n",
       "      <th></th>\n",
       "      <th>CORESTICKM159SFRBATL_Prev</th>\n",
       "      <th>REAINTRATREARAT10Y_Prev</th>\n",
       "      <th>MEDCPIM158SFRBCLE_Prev</th>\n",
       "      <th>MYAGM2USM052S_Prev</th>\n",
       "      <th>UNRATE_Prev</th>\n",
       "      <th>Total Sales New</th>\n",
       "      <th>Total Sales Used</th>\n",
       "      <th>Avg_Used</th>\n",
       "      <th>Avg_New</th>\n",
       "      <th>Avg_Used_Previous</th>\n",
       "      <th>Avg_New_Previous</th>\n",
       "      <th>Change_Car_Sales_Used</th>\n",
       "      <th>Change_Car_Sales_New</th>\n",
       "      <th>Ratio_Used_New</th>\n",
       "      <th>Ratio_Used_New_Sales</th>\n",
       "    </tr>\n",
       "  </thead>\n",
       "  <tbody>\n",
       "    <tr>\n",
       "      <th>0</th>\n",
       "      <td>3.037465</td>\n",
       "      <td>1.446108</td>\n",
       "      <td>2.717798</td>\n",
       "      <td>5.654800e+12</td>\n",
       "      <td>5.7</td>\n",
       "      <td>865326154</td>\n",
       "      <td>456738532</td>\n",
       "      <td>7872.087763</td>\n",
       "      <td>24530.166515</td>\n",
       "      <td>7787.911508</td>\n",
       "      <td>23918.018495</td>\n",
       "      <td>0.010693</td>\n",
       "      <td>0.024955</td>\n",
       "      <td>1.644744</td>\n",
       "      <td>0.320915</td>\n",
       "    </tr>\n",
       "    <tr>\n",
       "      <th>1</th>\n",
       "      <td>2.947748</td>\n",
       "      <td>1.268696</td>\n",
       "      <td>2.313903</td>\n",
       "      <td>5.707400e+12</td>\n",
       "      <td>5.7</td>\n",
       "      <td>691740703</td>\n",
       "      <td>379196575</td>\n",
       "      <td>7728.296071</td>\n",
       "      <td>24872.022976</td>\n",
       "      <td>7872.087763</td>\n",
       "      <td>24530.166515</td>\n",
       "      <td>-0.018606</td>\n",
       "      <td>0.013745</td>\n",
       "      <td>1.764203</td>\n",
       "      <td>0.310722</td>\n",
       "    </tr>\n",
       "    <tr>\n",
       "      <th>2</th>\n",
       "      <td>2.834183</td>\n",
       "      <td>1.395587</td>\n",
       "      <td>1.910976</td>\n",
       "      <td>5.750700e+12</td>\n",
       "      <td>5.9</td>\n",
       "      <td>673208880</td>\n",
       "      <td>374453368</td>\n",
       "      <td>8818.759992</td>\n",
       "      <td>24939.204268</td>\n",
       "      <td>7728.296071</td>\n",
       "      <td>24872.022976</td>\n",
       "      <td>0.123653</td>\n",
       "      <td>0.002694</td>\n",
       "      <td>1.572979</td>\n",
       "      <td>0.353610</td>\n",
       "    </tr>\n",
       "    <tr>\n",
       "      <th>3</th>\n",
       "      <td>2.184248</td>\n",
       "      <td>1.897238</td>\n",
       "      <td>2.022265</td>\n",
       "      <td>6.072600e+12</td>\n",
       "      <td>6.1</td>\n",
       "      <td>980365678</td>\n",
       "      <td>470520906</td>\n",
       "      <td>7538.345419</td>\n",
       "      <td>25400.048657</td>\n",
       "      <td>7654.893272</td>\n",
       "      <td>25019.893906</td>\n",
       "      <td>-0.015461</td>\n",
       "      <td>0.014967</td>\n",
       "      <td>1.617146</td>\n",
       "      <td>0.296785</td>\n",
       "    </tr>\n",
       "    <tr>\n",
       "      <th>4</th>\n",
       "      <td>2.161113</td>\n",
       "      <td>1.380819</td>\n",
       "      <td>2.095867</td>\n",
       "      <td>6.059600e+12</td>\n",
       "      <td>6.0</td>\n",
       "      <td>779674957</td>\n",
       "      <td>385164663</td>\n",
       "      <td>7603.684987</td>\n",
       "      <td>25855.578080</td>\n",
       "      <td>7538.345419</td>\n",
       "      <td>25400.048657</td>\n",
       "      <td>0.008593</td>\n",
       "      <td>0.017618</td>\n",
       "      <td>1.679821</td>\n",
       "      <td>0.294083</td>\n",
       "    </tr>\n",
       "  </tbody>\n",
       "</table>\n",
       "</div>"
      ],
      "text/plain": [
       "   CORESTICKM159SFRBATL_Prev  REAINTRATREARAT10Y_Prev  MEDCPIM158SFRBCLE_Prev  \\\n",
       "0                   3.037465                 1.446108                2.717798   \n",
       "1                   2.947748                 1.268696                2.313903   \n",
       "2                   2.834183                 1.395587                1.910976   \n",
       "3                   2.184248                 1.897238                2.022265   \n",
       "4                   2.161113                 1.380819                2.095867   \n",
       "\n",
       "   MYAGM2USM052S_Prev  UNRATE_Prev  Total Sales New  Total Sales Used  \\\n",
       "0        5.654800e+12          5.7        865326154         456738532   \n",
       "1        5.707400e+12          5.7        691740703         379196575   \n",
       "2        5.750700e+12          5.9        673208880         374453368   \n",
       "3        6.072600e+12          6.1        980365678         470520906   \n",
       "4        6.059600e+12          6.0        779674957         385164663   \n",
       "\n",
       "      Avg_Used       Avg_New  Avg_Used_Previous  Avg_New_Previous  \\\n",
       "0  7872.087763  24530.166515        7787.911508      23918.018495   \n",
       "1  7728.296071  24872.022976        7872.087763      24530.166515   \n",
       "2  8818.759992  24939.204268        7728.296071      24872.022976   \n",
       "3  7538.345419  25400.048657        7654.893272      25019.893906   \n",
       "4  7603.684987  25855.578080        7538.345419      25400.048657   \n",
       "\n",
       "   Change_Car_Sales_Used  Change_Car_Sales_New  Ratio_Used_New  \\\n",
       "0               0.010693              0.024955        1.644744   \n",
       "1              -0.018606              0.013745        1.764203   \n",
       "2               0.123653              0.002694        1.572979   \n",
       "3              -0.015461              0.014967        1.617146   \n",
       "4               0.008593              0.017618        1.679821   \n",
       "\n",
       "   Ratio_Used_New_Sales  \n",
       "0              0.320915  \n",
       "1              0.310722  \n",
       "2              0.353610  \n",
       "3              0.296785  \n",
       "4              0.294083  "
      ]
     },
     "execution_count": 14,
     "metadata": {},
     "output_type": "execute_result"
    }
   ],
   "source": [
    "data_df = final_df[['CORESTICKM159SFRBATL_Prev', 'REAINTRATREARAT10Y_Prev', 'MEDCPIM158SFRBCLE_Prev', 'MYAGM2USM052S_Prev', 'UNRATE_Prev', 'Total Sales New',\n",
    " 'Total Sales Used',\n",
    " 'Avg_Used',\n",
    " 'Avg_New',\n",
    " 'Avg_Used_Previous',\n",
    " 'Avg_New_Previous',\n",
    " 'Change_Car_Sales_Used',\n",
    " 'Change_Car_Sales_New',\n",
    " 'Ratio_Used_New',\n",
    " 'Ratio_Used_New_Sales']]\n",
    "\n",
    "data_df.head()"
   ]
  },
  {
   "cell_type": "code",
   "execution_count": 15,
   "id": "40a88808",
   "metadata": {},
   "outputs": [
    {
     "data": {
      "text/html": [
       "<div>\n",
       "<style scoped>\n",
       "    .dataframe tbody tr th:only-of-type {\n",
       "        vertical-align: middle;\n",
       "    }\n",
       "\n",
       "    .dataframe tbody tr th {\n",
       "        vertical-align: top;\n",
       "    }\n",
       "\n",
       "    .dataframe thead th {\n",
       "        text-align: right;\n",
       "    }\n",
       "</style>\n",
       "<table border=\"1\" class=\"dataframe\">\n",
       "  <thead>\n",
       "    <tr style=\"text-align: right;\">\n",
       "      <th></th>\n",
       "      <th>CORESTICKM159SFRBATL_Prev</th>\n",
       "      <th>REAINTRATREARAT10Y_Prev</th>\n",
       "      <th>MEDCPIM158SFRBCLE_Prev</th>\n",
       "      <th>MYAGM2USM052S_Prev</th>\n",
       "      <th>UNRATE_Prev</th>\n",
       "      <th>Total_Sales_New</th>\n",
       "      <th>Total_Sales_Used</th>\n",
       "      <th>Avg_Used</th>\n",
       "      <th>Avg_New</th>\n",
       "      <th>Avg_Used_Previous</th>\n",
       "      <th>Avg_New_Previous</th>\n",
       "      <th>Change_Car_Sales_Used</th>\n",
       "      <th>Change_Car_Sales_New</th>\n",
       "      <th>Ratio_Used_New</th>\n",
       "      <th>Ratio_Used_New_Sales</th>\n",
       "    </tr>\n",
       "  </thead>\n",
       "  <tbody>\n",
       "    <tr>\n",
       "      <th>0</th>\n",
       "      <td>3.037465</td>\n",
       "      <td>1.446108</td>\n",
       "      <td>2.717798</td>\n",
       "      <td>5.654800e+12</td>\n",
       "      <td>5.7</td>\n",
       "      <td>865326154</td>\n",
       "      <td>456738532</td>\n",
       "      <td>7872.087763</td>\n",
       "      <td>24530.166515</td>\n",
       "      <td>7787.911508</td>\n",
       "      <td>23918.018495</td>\n",
       "      <td>0.010693</td>\n",
       "      <td>0.024955</td>\n",
       "      <td>1.644744</td>\n",
       "      <td>0.320915</td>\n",
       "    </tr>\n",
       "    <tr>\n",
       "      <th>1</th>\n",
       "      <td>2.947748</td>\n",
       "      <td>1.268696</td>\n",
       "      <td>2.313903</td>\n",
       "      <td>5.707400e+12</td>\n",
       "      <td>5.7</td>\n",
       "      <td>691740703</td>\n",
       "      <td>379196575</td>\n",
       "      <td>7728.296071</td>\n",
       "      <td>24872.022976</td>\n",
       "      <td>7872.087763</td>\n",
       "      <td>24530.166515</td>\n",
       "      <td>-0.018606</td>\n",
       "      <td>0.013745</td>\n",
       "      <td>1.764203</td>\n",
       "      <td>0.310722</td>\n",
       "    </tr>\n",
       "    <tr>\n",
       "      <th>2</th>\n",
       "      <td>2.834183</td>\n",
       "      <td>1.395587</td>\n",
       "      <td>1.910976</td>\n",
       "      <td>5.750700e+12</td>\n",
       "      <td>5.9</td>\n",
       "      <td>673208880</td>\n",
       "      <td>374453368</td>\n",
       "      <td>8818.759992</td>\n",
       "      <td>24939.204268</td>\n",
       "      <td>7728.296071</td>\n",
       "      <td>24872.022976</td>\n",
       "      <td>0.123653</td>\n",
       "      <td>0.002694</td>\n",
       "      <td>1.572979</td>\n",
       "      <td>0.353610</td>\n",
       "    </tr>\n",
       "    <tr>\n",
       "      <th>3</th>\n",
       "      <td>2.184248</td>\n",
       "      <td>1.897238</td>\n",
       "      <td>2.022265</td>\n",
       "      <td>6.072600e+12</td>\n",
       "      <td>6.1</td>\n",
       "      <td>980365678</td>\n",
       "      <td>470520906</td>\n",
       "      <td>7538.345419</td>\n",
       "      <td>25400.048657</td>\n",
       "      <td>7654.893272</td>\n",
       "      <td>25019.893906</td>\n",
       "      <td>-0.015461</td>\n",
       "      <td>0.014967</td>\n",
       "      <td>1.617146</td>\n",
       "      <td>0.296785</td>\n",
       "    </tr>\n",
       "    <tr>\n",
       "      <th>4</th>\n",
       "      <td>2.161113</td>\n",
       "      <td>1.380819</td>\n",
       "      <td>2.095867</td>\n",
       "      <td>6.059600e+12</td>\n",
       "      <td>6.0</td>\n",
       "      <td>779674957</td>\n",
       "      <td>385164663</td>\n",
       "      <td>7603.684987</td>\n",
       "      <td>25855.578080</td>\n",
       "      <td>7538.345419</td>\n",
       "      <td>25400.048657</td>\n",
       "      <td>0.008593</td>\n",
       "      <td>0.017618</td>\n",
       "      <td>1.679821</td>\n",
       "      <td>0.294083</td>\n",
       "    </tr>\n",
       "  </tbody>\n",
       "</table>\n",
       "</div>"
      ],
      "text/plain": [
       "   CORESTICKM159SFRBATL_Prev  REAINTRATREARAT10Y_Prev  MEDCPIM158SFRBCLE_Prev  \\\n",
       "0                   3.037465                 1.446108                2.717798   \n",
       "1                   2.947748                 1.268696                2.313903   \n",
       "2                   2.834183                 1.395587                1.910976   \n",
       "3                   2.184248                 1.897238                2.022265   \n",
       "4                   2.161113                 1.380819                2.095867   \n",
       "\n",
       "   MYAGM2USM052S_Prev  UNRATE_Prev  Total_Sales_New  Total_Sales_Used  \\\n",
       "0        5.654800e+12          5.7        865326154         456738532   \n",
       "1        5.707400e+12          5.7        691740703         379196575   \n",
       "2        5.750700e+12          5.9        673208880         374453368   \n",
       "3        6.072600e+12          6.1        980365678         470520906   \n",
       "4        6.059600e+12          6.0        779674957         385164663   \n",
       "\n",
       "      Avg_Used       Avg_New  Avg_Used_Previous  Avg_New_Previous  \\\n",
       "0  7872.087763  24530.166515        7787.911508      23918.018495   \n",
       "1  7728.296071  24872.022976        7872.087763      24530.166515   \n",
       "2  8818.759992  24939.204268        7728.296071      24872.022976   \n",
       "3  7538.345419  25400.048657        7654.893272      25019.893906   \n",
       "4  7603.684987  25855.578080        7538.345419      25400.048657   \n",
       "\n",
       "   Change_Car_Sales_Used  Change_Car_Sales_New  Ratio_Used_New  \\\n",
       "0               0.010693              0.024955        1.644744   \n",
       "1              -0.018606              0.013745        1.764203   \n",
       "2               0.123653              0.002694        1.572979   \n",
       "3              -0.015461              0.014967        1.617146   \n",
       "4               0.008593              0.017618        1.679821   \n",
       "\n",
       "   Ratio_Used_New_Sales  \n",
       "0              0.320915  \n",
       "1              0.310722  \n",
       "2              0.353610  \n",
       "3              0.296785  \n",
       "4              0.294083  "
      ]
     },
     "execution_count": 15,
     "metadata": {},
     "output_type": "execute_result"
    }
   ],
   "source": [
    "data_df = data_df.rename(columns={'Total Sales Used': 'Total_Sales_Used', 'Total Sales New': 'Total_Sales_New'})\n",
    "data_df.head()"
   ]
  },
  {
   "cell_type": "code",
   "execution_count": 18,
   "id": "fcfd54f2",
   "metadata": {},
   "outputs": [
    {
     "data": {
      "text/plain": [
       "45"
      ]
     },
     "execution_count": 18,
     "metadata": {},
     "output_type": "execute_result"
    }
   ],
   "source": [
    "len(data_df)"
   ]
  },
  {
   "cell_type": "markdown",
   "id": "c6909e9f",
   "metadata": {},
   "source": [
    "# Testing if Independent Variables are stationary"
   ]
  },
  {
   "cell_type": "code",
   "execution_count": 35,
   "id": "aab62e16",
   "metadata": {},
   "outputs": [
    {
     "data": {
      "text/plain": [
       "<AxesSubplot:>"
      ]
     },
     "execution_count": 35,
     "metadata": {},
     "output_type": "execute_result"
    },
    {
     "data": {
      "image/png": "[encoded data removed]",
      "text/plain": [
       "<Figure size 640x480 with 1 Axes>"
      ]
     },
     "metadata": {},
     "output_type": "display_data"
    }
   ],
   "source": [
    "data_df.plot(y='MYAGM2USM052S_Prev')"
   ]
  },
  {
   "cell_type": "code",
   "execution_count": 36,
   "id": "44995685",
   "metadata": {},
   "outputs": [
    {
     "name": "stdout",
     "output_type": "stream",
     "text": [
      "                                OLS Regression Results                               \n",
      "=====================================================================================\n",
      "Dep. Variable:     change_MYAGM2USM052S_Prev   R-squared:                       0.149\n",
      "Model:                                   OLS   Adj. R-squared:                  0.107\n",
      "Method:                        Least Squares   F-statistic:                     3.587\n",
      "Date:                       Sun, 06 Oct 2024   Prob (F-statistic):             0.0367\n",
      "Time:                               15:46:17   Log-Likelihood:                -1205.8\n",
      "No. Observations:                         44   AIC:                             2418.\n",
      "Df Residuals:                             41   BIC:                             2423.\n",
      "Df Model:                                  2                                         \n",
      "Covariance Type:                   nonrobust                                         \n",
      "===========================================================================================\n",
      "                              coef    std err          t      P>|t|      [0.025      0.975]\n",
      "-------------------------------------------------------------------------------------------\n",
      "Intercept                9.495e+11   4.14e+11      2.294      0.027    1.14e+11    1.79e+12\n",
      "data_df.index            3.469e+10   1.47e+10      2.354      0.023    4.93e+09    6.45e+10\n",
      "Prev_MYAGM2USM052S_Prev    -0.1795      0.085     -2.118      0.040      -0.351      -0.008\n",
      "==============================================================================\n",
      "Omnibus:                        7.419   Durbin-Watson:                   2.622\n",
      "Prob(Omnibus):                  0.024   Jarque-Bera (JB):                7.246\n",
      "Skew:                           0.994   Prob(JB):                       0.0267\n",
      "Kurtosis:                       2.996   Cond. No.                     1.23e+14\n",
      "==============================================================================\n",
      "\n",
      "Notes:\n",
      "[1] Standard Errors assume that the covariance matrix of the errors is correctly specified.\n",
      "[2] The condition number is large, 1.23e+14. This might indicate that there are\n",
      "strong multicollinearity or other numerical problems.\n"
     ]
    }
   ],
   "source": [
    "data_df['Prev_MYAGM2USM052S_Prev'] = data_df['MYAGM2USM052S_Prev'].shift(1)\n",
    "data_df['change_MYAGM2USM052S_Prev'] = data_df['MYAGM2USM052S_Prev'] - data_df['Prev_MYAGM2USM052S_Prev']\n",
    "\n",
    "\n",
    "mod1 = smf.ols(f'change_MYAGM2USM052S_Prev ~ data_df.index + Prev_MYAGM2USM052S_Prev', data = data_df).fit() \n",
    "print(mod1.summary())"
   ]
  },
  {
   "cell_type": "code",
   "execution_count": 38,
   "id": "755dccb7",
   "metadata": {},
   "outputs": [
    {
     "name": "stdout",
     "output_type": "stream",
     "text": [
      "                                          OLS Regression Results                                          \n",
      "==========================================================================================================\n",
      "Dep. Variable:     change_change_Prev_MYAGM2USM052S_Prev   R-squared (uncentered):                   0.403\n",
      "Model:                                               OLS   Adj. R-squared (uncentered):              0.389\n",
      "Method:                                    Least Squares   F-statistic:                              28.37\n",
      "Date:                                   Sun, 06 Oct 2024   Prob (F-statistic):                    3.67e-06\n",
      "Time:                                           15:47:37   Log-Likelihood:                         -1192.5\n",
      "No. Observations:                                     43   AIC:                                      2387.\n",
      "Df Residuals:                                         42   BIC:                                      2389.\n",
      "Df Model:                                              1                                                  \n",
      "Covariance Type:                               nonrobust                                                  \n",
      "==================================================================================================\n",
      "                                     coef    std err          t      P>|t|      [0.025      0.975]\n",
      "--------------------------------------------------------------------------------------------------\n",
      "Prev_change_MYAGM2USM052S_Prev    -0.8068      0.151     -5.326      0.000      -1.112      -0.501\n",
      "==============================================================================\n",
      "Omnibus:                       10.048   Durbin-Watson:                   2.063\n",
      "Prob(Omnibus):                  0.007   Jarque-Bera (JB):               10.367\n",
      "Skew:                           1.199   Prob(JB):                      0.00561\n",
      "Kurtosis:                       3.178   Cond. No.                         1.00\n",
      "==============================================================================\n",
      "\n",
      "Notes:\n",
      "[1] R² is computed without centering (uncentered) since the model does not contain a constant.\n",
      "[2] Standard Errors assume that the covariance matrix of the errors is correctly specified.\n"
     ]
    }
   ],
   "source": [
    "\n",
    "\n",
    "data_df['Prev_change_MYAGM2USM052S_Prev'] = data_df['change_MYAGM2USM052S_Prev'].shift(1)\n",
    "data_df['change_change_Prev_MYAGM2USM052S_Prev'] = data_df['change_MYAGM2USM052S_Prev'] - data_df['Prev_change_MYAGM2USM052S_Prev']\n",
    "\n",
    "\n",
    "mod1 = smf.ols(f'change_change_Prev_MYAGM2USM052S_Prev ~ 0 + Prev_change_MYAGM2USM052S_Prev', data = data_df).fit() \n",
    "print(mod1.summary())"
   ]
  },
  {
   "cell_type": "markdown",
   "id": "5b6f96b7",
   "metadata": {},
   "source": [
    "Change in MYAGM2USM052S is stationary"
   ]
  },
  {
   "cell_type": "code",
   "execution_count": 39,
   "id": "5083bb1b",
   "metadata": {},
   "outputs": [
    {
     "data": {
      "text/plain": [
       "<AxesSubplot:>"
      ]
     },
     "execution_count": 39,
     "metadata": {},
     "output_type": "execute_result"
    },
    {
     "data": {
      "image/png": "[encoded data removed]",
      "text/plain": [
       "<Figure size 640x480 with 1 Axes>"
      ]
     },
     "metadata": {},
     "output_type": "display_data"
    }
   ],
   "source": [
    "data_df.plot(y='MEDCPIM158SFRBCLE_Prev')"
   ]
  },
  {
   "cell_type": "code",
   "execution_count": 40,
   "id": "aa37b69d",
   "metadata": {},
   "outputs": [
    {
     "name": "stdout",
     "output_type": "stream",
     "text": [
      "                                  OLS Regression Results                                 \n",
      "=========================================================================================\n",
      "Dep. Variable:     change_MEDCPIM158SFRBCLE_Prev   R-squared:                       0.252\n",
      "Model:                                       OLS   Adj. R-squared:                  0.216\n",
      "Method:                            Least Squares   F-statistic:                     6.912\n",
      "Date:                           Sun, 06 Oct 2024   Prob (F-statistic):            0.00259\n",
      "Time:                                   15:49:26   Log-Likelihood:                -44.690\n",
      "No. Observations:                             44   AIC:                             95.38\n",
      "Df Residuals:                                 41   BIC:                             100.7\n",
      "Df Model:                                      2                                         \n",
      "Covariance Type:                       nonrobust                                         \n",
      "===============================================================================================\n",
      "                                  coef    std err          t      P>|t|      [0.025      0.975]\n",
      "-----------------------------------------------------------------------------------------------\n",
      "Intercept                       1.2025      0.399      3.011      0.004       0.396       2.009\n",
      "data_df.index                  -0.0031      0.008     -0.372      0.712      -0.020       0.014\n",
      "Prev_MEDCPIM158SFRBCLE_Prev    -0.5045      0.136     -3.710      0.001      -0.779      -0.230\n",
      "==============================================================================\n",
      "Omnibus:                        5.981   Durbin-Watson:                   2.319\n",
      "Prob(Omnibus):                  0.050   Jarque-Bera (JB):                4.845\n",
      "Skew:                           0.622   Prob(JB):                       0.0887\n",
      "Kurtosis:                       4.046   Cond. No.                         103.\n",
      "==============================================================================\n",
      "\n",
      "Notes:\n",
      "[1] Standard Errors assume that the covariance matrix of the errors is correctly specified.\n"
     ]
    }
   ],
   "source": [
    "data_df['Prev_MEDCPIM158SFRBCLE_Prev'] = data_df['MEDCPIM158SFRBCLE_Prev'].shift(1)\n",
    "data_df['change_MEDCPIM158SFRBCLE_Prev'] = data_df['MEDCPIM158SFRBCLE_Prev'] - data_df['Prev_MEDCPIM158SFRBCLE_Prev']\n",
    "\n",
    "\n",
    "mod1 = smf.ols(f'change_MEDCPIM158SFRBCLE_Prev ~ data_df.index + Prev_MEDCPIM158SFRBCLE_Prev', data = data_df).fit() \n",
    "print(mod1.summary())"
   ]
  },
  {
   "cell_type": "markdown",
   "id": "79fa2c09",
   "metadata": {},
   "source": [
    "MEDCPIM158SFRBCLE is stationary"
   ]
  },
  {
   "cell_type": "markdown",
   "id": "ce482ea2",
   "metadata": {},
   "source": [
    "## REAINTRATREARAT10Y_Prev"
   ]
  },
  {
   "cell_type": "code",
   "execution_count": 41,
   "id": "6171edd3",
   "metadata": {},
   "outputs": [
    {
     "data": {
      "text/plain": [
       "<AxesSubplot:>"
      ]
     },
     "execution_count": 41,
     "metadata": {},
     "output_type": "execute_result"
    },
    {
     "data": {
      "image/png": "[encoded data removed]",
      "text/plain": [
       "<Figure size 640x480 with 1 Axes>"
      ]
     },
     "metadata": {},
     "output_type": "display_data"
    }
   ],
   "source": [
    "data_df.plot(y='REAINTRATREARAT10Y_Prev')"
   ]
  },
  {
   "cell_type": "code",
   "execution_count": 42,
   "id": "8924feb2",
   "metadata": {},
   "outputs": [
    {
     "name": "stdout",
     "output_type": "stream",
     "text": [
      "                                  OLS Regression Results                                  \n",
      "==========================================================================================\n",
      "Dep. Variable:     change_REAINTRATREARAT10Y_Prev   R-squared:                       0.092\n",
      "Model:                                        OLS   Adj. R-squared:                  0.048\n",
      "Method:                             Least Squares   F-statistic:                     2.088\n",
      "Date:                            Sun, 06 Oct 2024   Prob (F-statistic):              0.137\n",
      "Time:                                    15:50:20   Log-Likelihood:             -0.0034129\n",
      "No. Observations:                              44   AIC:                             6.007\n",
      "Df Residuals:                                  41   BIC:                             11.36\n",
      "Df Model:                                       2                                         \n",
      "Covariance Type:                        nonrobust                                         \n",
      "================================================================================================\n",
      "                                   coef    std err          t      P>|t|      [0.025      0.975]\n",
      "------------------------------------------------------------------------------------------------\n",
      "Intercept                        0.3341      0.184      1.813      0.077      -0.038       0.706\n",
      "data_df.index                   -0.0081      0.005     -1.751      0.087      -0.017       0.001\n",
      "Prev_REAINTRATREARAT10Y_Prev    -0.1662      0.082     -2.019      0.050      -0.333    5.21e-05\n",
      "==============================================================================\n",
      "Omnibus:                        2.473   Durbin-Watson:                   2.285\n",
      "Prob(Omnibus):                  0.290   Jarque-Bera (JB):                2.190\n",
      "Skew:                          -0.536   Prob(JB):                        0.335\n",
      "Kurtosis:                       2.791   Cond. No.                         136.\n",
      "==============================================================================\n",
      "\n",
      "Notes:\n",
      "[1] Standard Errors assume that the covariance matrix of the errors is correctly specified.\n"
     ]
    }
   ],
   "source": [
    "data_df['Prev_REAINTRATREARAT10Y_Prev'] = data_df['REAINTRATREARAT10Y_Prev'].shift(1)\n",
    "data_df['change_REAINTRATREARAT10Y_Prev'] = data_df['REAINTRATREARAT10Y_Prev'] - data_df['Prev_REAINTRATREARAT10Y_Prev']\n",
    "\n",
    "\n",
    "mod1 = smf.ols(f'change_REAINTRATREARAT10Y_Prev ~ data_df.index + Prev_REAINTRATREARAT10Y_Prev', data = data_df).fit() \n",
    "print(mod1.summary())"
   ]
  },
  {
   "cell_type": "code",
   "execution_count": 44,
   "id": "27b6b3ad",
   "metadata": {},
   "outputs": [
    {
     "name": "stdout",
     "output_type": "stream",
     "text": [
      "                                             OLS Regression Results                                            \n",
      "===============================================================================================================\n",
      "Dep. Variable:     change_change_Prev_REAINTRATREARAT10Y_Prev   R-squared (uncentered):                   0.613\n",
      "Model:                                                    OLS   Adj. R-squared (uncentered):              0.604\n",
      "Method:                                         Least Squares   F-statistic:                              66.60\n",
      "Date:                                        Sun, 06 Oct 2024   Prob (F-statistic):                    3.34e-10\n",
      "Time:                                                15:52:29   Log-Likelihood:                         -1.4592\n",
      "No. Observations:                                          43   AIC:                                      4.918\n",
      "Df Residuals:                                              42   BIC:                                      6.680\n",
      "Df Model:                                                   1                                                  \n",
      "Covariance Type:                                    nonrobust                                                  \n",
      "=======================================================================================================\n",
      "                                          coef    std err          t      P>|t|      [0.025      0.975]\n",
      "-------------------------------------------------------------------------------------------------------\n",
      "Prev_change_REAINTRATREARAT10Y_Prev    -1.2215      0.150     -8.161      0.000      -1.524      -0.919\n",
      "==============================================================================\n",
      "Omnibus:                        2.940   Durbin-Watson:                   2.016\n",
      "Prob(Omnibus):                  0.230   Jarque-Bera (JB):                1.844\n",
      "Skew:                          -0.360   Prob(JB):                        0.398\n",
      "Kurtosis:                       3.714   Cond. No.                         1.00\n",
      "==============================================================================\n",
      "\n",
      "Notes:\n",
      "[1] R² is computed without centering (uncentered) since the model does not contain a constant.\n",
      "[2] Standard Errors assume that the covariance matrix of the errors is correctly specified.\n"
     ]
    }
   ],
   "source": [
    "\n",
    "\n",
    "data_df['Prev_change_REAINTRATREARAT10Y_Prev'] = data_df['change_REAINTRATREARAT10Y_Prev'].shift(1)\n",
    "data_df['change_change_Prev_REAINTRATREARAT10Y_Prev'] = data_df['change_REAINTRATREARAT10Y_Prev'] - data_df['Prev_change_REAINTRATREARAT10Y_Prev']\n",
    "\n",
    "\n",
    "mod1 = smf.ols(f'change_change_Prev_REAINTRATREARAT10Y_Prev ~ 0 + Prev_change_REAINTRATREARAT10Y_Prev', data = data_df).fit() \n",
    "print(mod1.summary())"
   ]
  },
  {
   "cell_type": "markdown",
   "id": "f23746a3",
   "metadata": {},
   "source": [
    "REAINTRATREARAT10Y is stationary to first degree"
   ]
  },
  {
   "cell_type": "code",
   "execution_count": null,
   "id": "d5f0823e",
   "metadata": {},
   "outputs": [],
   "source": []
  },
  {
   "cell_type": "code",
   "execution_count": 45,
   "id": "18122dae",
   "metadata": {},
   "outputs": [
    {
     "data": {
      "text/plain": [
       "<AxesSubplot:>"
      ]
     },
     "execution_count": 45,
     "metadata": {},
     "output_type": "execute_result"
    },
    {
     "data": {
      "image/png": "[encoded data removed]",
      "text/plain": [
       "<Figure size 640x480 with 1 Axes>"
      ]
     },
     "metadata": {},
     "output_type": "display_data"
    }
   ],
   "source": [
    "data_df.plot(y='UNRATE_Prev')"
   ]
  },
  {
   "cell_type": "code",
   "execution_count": 46,
   "id": "40da9601",
   "metadata": {},
   "outputs": [
    {
     "name": "stdout",
     "output_type": "stream",
     "text": [
      "                            OLS Regression Results                            \n",
      "==============================================================================\n",
      "Dep. Variable:     change_UNRATE_Prev   R-squared:                       0.040\n",
      "Model:                            OLS   Adj. R-squared:                 -0.007\n",
      "Method:                 Least Squares   F-statistic:                    0.8562\n",
      "Date:                Sun, 06 Oct 2024   Prob (F-statistic):              0.432\n",
      "Time:                        15:54:01   Log-Likelihood:                -39.025\n",
      "No. Observations:                  44   AIC:                             84.05\n",
      "Df Residuals:                      41   BIC:                             89.40\n",
      "Df Model:                           2                                         \n",
      "Covariance Type:            nonrobust                                         \n",
      "====================================================================================\n",
      "                       coef    std err          t      P>|t|      [0.025      0.975]\n",
      "------------------------------------------------------------------------------------\n",
      "Intercept            0.3818      0.365      1.045      0.302      -0.356       1.120\n",
      "data_df.index       -0.0067      0.007     -0.903      0.372      -0.022       0.008\n",
      "Prev_UNRATE_Prev    -0.0392      0.054     -0.723      0.474      -0.149       0.070\n",
      "==============================================================================\n",
      "Omnibus:                       57.715   Durbin-Watson:                   1.639\n",
      "Prob(Omnibus):                  0.000   Jarque-Bera (JB):              426.088\n",
      "Skew:                           3.162   Prob(JB):                     2.99e-93\n",
      "Kurtosis:                      16.871   Cond. No.                         106.\n",
      "==============================================================================\n",
      "\n",
      "Notes:\n",
      "[1] Standard Errors assume that the covariance matrix of the errors is correctly specified.\n"
     ]
    }
   ],
   "source": [
    "data_df['Prev_UNRATE_Prev'] = data_df['UNRATE_Prev'].shift(1)\n",
    "data_df['change_UNRATE_Prev'] = data_df['UNRATE_Prev'] - data_df['Prev_UNRATE_Prev']\n",
    "\n",
    "\n",
    "mod1 = smf.ols(f'change_UNRATE_Prev ~ data_df.index + Prev_UNRATE_Prev', data = data_df).fit() \n",
    "print(mod1.summary())"
   ]
  },
  {
   "cell_type": "code",
   "execution_count": 47,
   "id": "0669a2ce",
   "metadata": {},
   "outputs": [
    {
     "name": "stdout",
     "output_type": "stream",
     "text": [
      "                                       OLS Regression Results                                      \n",
      "===================================================================================================\n",
      "Dep. Variable:     change_change_Prev_UNRATE_Prev   R-squared (uncentered):                   0.408\n",
      "Model:                                        OLS   Adj. R-squared (uncentered):              0.394\n",
      "Method:                             Least Squares   F-statistic:                              28.97\n",
      "Date:                            Sun, 06 Oct 2024   Prob (F-statistic):                    3.05e-06\n",
      "Time:                                    15:54:43   Log-Likelihood:                         -38.819\n",
      "No. Observations:                              43   AIC:                                      79.64\n",
      "Df Residuals:                                  42   BIC:                                      81.40\n",
      "Df Model:                                       1                                                  \n",
      "Covariance Type:                        nonrobust                                                  \n",
      "===========================================================================================\n",
      "                              coef    std err          t      P>|t|      [0.025      0.975]\n",
      "-------------------------------------------------------------------------------------------\n",
      "Prev_change_UNRATE_Prev    -0.8177      0.152     -5.383      0.000      -1.124      -0.511\n",
      "==============================================================================\n",
      "Omnibus:                       52.599   Durbin-Watson:                   2.022\n",
      "Prob(Omnibus):                  0.000   Jarque-Bera (JB):              333.116\n",
      "Skew:                           2.886   Prob(JB):                     4.62e-73\n",
      "Kurtosis:                      15.353   Cond. No.                         1.00\n",
      "==============================================================================\n",
      "\n",
      "Notes:\n",
      "[1] R² is computed without centering (uncentered) since the model does not contain a constant.\n",
      "[2] Standard Errors assume that the covariance matrix of the errors is correctly specified.\n"
     ]
    }
   ],
   "source": [
    "\n",
    "\n",
    "data_df['Prev_change_UNRATE_Prev'] = data_df['change_UNRATE_Prev'].shift(1)\n",
    "data_df['change_change_Prev_UNRATE_Prev'] = data_df['change_UNRATE_Prev'] - data_df['Prev_change_UNRATE_Prev']\n",
    "\n",
    "\n",
    "mod1 = smf.ols(f'change_change_Prev_UNRATE_Prev ~ 0 + Prev_change_UNRATE_Prev', data = data_df).fit() \n",
    "print(mod1.summary())"
   ]
  },
  {
   "cell_type": "markdown",
   "id": "613d093f",
   "metadata": {},
   "source": [
    "UNRATE stationary to first degree"
   ]
  },
  {
   "cell_type": "code",
   "execution_count": null,
   "id": "e0a099ec",
   "metadata": {},
   "outputs": [],
   "source": []
  },
  {
   "cell_type": "code",
   "execution_count": 48,
   "id": "4454f940",
   "metadata": {},
   "outputs": [
    {
     "data": {
      "text/plain": [
       "<AxesSubplot:>"
      ]
     },
     "execution_count": 48,
     "metadata": {},
     "output_type": "execute_result"
    },
    {
     "data": {
      "image/png": "[encoded data removed]",
      "text/plain": [
       "<Figure size 640x480 with 1 Axes>"
      ]
     },
     "metadata": {},
     "output_type": "display_data"
    }
   ],
   "source": [
    "data_df.plot(y='CORESTICKM159SFRBATL_Prev')"
   ]
  },
  {
   "cell_type": "code",
   "execution_count": 49,
   "id": "03993ad5",
   "metadata": {},
   "outputs": [
    {
     "name": "stdout",
     "output_type": "stream",
     "text": [
      "                                   OLS Regression Results                                   \n",
      "============================================================================================\n",
      "Dep. Variable:     change_CORESTICKM159SFRBATL_Prev   R-squared:                       0.097\n",
      "Model:                                          OLS   Adj. R-squared:                  0.053\n",
      "Method:                               Least Squares   F-statistic:                     2.195\n",
      "Date:                              Sun, 06 Oct 2024   Prob (F-statistic):              0.124\n",
      "Time:                                      15:56:00   Log-Likelihood:                -12.222\n",
      "No. Observations:                                44   AIC:                             30.44\n",
      "Df Residuals:                                    41   BIC:                             35.80\n",
      "Df Model:                                         2                                         \n",
      "Covariance Type:                          nonrobust                                         \n",
      "==================================================================================================\n",
      "                                     coef    std err          t      P>|t|      [0.025      0.975]\n",
      "--------------------------------------------------------------------------------------------------\n",
      "Intercept                          0.3310      0.245      1.352      0.184      -0.163       0.825\n",
      "data_df.index                      0.0010      0.004      0.237      0.814      -0.007       0.009\n",
      "Prev_CORESTICKM159SFRBATL_Prev    -0.1644      0.087     -1.894      0.065      -0.340       0.011\n",
      "==============================================================================\n",
      "Omnibus:                       11.745   Durbin-Watson:                   1.521\n",
      "Prob(Omnibus):                  0.003   Jarque-Bera (JB):               18.980\n",
      "Skew:                          -0.679   Prob(JB):                     7.56e-05\n",
      "Kurtosis:                       5.917   Cond. No.                         134.\n",
      "==============================================================================\n",
      "\n",
      "Notes:\n",
      "[1] Standard Errors assume that the covariance matrix of the errors is correctly specified.\n"
     ]
    }
   ],
   "source": [
    "data_df['Prev_CORESTICKM159SFRBATL_Prev'] = data_df['CORESTICKM159SFRBATL_Prev'].shift(1)\n",
    "data_df['change_CORESTICKM159SFRBATL_Prev'] = data_df['CORESTICKM159SFRBATL_Prev'] - data_df['Prev_CORESTICKM159SFRBATL_Prev']\n",
    "\n",
    "\n",
    "mod1 = smf.ols(f'change_CORESTICKM159SFRBATL_Prev ~ data_df.index + Prev_CORESTICKM159SFRBATL_Prev', data = data_df).fit() \n",
    "print(mod1.summary())"
   ]
  },
  {
   "cell_type": "code",
   "execution_count": 50,
   "id": "e8f75ad3",
   "metadata": {},
   "outputs": [
    {
     "name": "stdout",
     "output_type": "stream",
     "text": [
      "                                              OLS Regression Results                                             \n",
      "=================================================================================================================\n",
      "Dep. Variable:     change_change_Prev_CORESTICKM159SFRBATL_Prev   R-squared (uncentered):                   0.403\n",
      "Model:                                                      OLS   Adj. R-squared (uncentered):              0.389\n",
      "Method:                                           Least Squares   F-statistic:                              28.40\n",
      "Date:                                          Sun, 06 Oct 2024   Prob (F-statistic):                    3.63e-06\n",
      "Time:                                                  15:56:37   Log-Likelihood:                         -13.791\n",
      "No. Observations:                                            43   AIC:                                      29.58\n",
      "Df Residuals:                                                42   BIC:                                      31.34\n",
      "Df Model:                                                     1                                                  \n",
      "Covariance Type:                                      nonrobust                                                  \n",
      "=========================================================================================================\n",
      "                                            coef    std err          t      P>|t|      [0.025      0.975]\n",
      "---------------------------------------------------------------------------------------------------------\n",
      "Prev_change_CORESTICKM159SFRBATL_Prev    -0.8060      0.151     -5.329      0.000      -1.111      -0.501\n",
      "==============================================================================\n",
      "Omnibus:                       11.197   Durbin-Watson:                   2.005\n",
      "Prob(Omnibus):                  0.004   Jarque-Bera (JB):               18.762\n",
      "Skew:                          -0.615   Prob(JB):                     8.43e-05\n",
      "Kurtosis:                       5.993   Cond. No.                         1.00\n",
      "==============================================================================\n",
      "\n",
      "Notes:\n",
      "[1] R² is computed without centering (uncentered) since the model does not contain a constant.\n",
      "[2] Standard Errors assume that the covariance matrix of the errors is correctly specified.\n"
     ]
    }
   ],
   "source": [
    "\n",
    "\n",
    "data_df['Prev_change_CORESTICKM159SFRBATL_Prev'] = data_df['change_CORESTICKM159SFRBATL_Prev'].shift(1)\n",
    "data_df['change_change_Prev_CORESTICKM159SFRBATL_Prev'] = data_df['change_CORESTICKM159SFRBATL_Prev'] - data_df['Prev_change_CORESTICKM159SFRBATL_Prev']\n",
    "\n",
    "\n",
    "mod1 = smf.ols(f'change_change_Prev_CORESTICKM159SFRBATL_Prev ~ 0 + Prev_change_CORESTICKM159SFRBATL_Prev', data = data_df).fit() \n",
    "print(mod1.summary())"
   ]
  },
  {
   "cell_type": "markdown",
   "id": "5290a3bf",
   "metadata": {},
   "source": [
    "CORESTICKM159SFRBATL stationary to first degree"
   ]
  },
  {
   "cell_type": "code",
   "execution_count": 108,
   "id": "ae640a43",
   "metadata": {},
   "outputs": [],
   "source": [
    "data_df['change_UNRATE_Prev_1'] = data_df['change_UNRATE_Prev'].shift(1)\n",
    "data_df['change_UNRATE_Prev_2'] = data_df['change_UNRATE_Prev'].shift(2)\n",
    "data_df['change_UNRATE_Prev_3'] = data_df['change_UNRATE_Prev'].shift(3)\n",
    "data_df['change_UNRATE_Prev_4'] = data_df['change_UNRATE_Prev'].shift(4)\n",
    "data_df['change_UNRATE_Prev_5'] = data_df['change_UNRATE_Prev'].shift(5)\n",
    "\n",
    "data_df['change_CORESTICKM159SFRBATL_Prev_1'] = data_df['change_CORESTICKM159SFRBATL_Prev'].shift(1)\n",
    "data_df['change_CORESTICKM159SFRBATL_Prev_2'] = data_df['change_CORESTICKM159SFRBATL_Prev'].shift(2)\n",
    "data_df['change_CORESTICKM159SFRBATL_Prev_3'] = data_df['change_CORESTICKM159SFRBATL_Prev'].shift(3)\n",
    "data_df['change_CORESTICKM159SFRBATL_Prev_4'] = data_df['change_CORESTICKM159SFRBATL_Prev'].shift(4)\n",
    "data_df['change_CORESTICKM159SFRBATL_Prev_5'] = data_df['change_CORESTICKM159SFRBATL_Prev'].shift(5)\n",
    "\n",
    "data_df['change_REAINTRATREARAT10Y_Prev_1'] = data_df['change_REAINTRATREARAT10Y_Prev'].shift(1)\n",
    "data_df['change_REAINTRATREARAT10Y_Prev_2'] = data_df['change_REAINTRATREARAT10Y_Prev'].shift(2)\n",
    "data_df['change_REAINTRATREARAT10Y_Prev_3'] = data_df['change_REAINTRATREARAT10Y_Prev'].shift(3)\n",
    "data_df['change_REAINTRATREARAT10Y_Prev_4'] = data_df['change_REAINTRATREARAT10Y_Prev'].shift(4)\n",
    "data_df['change_REAINTRATREARAT10Y_Prev_5'] = data_df['change_REAINTRATREARAT10Y_Prev'].shift(5)\n",
    "\n",
    "data_df['MEDCPIM158SFRBCLE_Prev_1'] = data_df['MEDCPIM158SFRBCLE_Prev'].shift(1)\n",
    "data_df['MEDCPIM158SFRBCLE_Prev_2'] = data_df['MEDCPIM158SFRBCLE_Prev'].shift(2)\n",
    "data_df['MEDCPIM158SFRBCLE_Prev_3'] = data_df['MEDCPIM158SFRBCLE_Prev'].shift(3)\n",
    "\n",
    "data_df['change_MYAGM2USM052S_Prev_1'] = data_df['change_MYAGM2USM052S_Prev'].shift(1)\n",
    "data_df['change_MYAGM2USM052S_Prev_2'] = data_df['change_MYAGM2USM052S_Prev'].shift(2)\n",
    "data_df['change_MYAGM2USM052S_Prev_3'] = data_df['change_MYAGM2USM052S_Prev'].shift(3)\n",
    "data_df['change_MYAGM2USM052S_Prev_4'] = data_df['change_MYAGM2USM052S_Prev'].shift(4)\n",
    "data_df['change_MYAGM2USM052S_Prev_5'] = data_df['change_MYAGM2USM052S_Prev'].shift(5)"
   ]
  },
  {
   "cell_type": "markdown",
   "id": "c07e0b31",
   "metadata": {},
   "source": [
    "# Total Sales Used"
   ]
  },
  {
   "cell_type": "code",
   "execution_count": 16,
   "id": "b66f12e9",
   "metadata": {},
   "outputs": [
    {
     "ename": "KeyError",
     "evalue": "'Total_Sales_Used'",
     "output_type": "error",
     "traceback": [
      "\u001b[0;31m---------------------------------------------------------------------------\u001b[0m",
      "\u001b[0;31mKeyError\u001b[0m                                  Traceback (most recent call last)",
      "File \u001b[0;32m~/opt/anaconda3/lib/python3.9/site-packages/pandas/core/indexes/base.py:3621\u001b[0m, in \u001b[0;36mIndex.get_loc\u001b[0;34m(self, key, method, tolerance)\u001b[0m\n\u001b[1;32m   3620\u001b[0m \u001b[38;5;28;01mtry\u001b[39;00m:\n\u001b[0;32m-> 3621\u001b[0m     \u001b[38;5;28;01mreturn\u001b[39;00m \u001b[38;5;28;43mself\u001b[39;49m\u001b[38;5;241;43m.\u001b[39;49m\u001b[43m_engine\u001b[49m\u001b[38;5;241;43m.\u001b[39;49m\u001b[43mget_loc\u001b[49m\u001b[43m(\u001b[49m\u001b[43mcasted_key\u001b[49m\u001b[43m)\u001b[49m\n\u001b[1;32m   3622\u001b[0m \u001b[38;5;28;01mexcept\u001b[39;00m \u001b[38;5;167;01mKeyError\u001b[39;00m \u001b[38;5;28;01mas\u001b[39;00m err:\n",
      "File \u001b[0;32m~/opt/anaconda3/lib/python3.9/site-packages/pandas/_libs/index.pyx:136\u001b[0m, in \u001b[0;36mpandas._libs.index.IndexEngine.get_loc\u001b[0;34m()\u001b[0m\n",
      "File \u001b[0;32m~/opt/anaconda3/lib/python3.9/site-packages/pandas/_libs/index.pyx:163\u001b[0m, in \u001b[0;36mpandas._libs.index.IndexEngine.get_loc\u001b[0;34m()\u001b[0m\n",
      "File \u001b[0;32mpandas/_libs/hashtable_class_helper.pxi:5198\u001b[0m, in \u001b[0;36mpandas._libs.hashtable.PyObjectHashTable.get_item\u001b[0;34m()\u001b[0m\n",
      "File \u001b[0;32mpandas/_libs/hashtable_class_helper.pxi:5206\u001b[0m, in \u001b[0;36mpandas._libs.hashtable.PyObjectHashTable.get_item\u001b[0;34m()\u001b[0m\n",
      "\u001b[0;31mKeyError\u001b[0m: 'Total_Sales_Used'",
      "\nThe above exception was the direct cause of the following exception:\n",
      "\u001b[0;31mKeyError\u001b[0m                                  Traceback (most recent call last)",
      "Input \u001b[0;32mIn [16]\u001b[0m, in \u001b[0;36m<cell line: 1>\u001b[0;34m()\u001b[0m\n\u001b[0;32m----> 1\u001b[0m \u001b[43mdata_df\u001b[49m\u001b[38;5;241;43m.\u001b[39;49m\u001b[43mplot\u001b[49m\u001b[43m(\u001b[49m\u001b[43my\u001b[49m\u001b[38;5;241;43m=\u001b[39;49m\u001b[38;5;124;43m'\u001b[39;49m\u001b[38;5;124;43mTotal_Sales_Used\u001b[39;49m\u001b[38;5;124;43m'\u001b[39;49m\u001b[43m)\u001b[49m\n",
      "File \u001b[0;32m~/opt/anaconda3/lib/python3.9/site-packages/pandas/plotting/_core.py:958\u001b[0m, in \u001b[0;36mPlotAccessor.__call__\u001b[0;34m(self, *args, **kwargs)\u001b[0m\n\u001b[1;32m    955\u001b[0m             \u001b[38;5;28;01mpass\u001b[39;00m\n\u001b[1;32m    957\u001b[0m \u001b[38;5;66;03m# don't overwrite\u001b[39;00m\n\u001b[0;32m--> 958\u001b[0m data \u001b[38;5;241m=\u001b[39m \u001b[43mdata\u001b[49m\u001b[43m[\u001b[49m\u001b[43my\u001b[49m\u001b[43m]\u001b[49m\u001b[38;5;241m.\u001b[39mcopy()\n\u001b[1;32m    960\u001b[0m \u001b[38;5;28;01mif\u001b[39;00m \u001b[38;5;28misinstance\u001b[39m(data, ABCSeries):\n\u001b[1;32m    961\u001b[0m     label_name \u001b[38;5;241m=\u001b[39m label_kw \u001b[38;5;129;01mor\u001b[39;00m y\n",
      "File \u001b[0;32m~/opt/anaconda3/lib/python3.9/site-packages/pandas/core/frame.py:3505\u001b[0m, in \u001b[0;36mDataFrame.__getitem__\u001b[0;34m(self, key)\u001b[0m\n\u001b[1;32m   3503\u001b[0m \u001b[38;5;28;01mif\u001b[39;00m \u001b[38;5;28mself\u001b[39m\u001b[38;5;241m.\u001b[39mcolumns\u001b[38;5;241m.\u001b[39mnlevels \u001b[38;5;241m>\u001b[39m \u001b[38;5;241m1\u001b[39m:\n\u001b[1;32m   3504\u001b[0m     \u001b[38;5;28;01mreturn\u001b[39;00m \u001b[38;5;28mself\u001b[39m\u001b[38;5;241m.\u001b[39m_getitem_multilevel(key)\n\u001b[0;32m-> 3505\u001b[0m indexer \u001b[38;5;241m=\u001b[39m \u001b[38;5;28;43mself\u001b[39;49m\u001b[38;5;241;43m.\u001b[39;49m\u001b[43mcolumns\u001b[49m\u001b[38;5;241;43m.\u001b[39;49m\u001b[43mget_loc\u001b[49m\u001b[43m(\u001b[49m\u001b[43mkey\u001b[49m\u001b[43m)\u001b[49m\n\u001b[1;32m   3506\u001b[0m \u001b[38;5;28;01mif\u001b[39;00m is_integer(indexer):\n\u001b[1;32m   3507\u001b[0m     indexer \u001b[38;5;241m=\u001b[39m [indexer]\n",
      "File \u001b[0;32m~/opt/anaconda3/lib/python3.9/site-packages/pandas/core/indexes/base.py:3623\u001b[0m, in \u001b[0;36mIndex.get_loc\u001b[0;34m(self, key, method, tolerance)\u001b[0m\n\u001b[1;32m   3621\u001b[0m     \u001b[38;5;28;01mreturn\u001b[39;00m \u001b[38;5;28mself\u001b[39m\u001b[38;5;241m.\u001b[39m_engine\u001b[38;5;241m.\u001b[39mget_loc(casted_key)\n\u001b[1;32m   3622\u001b[0m \u001b[38;5;28;01mexcept\u001b[39;00m \u001b[38;5;167;01mKeyError\u001b[39;00m \u001b[38;5;28;01mas\u001b[39;00m err:\n\u001b[0;32m-> 3623\u001b[0m     \u001b[38;5;28;01mraise\u001b[39;00m \u001b[38;5;167;01mKeyError\u001b[39;00m(key) \u001b[38;5;28;01mfrom\u001b[39;00m \u001b[38;5;21;01merr\u001b[39;00m\n\u001b[1;32m   3624\u001b[0m \u001b[38;5;28;01mexcept\u001b[39;00m \u001b[38;5;167;01mTypeError\u001b[39;00m:\n\u001b[1;32m   3625\u001b[0m     \u001b[38;5;66;03m# If we have a listlike key, _check_indexing_error will raise\u001b[39;00m\n\u001b[1;32m   3626\u001b[0m     \u001b[38;5;66;03m#  InvalidIndexError. Otherwise we fall through and re-raise\u001b[39;00m\n\u001b[1;32m   3627\u001b[0m     \u001b[38;5;66;03m#  the TypeError.\u001b[39;00m\n\u001b[1;32m   3628\u001b[0m     \u001b[38;5;28mself\u001b[39m\u001b[38;5;241m.\u001b[39m_check_indexing_error(key)\n",
      "\u001b[0;31mKeyError\u001b[0m: 'Total_Sales_Used'"
     ]
    }
   ],
   "source": [
    "data_df.plot(y='Total_Sales_Used')"
   ]
  },
  {
   "cell_type": "code",
   "execution_count": 29,
   "id": "a32eb320",
   "metadata": {},
   "outputs": [
    {
     "name": "stdout",
     "output_type": "stream",
     "text": [
      "                               OLS Regression Results                              \n",
      "===================================================================================\n",
      "Dep. Variable:     change_Total_Sales_Used   R-squared:                       0.194\n",
      "Model:                                 OLS   Adj. R-squared:                  0.154\n",
      "Method:                      Least Squares   F-statistic:                     4.926\n",
      "Date:                     Sun, 06 Oct 2024   Prob (F-statistic):             0.0121\n",
      "Time:                             15:27:43   Log-Likelihood:                -848.21\n",
      "No. Observations:                       44   AIC:                             1702.\n",
      "Df Residuals:                           41   BIC:                             1708.\n",
      "Df Model:                                2                                         \n",
      "Covariance Type:                 nonrobust                                         \n",
      "=========================================================================================\n",
      "                            coef    std err          t      P>|t|      [0.025      0.975]\n",
      "-----------------------------------------------------------------------------------------\n",
      "Intercept              1.299e+08   4.97e+07      2.613      0.012    2.95e+07     2.3e+08\n",
      "data_df.index          1.965e+06   8.31e+05      2.365      0.023    2.87e+05    3.64e+06\n",
      "Prev_Total_Sales_Used    -0.3738      0.124     -3.011      0.004      -0.624      -0.123\n",
      "==============================================================================\n",
      "Omnibus:                        1.137   Durbin-Watson:                   2.316\n",
      "Prob(Omnibus):                  0.566   Jarque-Bera (JB):                1.156\n",
      "Skew:                           0.297   Prob(JB):                        0.561\n",
      "Kurtosis:                       2.474   Cond. No.                     2.58e+09\n",
      "==============================================================================\n",
      "\n",
      "Notes:\n",
      "[1] Standard Errors assume that the covariance matrix of the errors is correctly specified.\n",
      "[2] The condition number is large, 2.58e+09. This might indicate that there are\n",
      "strong multicollinearity or other numerical problems.\n"
     ]
    }
   ],
   "source": [
    "data_df['Prev_Total_Sales_Used'] = data_df['Total_Sales_Used'].shift(1)\n",
    "data_df['change_Total_Sales_Used'] = data_df['Total_Sales_Used'] - data_df['Prev_Total_Sales_Used']\n",
    "\n",
    "\n",
    "mod1 = smf.ols(f'change_Total_Sales_Used ~ data_df.index + Prev_Total_Sales_Used', data = data_df).fit() \n",
    "print(mod1.summary())"
   ]
  },
  {
   "cell_type": "code",
   "execution_count": 31,
   "id": "bd45b559",
   "metadata": {},
   "outputs": [
    {
     "data": {
      "text/plain": [
       "<AxesSubplot:>"
      ]
     },
     "execution_count": 31,
     "metadata": {},
     "output_type": "execute_result"
    },
    {
     "data": {
      "image/png": "[encoded data removed]",
      "text/plain": [
       "<Figure size 640x480 with 1 Axes>"
      ]
     },
     "metadata": {},
     "output_type": "display_data"
    }
   ],
   "source": [
    "data_df.plot(y='change_Total_Sales_Used')"
   ]
  },
  {
   "cell_type": "code",
   "execution_count": 33,
   "id": "6aa8a90d",
   "metadata": {},
   "outputs": [
    {
     "name": "stdout",
     "output_type": "stream",
     "text": [
      "                                         OLS Regression Results                                         \n",
      "========================================================================================================\n",
      "Dep. Variable:     change_change_Prev_Total_Sales_Used   R-squared (uncentered):                   0.709\n",
      "Model:                                             OLS   Adj. R-squared (uncentered):              0.702\n",
      "Method:                                  Least Squares   F-statistic:                              102.4\n",
      "Date:                                 Sun, 06 Oct 2024   Prob (F-statistic):                    7.84e-13\n",
      "Time:                                         15:41:49   Log-Likelihood:                         -829.50\n",
      "No. Observations:                                   43   AIC:                                      1661.\n",
      "Df Residuals:                                       42   BIC:                                      1663.\n",
      "Df Model:                                            1                                                  \n",
      "Covariance Type:                             nonrobust                                                  \n",
      "================================================================================================\n",
      "                                   coef    std err          t      P>|t|      [0.025      0.975]\n",
      "------------------------------------------------------------------------------------------------\n",
      "Prev_change_Total_Sales_Used    -1.4019      0.139    -10.120      0.000      -1.681      -1.122\n",
      "==============================================================================\n",
      "Omnibus:                        4.290   Durbin-Watson:                   2.519\n",
      "Prob(Omnibus):                  0.117   Jarque-Bera (JB):                3.789\n",
      "Skew:                           0.726   Prob(JB):                        0.150\n",
      "Kurtosis:                       2.927   Cond. No.                         1.00\n",
      "==============================================================================\n",
      "\n",
      "Notes:\n",
      "[1] R² is computed without centering (uncentered) since the model does not contain a constant.\n",
      "[2] Standard Errors assume that the covariance matrix of the errors is correctly specified.\n"
     ]
    }
   ],
   "source": [
    "data_df['Prev_Total_Sales_Used'] = data_df['Total_Sales_Used'].shift(1)\n",
    "data_df['change_Total_Sales_Used'] = data_df['Total_Sales_Used'] - data_df['Prev_Total_Sales_Used']\n",
    "\n",
    "data_df['Prev_change_Total_Sales_Used'] = data_df['change_Total_Sales_Used'].shift(1)\n",
    "data_df['change_change_Prev_Total_Sales_Used'] = data_df['change_Total_Sales_Used'] - data_df['Prev_change_Total_Sales_Used']\n",
    "\n",
    "\n",
    "mod1 = smf.ols(f'change_change_Prev_Total_Sales_Used ~ 0 + Prev_change_Total_Sales_Used', data = data_df).fit() \n",
    "print(mod1.summary())"
   ]
  },
  {
   "cell_type": "markdown",
   "id": "255e8af3",
   "metadata": {},
   "source": [
    "Total Sales Used to first derivative is therefore stationary by Dickey-Fuller test since -10.120 < -3.41"
   ]
  },
  {
   "cell_type": "code",
   "execution_count": 176,
   "id": "aae1b9a6",
   "metadata": {},
   "outputs": [
    {
     "name": "stdout",
     "output_type": "stream",
     "text": [
      "                               OLS Regression Results                              \n",
      "===================================================================================\n",
      "Dep. Variable:     change_Total_Sales_Used   R-squared:                       0.800\n",
      "Model:                                 OLS   Adj. R-squared:                  0.589\n",
      "Method:                      Least Squares   F-statistic:                     7.715\n",
      "Date:                     Tue, 08 Oct 2024   Prob (F-statistic):           3.38e-05\n",
      "Time:                             14:25:13   Log-Likelihood:                -742.31\n",
      "No. Observations:                       40   AIC:                             1527.\n",
      "Df Residuals:                           19   BIC:                             1562.\n",
      "Df Model:                               20                                         \n",
      "Covariance Type:                       HAC                                         \n",
      "======================================================================================================\n",
      "                                         coef    std err          z      P>|z|      [0.025      0.975]\n",
      "------------------------------------------------------------------------------------------------------\n",
      "Intercept                          -3.902e+06   9.98e+06     -0.391      0.696   -2.35e+07    1.57e+07\n",
      "change_MYAGM2USM052S_Prev              0.0001   7.02e-05      2.129      0.033    1.18e-05       0.000\n",
      "change_CORESTICKM159SFRBATL_Prev   -5.994e+07   4.08e+07     -1.468      0.142    -1.4e+08    2.01e+07\n",
      "change_UNRATE_Prev                  -1.71e+07   7.63e+06     -2.241      0.025   -3.21e+07   -2.14e+06\n",
      "change_REAINTRATREARAT10Y_Prev      5.173e+07   3.46e+07      1.496      0.135    -1.6e+07     1.2e+08\n",
      "change_CORESTICKM159SFRBATL_Prev_1  1.256e+07   2.65e+07      0.474      0.636   -3.94e+07    6.46e+07\n",
      "change_CORESTICKM159SFRBATL_Prev_2  -5.46e+06   1.37e+07     -0.399      0.690   -3.23e+07    2.14e+07\n",
      "change_CORESTICKM159SFRBATL_Prev_3 -2.598e+07    3.5e+07     -0.742      0.458   -9.46e+07    4.26e+07\n",
      "change_CORESTICKM159SFRBATL_Prev_4  2.338e+07   2.45e+07      0.956      0.339   -2.46e+07    7.13e+07\n",
      "change_UNRATE_Prev_1               -1.449e+07    8.7e+06     -1.666      0.096   -3.15e+07    2.55e+06\n",
      "change_UNRATE_Prev_2                1.105e+07    8.5e+06      1.299      0.194   -5.62e+06    2.77e+07\n",
      "change_UNRATE_Prev_3               -1.174e+07   3.06e+07     -0.383      0.702   -7.18e+07    4.83e+07\n",
      "change_UNRATE_Prev_4                1.772e+07   1.97e+07      0.901      0.367   -2.08e+07    5.63e+07\n",
      "change_REAINTRATREARAT10Y_Prev_1    1.391e+07   2.31e+07      0.602      0.547   -3.13e+07    5.92e+07\n",
      "change_REAINTRATREARAT10Y_Prev_2    2.398e+07    1.6e+07      1.499      0.134   -7.37e+06    5.53e+07\n",
      "change_REAINTRATREARAT10Y_Prev_3     -4.4e+06   2.15e+07     -0.205      0.837   -4.64e+07    3.76e+07\n",
      "change_REAINTRATREARAT10Y_Prev_4   -3.286e+07      3e+07     -1.097      0.273   -9.16e+07    2.59e+07\n",
      "change_MYAGM2USM052S_Prev_1        -3.309e-05   6.91e-05     -0.479      0.632      -0.000       0.000\n",
      "change_MYAGM2USM052S_Prev_2         2.426e-05   2.57e-05      0.943      0.346   -2.62e-05    7.47e-05\n",
      "change_MYAGM2USM052S_Prev_3         4.153e-05   5.39e-05      0.771      0.441   -6.41e-05       0.000\n",
      "change_MYAGM2USM052S_Prev_4           -0.0001   5.79e-05     -2.075      0.038      -0.000   -6.63e-06\n",
      "==============================================================================\n",
      "Omnibus:                        2.768   Durbin-Watson:                   2.332\n",
      "Prob(Omnibus):                  0.251   Jarque-Bera (JB):                2.583\n",
      "Skew:                           0.577   Prob(JB):                        0.275\n",
      "Kurtosis:                       2.535   Cond. No.                     4.36e+12\n",
      "==============================================================================\n",
      "\n",
      "Notes:\n",
      "[1] Standard Errors are heteroscedasticity and autocorrelation robust (HAC) using 4 lags and without small sample correction\n",
      "[2] The condition number is large, 4.36e+12. This might indicate that there are\n",
      "strong multicollinearity or other numerical problems.\n"
     ]
    },
    {
     "name": "stderr",
     "output_type": "stream",
     "text": [
      "/Users/evanbruno/opt/anaconda3/lib/python3.9/site-packages/statsmodels/base/model.py:1896: ValueWarning: covariance of constraints does not have full rank. The number of constraints is 20, but rank is 15\n",
      "  warnings.warn('covariance of constraints does not have full '\n"
     ]
    }
   ],
   "source": [
    "formula = 'change_MYAGM2USM052S_Prev + change_CORESTICKM159SFRBATL_Prev + change_UNRATE_Prev + change_REAINTRATREARAT10Y_Prev'\n",
    "\n",
    "lags = 5\n",
    "\n",
    "variables = ['change_CORESTICKM159SFRBATL_Prev', 'change_UNRATE_Prev', 'change_REAINTRATREARAT10Y_Prev', 'change_MYAGM2USM052S_Prev']\n",
    "\n",
    "for var in variables:\n",
    "\n",
    "    for i in range(1, lags):\n",
    "\n",
    "        formula = formula + f' + {var}_{i}'\n",
    "\n",
    "\n",
    "\n",
    "\n",
    "mod1 = smf.ols(f'change_Total_Sales_Used ~ {formula}', data = data_df)\n",
    "results = mod1.fit(cov_type='HAC', cov_kwds={'maxlags': 4})  \n",
    "print(results.summary())"
   ]
  },
  {
   "cell_type": "code",
   "execution_count": 177,
   "id": "f26a7141",
   "metadata": {},
   "outputs": [
    {
     "name": "stdout",
     "output_type": "stream",
     "text": [
      "Autocorrelations for the first four lags:\n",
      "Lag 1: 1.0\n",
      "Lag 2: -0.17739276165447707\n",
      "Lag 3: 0.047373392259667566\n",
      "Lag 4: 0.18546968185085225\n",
      "Lag 5: -0.22186273130641299\n",
      "Lag 6: 0.21402696619628145\n"
     ]
    }
   ],
   "source": [
    "\n",
    "from statsmodels.tsa.stattools import acf\n",
    "\n",
    "\n",
    "# Get residuals\n",
    "residuals = results.resid\n",
    "\n",
    "\n",
    "# Calculate autocorrelations for the first four lags\n",
    "acf_res = acf(residuals, fft=False, nlags=5)\n",
    "\n",
    "# Print autocorrelations\n",
    "print(\"Autocorrelations for the first four lags:\")\n",
    "for lag, acf_value in enumerate(acf_res):\n",
    "    print(f\"Lag {lag + 1}: {acf_value}\")"
   ]
  },
  {
   "cell_type": "code",
   "execution_count": 169,
   "id": "a3071f30",
   "metadata": {},
   "outputs": [
    {
     "data": {
      "text/plain": [
       "0.2921795490599725"
      ]
     },
     "execution_count": 169,
     "metadata": {},
     "output_type": "execute_result"
    }
   ],
   "source": [
    "1.96 / math.sqrt(len(data_df))"
   ]
  },
  {
   "cell_type": "code",
   "execution_count": 138,
   "id": "709fcfc3",
   "metadata": {},
   "outputs": [],
   "source": [
    "bic_dict = {}\n",
    "\n",
    "\n",
    "for lag in range(2, 7):\n",
    "\n",
    "\n",
    "    formula = 'change_MYAGM2USM052S_Prev + change_CORESTICKM159SFRBATL_Prev + change_UNRATE_Prev + change_REAINTRATREARAT10Y_Prev'\n",
    "\n",
    "    lags = lag\n",
    "\n",
    "    variables = ['change_CORESTICKM159SFRBATL_Prev', 'change_UNRATE_Prev', 'change_REAINTRATREARAT10Y_Prev', 'change_MYAGM2USM052S_Prev']\n",
    "\n",
    "    for var in variables:\n",
    "\n",
    "        for i in range(1, lags):\n",
    "\n",
    "            formula = formula + f' + {var}_{i}'\n",
    "\n",
    "\n",
    "\n",
    "\n",
    "    mod1 = smf.ols(f'change_Total_Sales_Used ~ {formula}', data = data_df)\n",
    "    results = mod1.fit(cov_type='HAC', cov_kwds={'maxlags': 4})  \n",
    "\n",
    "    bic_dict[lag - 1] = results.bic"
   ]
  },
  {
   "cell_type": "code",
   "execution_count": 139,
   "id": "dad6c71d",
   "metadata": {},
   "outputs": [
    {
     "data": {
      "text/plain": [
       "{1: 1637.1805679460304,\n",
       " 2: 1613.6098287673055,\n",
       " 3: 1590.812745814281,\n",
       " 4: 1562.084627550116,\n",
       " 5: 1528.6118063090337}"
      ]
     },
     "execution_count": 139,
     "metadata": {},
     "output_type": "execute_result"
    }
   ],
   "source": [
    "bic_dict"
   ]
  },
  {
   "cell_type": "code",
   "execution_count": 142,
   "id": "310ed8cc",
   "metadata": {},
   "outputs": [
    {
     "name": "stdout",
     "output_type": "stream",
     "text": [
      "                            OLS Regression Results                            \n",
      "==============================================================================\n",
      "Dep. Variable:                  Resid   R-squared:                       0.497\n",
      "Model:                            OLS   Adj. R-squared:                 -0.365\n",
      "Method:                 Least Squares   F-statistic:                    0.5763\n",
      "Date:                Tue, 08 Oct 2024   Prob (F-statistic):              0.886\n",
      "Time:                        12:59:29   Log-Likelihood:                -1373.4\n",
      "No. Observations:                  39   AIC:                             2797.\n",
      "Df Residuals:                      14   BIC:                             2838.\n",
      "Df Model:                          24                                         \n",
      "Covariance Type:            nonrobust                                         \n",
      "======================================================================================================\n",
      "                                         coef    std err          t      P>|t|      [0.025      0.975]\n",
      "------------------------------------------------------------------------------------------------------\n",
      "Intercept                           5.254e+14   5.47e+14      0.961      0.353   -6.47e+14     1.7e+15\n",
      "change_MYAGM2USM052S_Prev             -1.3663   2225.881     -0.001      1.000   -4775.406    4772.673\n",
      "change_CORESTICKM159SFRBATL_Prev    1.132e+15   8.06e+14      1.405      0.182   -5.96e+14    2.86e+15\n",
      "change_UNRATE_Prev                  1.185e+14   3.39e+14      0.350      0.732   -6.08e+14    8.45e+14\n",
      "change_REAINTRATREARAT10Y_Prev      3.817e+14   1.07e+15      0.358      0.726   -1.91e+15    2.67e+15\n",
      "change_CORESTICKM159SFRBATL_Prev_1  4.153e+13   8.01e+14      0.052      0.959   -1.68e+15    1.76e+15\n",
      "change_CORESTICKM159SFRBATL_Prev_2  -3.41e+14   7.73e+14     -0.441      0.666      -2e+15    1.32e+15\n",
      "change_CORESTICKM159SFRBATL_Prev_3  7.122e+14   8.35e+14      0.853      0.408   -1.08e+15     2.5e+15\n",
      "change_CORESTICKM159SFRBATL_Prev_4 -3.857e+14   8.28e+14     -0.466      0.649   -2.16e+15    1.39e+15\n",
      "change_CORESTICKM159SFRBATL_Prev_5 -6.659e+14   7.64e+14     -0.872      0.398    -2.3e+15    9.72e+14\n",
      "change_UNRATE_Prev_1                1.412e+14   3.81e+14      0.371      0.716   -6.76e+14    9.58e+14\n",
      "change_UNRATE_Prev_2               -1.232e+13   3.46e+14     -0.036      0.972   -7.55e+14     7.3e+14\n",
      "change_UNRATE_Prev_3                5.038e+14   6.61e+14      0.762      0.459   -9.15e+14    1.92e+15\n",
      "change_UNRATE_Prev_4               -2.052e+14   6.71e+14     -0.306      0.764   -1.65e+15    1.23e+15\n",
      "change_UNRATE_Prev_5                -2.68e+14   6.16e+14     -0.435      0.670   -1.59e+15    1.05e+15\n",
      "change_REAINTRATREARAT10Y_Prev_1    1.558e+14   1.06e+15      0.147      0.886   -2.13e+15    2.44e+15\n",
      "change_REAINTRATREARAT10Y_Prev_2    5.094e+14   8.11e+14      0.628      0.540   -1.23e+15    2.25e+15\n",
      "change_REAINTRATREARAT10Y_Prev_3    1.136e+15   7.83e+14      1.451      0.169   -5.43e+14    2.81e+15\n",
      "change_REAINTRATREARAT10Y_Prev_4    6.323e+14   7.83e+14      0.807      0.433   -1.05e+15    2.31e+15\n",
      "change_REAINTRATREARAT10Y_Prev_5    9.715e+14   7.26e+14      1.338      0.202   -5.86e+14    2.53e+15\n",
      "change_MYAGM2USM052S_Prev_1          380.2165   2328.128      0.163      0.873   -4613.121    5373.554\n",
      "change_MYAGM2USM052S_Prev_2        -1291.3216   2299.484     -0.562      0.583   -6223.224    3640.580\n",
      "change_MYAGM2USM052S_Prev_3          686.0978   2054.473      0.334      0.743   -3720.309    5092.505\n",
      "change_MYAGM2USM052S_Prev_4         -486.0822   2053.598     -0.237      0.816   -4890.612    3918.447\n",
      "change_MYAGM2USM052S_Prev_5         1645.5511   2171.241      0.758      0.461   -3011.299    6302.401\n",
      "==============================================================================\n",
      "Omnibus:                        0.062   Durbin-Watson:                   2.681\n",
      "Prob(Omnibus):                  0.969   Jarque-Bera (JB):                0.269\n",
      "Skew:                           0.010   Prob(JB):                        0.874\n",
      "Kurtosis:                       2.593   Cond. No.                     5.40e+12\n",
      "==============================================================================\n",
      "\n",
      "Notes:\n",
      "[1] Standard Errors assume that the covariance matrix of the errors is correctly specified.\n",
      "[2] The condition number is large, 5.4e+12. This might indicate that there are\n",
      "strong multicollinearity or other numerical problems.\n"
     ]
    }
   ],
   "source": [
    "data_df['Resid'] = residuals ** 2\n",
    "\n",
    "mod1 = smf.ols(f'Resid ~ {formula}', data = data_df)\n",
    "results = mod1.fit()  \n",
    "print(results.summary())"
   ]
  },
  {
   "cell_type": "code",
   "execution_count": 143,
   "id": "4d0fb4b7",
   "metadata": {},
   "outputs": [
    {
     "data": {
      "text/plain": [
       "22.365"
      ]
     },
     "execution_count": 143,
     "metadata": {},
     "output_type": "execute_result"
    }
   ],
   "source": [
    "len(data_df) * 0.497"
   ]
  },
  {
   "cell_type": "markdown",
   "id": "92083bfd",
   "metadata": {},
   "source": [
    "at 24 degrees of freedom 5% crit value is 36.42 and since 22.365 is less than this value passes test of homoskedaticity"
   ]
  },
  {
   "cell_type": "markdown",
   "id": "860824c5",
   "metadata": {},
   "source": [
    "## Assumptions of Finite Distributed Lag Model\n",
    "\n",
    "1. Time series for both dependent and independent variables are stationary as testing previously\n",
    "2. finite distributed lag model is written as y = alpha + B0x ... \n",
    "3. error term is not auto correlated as the 5% crit value is 0.29 and the correlations do not exceed this threshold\n",
    "4. test for homoskedaticity remains valid"
   ]
  },
  {
   "cell_type": "markdown",
   "id": "e7b1efab",
   "metadata": {},
   "source": [
    "# Total Sales New"
   ]
  },
  {
   "cell_type": "code",
   "execution_count": 145,
   "id": "b68605d5",
   "metadata": {},
   "outputs": [
    {
     "data": {
      "text/plain": [
       "<AxesSubplot:>"
      ]
     },
     "execution_count": 145,
     "metadata": {},
     "output_type": "execute_result"
    },
    {
     "data": {
      "image/png": "[encoded data removed]",
      "text/plain": [
       "<Figure size 640x480 with 1 Axes>"
      ]
     },
     "metadata": {},
     "output_type": "display_data"
    }
   ],
   "source": [
    "data_df.plot(y='Total_Sales_New')"
   ]
  },
  {
   "cell_type": "code",
   "execution_count": 164,
   "id": "96ac4d95",
   "metadata": {},
   "outputs": [
    {
     "name": "stdout",
     "output_type": "stream",
     "text": [
      "                              OLS Regression Results                              \n",
      "==================================================================================\n",
      "Dep. Variable:     change_Total_Sales_New   R-squared:                       0.184\n",
      "Model:                                OLS   Adj. R-squared:                  0.144\n",
      "Method:                     Least Squares   F-statistic:                     4.613\n",
      "Date:                    Tue, 08 Oct 2024   Prob (F-statistic):             0.0156\n",
      "Time:                            14:23:22   Log-Likelihood:                -873.04\n",
      "No. Observations:                      44   AIC:                             1752.\n",
      "Df Residuals:                          41   BIC:                             1757.\n",
      "Df Model:                               2                                         \n",
      "Covariance Type:                nonrobust                                         \n",
      "========================================================================================\n",
      "                           coef    std err          t      P>|t|      [0.025      0.975]\n",
      "----------------------------------------------------------------------------------------\n",
      "Intercept             2.421e+08   9.36e+07      2.586      0.013     5.3e+07    4.31e+08\n",
      "data_df.index         1.147e+06   1.24e+06      0.928      0.359   -1.35e+06    3.64e+06\n",
      "Prev_Total_Sales_New    -0.3526      0.119     -2.955      0.005      -0.593      -0.112\n",
      "==============================================================================\n",
      "Omnibus:                        3.134   Durbin-Watson:                   2.294\n",
      "Prob(Omnibus):                  0.209   Jarque-Bera (JB):                2.195\n",
      "Skew:                           0.526   Prob(JB):                        0.334\n",
      "Kurtosis:                       3.299   Cond. No.                     4.59e+09\n",
      "==============================================================================\n",
      "\n",
      "Notes:\n",
      "[1] Standard Errors assume that the covariance matrix of the errors is correctly specified.\n",
      "[2] The condition number is large, 4.59e+09. This might indicate that there are\n",
      "strong multicollinearity or other numerical problems.\n"
     ]
    }
   ],
   "source": [
    "data_df['Prev_Total_Sales_New'] = data_df['Total_Sales_New'].shift(1)\n",
    "data_df['change_Total_Sales_New'] = data_df['Total_Sales_New'] - data_df['Prev_Total_Sales_New']\n",
    "\n",
    "\n",
    "mod1 = smf.ols(f'change_Total_Sales_New ~ data_df.index + Prev_Total_Sales_New', data = data_df).fit() \n",
    "print(mod1.summary())"
   ]
  },
  {
   "cell_type": "markdown",
   "id": "5987fb02",
   "metadata": {},
   "source": [
    "Nonstaionary"
   ]
  },
  {
   "cell_type": "code",
   "execution_count": null,
   "id": "c3b1e7dc",
   "metadata": {},
   "outputs": [],
   "source": []
  },
  {
   "cell_type": "code",
   "execution_count": 170,
   "id": "58664454",
   "metadata": {},
   "outputs": [
    {
     "name": "stdout",
     "output_type": "stream",
     "text": [
      "                                         OLS Regression Results                                        \n",
      "=======================================================================================================\n",
      "Dep. Variable:     change_change_Prev_Total_Sales_New   R-squared (uncentered):                   0.712\n",
      "Model:                                            OLS   Adj. R-squared (uncentered):              0.705\n",
      "Method:                                 Least Squares   F-statistic:                              103.9\n",
      "Date:                                Tue, 08 Oct 2024   Prob (F-statistic):                    6.31e-13\n",
      "Time:                                        14:24:03   Log-Likelihood:                         -852.88\n",
      "No. Observations:                                  43   AIC:                                      1708.\n",
      "Df Residuals:                                      42   BIC:                                      1710.\n",
      "Df Model:                                           1                                                  \n",
      "Covariance Type:                            nonrobust                                                  \n",
      "===============================================================================================\n",
      "                                  coef    std err          t      P>|t|      [0.025      0.975]\n",
      "-----------------------------------------------------------------------------------------------\n",
      "Prev_change_Total_Sales_New    -1.4002      0.137    -10.194      0.000      -1.677      -1.123\n",
      "==============================================================================\n",
      "Omnibus:                        5.009   Durbin-Watson:                   2.474\n",
      "Prob(Omnibus):                  0.082   Jarque-Bera (JB):                3.971\n",
      "Skew:                           0.725   Prob(JB):                        0.137\n",
      "Kurtosis:                       3.337   Cond. No.                         1.00\n",
      "==============================================================================\n",
      "\n",
      "Notes:\n",
      "[1] R² is computed without centering (uncentered) since the model does not contain a constant.\n",
      "[2] Standard Errors assume that the covariance matrix of the errors is correctly specified.\n"
     ]
    }
   ],
   "source": [
    "data_df['Prev_Total_Sales_New'] = data_df['Total_Sales_New'].shift(1)\n",
    "data_df['change_Total_Sales_New'] = data_df['Total_Sales_New'] - data_df['Prev_Total_Sales_New']\n",
    "\n",
    "data_df['Prev_change_Total_Sales_New'] = data_df['change_Total_Sales_New'].shift(1)\n",
    "data_df['change_change_Prev_Total_Sales_New'] = data_df['change_Total_Sales_New'] - data_df['Prev_change_Total_Sales_New']\n",
    "\n",
    "\n",
    "mod1 = smf.ols(f'change_change_Prev_Total_Sales_New ~ 0 + Prev_change_Total_Sales_New', data = data_df).fit() \n",
    "print(mod1.summary())"
   ]
  },
  {
   "cell_type": "markdown",
   "id": "bb52b2e7",
   "metadata": {},
   "source": [
    "Stationary I(1)"
   ]
  },
  {
   "cell_type": "code",
   "execution_count": 174,
   "id": "ecfcd1e2",
   "metadata": {},
   "outputs": [
    {
     "name": "stdout",
     "output_type": "stream",
     "text": [
      "                              OLS Regression Results                              \n",
      "==================================================================================\n",
      "Dep. Variable:     change_Total_Sales_New   R-squared:                       0.750\n",
      "Model:                                OLS   Adj. R-squared:                  0.487\n",
      "Method:                     Least Squares   F-statistic:                     11.57\n",
      "Date:                    Tue, 08 Oct 2024   Prob (F-statistic):           1.49e-06\n",
      "Time:                            14:25:02   Log-Likelihood:                -764.60\n",
      "No. Observations:                      40   AIC:                             1571.\n",
      "Df Residuals:                          19   BIC:                             1607.\n",
      "Df Model:                              20                                         \n",
      "Covariance Type:                      HAC                                         \n",
      "======================================================================================================\n",
      "                                         coef    std err          z      P>|z|      [0.025      0.975]\n",
      "------------------------------------------------------------------------------------------------------\n",
      "Intercept                          -2.383e+07   1.79e+07     -1.333      0.183   -5.89e+07    1.12e+07\n",
      "change_MYAGM2USM052S_Prev              0.0003      0.000      2.801      0.005    9.61e-05       0.001\n",
      "change_CORESTICKM159SFRBATL_Prev   -9.321e+07   4.49e+07     -2.074      0.038   -1.81e+08   -5.14e+06\n",
      "change_UNRATE_Prev                 -1.037e+07   1.25e+07     -0.831      0.406   -3.48e+07    1.41e+07\n",
      "change_REAINTRATREARAT10Y_Prev      1.367e+08   5.35e+07      2.555      0.011    3.19e+07    2.42e+08\n",
      "change_CORESTICKM159SFRBATL_Prev_1   8.83e+06   3.91e+07      0.226      0.821   -6.78e+07    8.54e+07\n",
      "change_CORESTICKM159SFRBATL_Prev_2 -4.571e+07   2.29e+07     -1.998      0.046   -9.05e+07    -8.8e+05\n",
      "change_CORESTICKM159SFRBATL_Prev_3  -7.81e+06   4.37e+07     -0.179      0.858   -9.34e+07    7.78e+07\n",
      "change_CORESTICKM159SFRBATL_Prev_4  4.585e+07   4.39e+07      1.044      0.296   -4.02e+07    1.32e+08\n",
      "change_UNRATE_Prev_1                -3.51e+07   1.73e+07     -2.034      0.042   -6.89e+07   -1.28e+06\n",
      "change_UNRATE_Prev_2               -1.777e+07   1.25e+07     -1.416      0.157   -4.24e+07    6.82e+06\n",
      "change_UNRATE_Prev_3                2.666e+07   3.94e+07      0.676      0.499   -5.06e+07    1.04e+08\n",
      "change_UNRATE_Prev_4                4.125e+07   3.95e+07      1.044      0.297   -3.62e+07    1.19e+08\n",
      "change_REAINTRATREARAT10Y_Prev_1    2.813e+07   4.89e+07      0.575      0.565   -6.78e+07    1.24e+08\n",
      "change_REAINTRATREARAT10Y_Prev_2    1.159e+07   2.79e+07      0.415      0.678   -4.31e+07    6.63e+07\n",
      "change_REAINTRATREARAT10Y_Prev_3    4.609e+07   3.16e+07      1.460      0.144   -1.58e+07    1.08e+08\n",
      "change_REAINTRATREARAT10Y_Prev_4   -8.346e+07   3.75e+07     -2.223      0.026   -1.57e+08   -9.88e+06\n",
      "change_MYAGM2USM052S_Prev_1         9.529e-05      0.000      0.742      0.458      -0.000       0.000\n",
      "change_MYAGM2USM052S_Prev_2            0.0001   3.87e-05      2.716      0.007    2.93e-05       0.000\n",
      "change_MYAGM2USM052S_Prev_3        -2.678e-05   7.33e-05     -0.365      0.715      -0.000       0.000\n",
      "change_MYAGM2USM052S_Prev_4           -0.0003      0.000     -3.072      0.002      -0.001      -0.000\n",
      "==============================================================================\n",
      "Omnibus:                        3.096   Durbin-Watson:                   2.268\n",
      "Prob(Omnibus):                  0.213   Jarque-Bera (JB):                2.036\n",
      "Skew:                          -0.518   Prob(JB):                        0.361\n",
      "Kurtosis:                       3.386   Cond. No.                     4.36e+12\n",
      "==============================================================================\n",
      "\n",
      "Notes:\n",
      "[1] Standard Errors are heteroscedasticity and autocorrelation robust (HAC) using 4 lags and without small sample correction\n",
      "[2] The condition number is large, 4.36e+12. This might indicate that there are\n",
      "strong multicollinearity or other numerical problems.\n"
     ]
    },
    {
     "name": "stderr",
     "output_type": "stream",
     "text": [
      "/Users/evanbruno/opt/anaconda3/lib/python3.9/site-packages/statsmodels/base/model.py:1896: ValueWarning: covariance of constraints does not have full rank. The number of constraints is 20, but rank is 15\n",
      "  warnings.warn('covariance of constraints does not have full '\n"
     ]
    }
   ],
   "source": [
    "formula = 'change_MYAGM2USM052S_Prev + change_CORESTICKM159SFRBATL_Prev + change_UNRATE_Prev + change_REAINTRATREARAT10Y_Prev'\n",
    "\n",
    "lags = 5\n",
    "\n",
    "variables = ['change_CORESTICKM159SFRBATL_Prev', 'change_UNRATE_Prev', 'change_REAINTRATREARAT10Y_Prev', 'change_MYAGM2USM052S_Prev']\n",
    "\n",
    "for var in variables:\n",
    "\n",
    "    for i in range(1, lags):\n",
    "\n",
    "        formula = formula + f' + {var}_{i}'\n",
    "\n",
    "\n",
    "\n",
    "\n",
    "mod1 = smf.ols(f'change_Total_Sales_New ~ {formula}', data = data_df)\n",
    "results = mod1.fit(cov_type='HAC', cov_kwds={'maxlags': 4})  \n",
    "print(results.summary())"
   ]
  },
  {
   "cell_type": "code",
   "execution_count": 175,
   "id": "7d593d46",
   "metadata": {},
   "outputs": [
    {
     "name": "stdout",
     "output_type": "stream",
     "text": [
      "Autocorrelations for the first four lags:\n",
      "Lag 1: 1.0\n",
      "Lag 2: -0.1413046968145453\n",
      "Lag 3: -0.07884733764132414\n",
      "Lag 4: 0.015430903873462376\n",
      "Lag 5: -0.16940920313859778\n",
      "Lag 6: 0.1011752931233515\n"
     ]
    }
   ],
   "source": [
    "\n",
    "from statsmodels.tsa.stattools import acf\n",
    "\n",
    "\n",
    "# Get residuals\n",
    "residuals = results.resid\n",
    "\n",
    "\n",
    "# Calculate autocorrelations for the first four lags\n",
    "acf_res = acf(residuals, fft=False, nlags=5)\n",
    "\n",
    "# Print autocorrelations\n",
    "print(\"Autocorrelations for the first four lags:\")\n",
    "for lag, acf_value in enumerate(acf_res):\n",
    "    print(f\"Lag {lag + 1}: {acf_value}\")"
   ]
  },
  {
   "cell_type": "code",
   "execution_count": 178,
   "id": "0a38b002",
   "metadata": {},
   "outputs": [
    {
     "data": {
      "text/plain": [
       "0.2921795490599725"
      ]
     },
     "execution_count": 178,
     "metadata": {},
     "output_type": "execute_result"
    }
   ],
   "source": [
    "1.96 / math.sqrt(len(data_df))"
   ]
  },
  {
   "cell_type": "code",
   "execution_count": 1,
   "id": "ea5b9115",
   "metadata": {},
   "outputs": [
    {
     "ename": "NameError",
     "evalue": "name 'residuals' is not defined",
     "output_type": "error",
     "traceback": [
      "\u001b[0;31m---------------------------------------------------------------------------\u001b[0m",
      "\u001b[0;31mNameError\u001b[0m                                 Traceback (most recent call last)",
      "Input \u001b[0;32mIn [1]\u001b[0m, in \u001b[0;36m<cell line: 1>\u001b[0;34m()\u001b[0m\n\u001b[0;32m----> 1\u001b[0m data_df[\u001b[38;5;124m'\u001b[39m\u001b[38;5;124mResid\u001b[39m\u001b[38;5;124m'\u001b[39m] \u001b[38;5;241m=\u001b[39m \u001b[43mresiduals\u001b[49m \u001b[38;5;241m*\u001b[39m\u001b[38;5;241m*\u001b[39m \u001b[38;5;241m2\u001b[39m\n\u001b[1;32m      3\u001b[0m mod1 \u001b[38;5;241m=\u001b[39m smf\u001b[38;5;241m.\u001b[39mols(\u001b[38;5;124mf\u001b[39m\u001b[38;5;124m'\u001b[39m\u001b[38;5;124mResid ~ \u001b[39m\u001b[38;5;132;01m{\u001b[39;00mformula\u001b[38;5;132;01m}\u001b[39;00m\u001b[38;5;124m'\u001b[39m, data \u001b[38;5;241m=\u001b[39m data_df)\n\u001b[1;32m      4\u001b[0m results \u001b[38;5;241m=\u001b[39m mod1\u001b[38;5;241m.\u001b[39mfit()  \n",
      "\u001b[0;31mNameError\u001b[0m: name 'residuals' is not defined"
     ]
    }
   ],
   "source": [
    "data_df['Resid'] = residuals ** 2\n",
    "\n",
    "mod1 = smf.ols(f'Resid ~ {formula}', data = data_df)\n",
    "results = mod1.fit()  \n",
    "print(results.summary())"
   ]
  },
  {
   "cell_type": "code",
   "execution_count": 126,
   "id": "c48d80cc",
   "metadata": {},
   "outputs": [
    {
     "data": {
      "text/plain": [
       "6.705"
      ]
     },
     "execution_count": 126,
     "metadata": {},
     "output_type": "execute_result"
    }
   ],
   "source": [
    "# chi squared test 5% signifcance level with 4 degrees of freedom is 9.488 so fail to reject null hypothesis of homoskedaticity\n",
    "\n",
    "0.149 * 45"
   ]
  },
  {
   "cell_type": "code",
   "execution_count": 127,
   "id": "7454733e",
   "metadata": {},
   "outputs": [
    {
     "name": "stdout",
     "output_type": "stream",
     "text": [
      "                    features       VIF\n",
      "0         MYAGM2USM052S_Prev  3.968209\n",
      "1                UNRATE_Prev  3.944187\n",
      "2    REAINTRATREARAT10Y_Prev  5.341506\n",
      "3  CORESTICKM159SFRBATL_Prev  2.694422\n"
     ]
    }
   ],
   "source": [
    "from statsmodels.stats.outliers_influence import variance_inflation_factor\n",
    "# Create a DataFrame for the VIF results\n",
    "vif_data = pd.DataFrame()\n",
    "vif_data['features'] = res2.params.index[1:]  # Exclude the intercept\n",
    "vif_data['VIF'] = [variance_inflation_factor(res2.model.exog, i) for i in range(1, len(res2.params))]\n",
    "\n",
    "# Step 3: Print VIF results\n",
    "print(vif_data)"
   ]
  },
  {
   "cell_type": "markdown",
   "id": "db59baf7",
   "metadata": {},
   "source": [
    "Jarque-Bera (JB) test is not statistically signifcant indicating that the errors have a normal distribution and there is some collinearity among the variables but not signifcant. "
   ]
  },
  {
   "cell_type": "markdown",
   "id": "7b9c31b2",
   "metadata": {},
   "source": [
    "# Avg Used"
   ]
  },
  {
   "cell_type": "code",
   "execution_count": 156,
   "id": "d3282c95",
   "metadata": {},
   "outputs": [
    {
     "name": "stdout",
     "output_type": "stream",
     "text": [
      "                            OLS Regression Results                            \n",
      "==============================================================================\n",
      "Dep. Variable:               Avg_Used   R-squared:                       0.877\n",
      "Model:                            OLS   Adj. R-squared:                  0.864\n",
      "Method:                 Least Squares   F-statistic:                     71.07\n",
      "Date:                Sat, 05 Oct 2024   Prob (F-statistic):           1.23e-17\n",
      "Time:                        16:05:41   Log-Likelihood:                -331.46\n",
      "No. Observations:                  45   AIC:                             672.9\n",
      "Df Residuals:                      40   BIC:                             682.0\n",
      "Df Model:                           4                                         \n",
      "Covariance Type:            nonrobust                                         \n",
      "=============================================================================================\n",
      "                                coef    std err          t      P>|t|      [0.025      0.975]\n",
      "---------------------------------------------------------------------------------------------\n",
      "Intercept                  9296.3942   1180.004      7.878      0.000    6911.517    1.17e+04\n",
      "CORESTICKM159SFRBATL_Prev  -301.6451    164.828     -1.830      0.075    -634.775      31.484\n",
      "REAINTRATREARAT10Y_Prev    -377.7297    195.394     -1.933      0.060    -772.637      17.177\n",
      "MYAGM2USM052S_Prev         3.318e-10   5.28e-11      6.279      0.000    2.25e-10    4.39e-10\n",
      "UNRATE_Prev                -343.5991     69.135     -4.970      0.000    -483.326    -203.872\n",
      "==============================================================================\n",
      "Omnibus:                        0.404   Durbin-Watson:                   1.590\n",
      "Prob(Omnibus):                  0.817   Jarque-Bera (JB):                0.083\n",
      "Skew:                           0.097   Prob(JB):                        0.959\n",
      "Kurtosis:                       3.079   Cond. No.                     1.79e+14\n",
      "==============================================================================\n",
      "\n",
      "Notes:\n",
      "[1] Standard Errors assume that the covariance matrix of the errors is correctly specified.\n",
      "[2] The condition number is large, 1.79e+14. This might indicate that there are\n",
      "strong multicollinearity or other numerical problems.\n"
     ]
    }
   ],
   "source": [
    "import statsmodels.formula.api as smf \n",
    "\n",
    "# Estimating using R style formulas. Note the function is called \"ols\"\n",
    "formula2='Avg_Used ~ CORESTICKM159SFRBATL_Prev + REAINTRATREARAT10Y_Prev + MYAGM2USM052S_Prev + UNRATE_Prev'\n",
    "res2=smf.ols(formula=formula2, data=data_df).fit()\n",
    "print(res2.summary())"
   ]
  },
  {
   "cell_type": "code",
   "execution_count": 129,
   "id": "9b0b4f4b",
   "metadata": {},
   "outputs": [
    {
     "name": "stdout",
     "output_type": "stream",
     "text": [
      "                            OLS Regression Results                            \n",
      "==============================================================================\n",
      "Dep. Variable:               resid_sq   R-squared:                       0.200\n",
      "Model:                            OLS   Adj. R-squared:                  0.121\n",
      "Method:                 Least Squares   F-statistic:                     2.507\n",
      "Date:                Sat, 05 Oct 2024   Prob (F-statistic):             0.0571\n",
      "Time:                        15:44:40   Log-Likelihood:                -610.51\n",
      "No. Observations:                  45   AIC:                             1231.\n",
      "Df Residuals:                      40   BIC:                             1240.\n",
      "Df Model:                           4                                         \n",
      "Covariance Type:            nonrobust                                         \n",
      "=============================================================================================\n",
      "                                coef    std err          t      P>|t|      [0.025      0.975]\n",
      "---------------------------------------------------------------------------------------------\n",
      "Intercept                 -7.424e+05   5.82e+05     -1.276      0.209   -1.92e+06    4.34e+05\n",
      "MYAGM2USM052S_Prev         -7.48e-09   2.61e-08     -0.287      0.776   -6.02e-08    4.52e-08\n",
      "UNRATE_Prev                6.823e+04   3.41e+04      2.001      0.052    -695.666    1.37e+05\n",
      "REAINTRATREARAT10Y_Prev    -1.51e+04   9.64e+04     -0.157      0.876    -2.1e+05     1.8e+05\n",
      "CORESTICKM159SFRBATL_Prev  2.384e+05   8.13e+04      2.932      0.006    7.41e+04    4.03e+05\n",
      "==============================================================================\n",
      "Omnibus:                       30.970   Durbin-Watson:                   1.916\n",
      "Prob(Omnibus):                  0.000   Jarque-Bera (JB):               71.981\n",
      "Skew:                           1.863   Prob(JB):                     2.34e-16\n",
      "Kurtosis:                       7.951   Cond. No.                     1.79e+14\n",
      "==============================================================================\n",
      "\n",
      "Notes:\n",
      "[1] Standard Errors assume that the covariance matrix of the errors is correctly specified.\n",
      "[2] The condition number is large, 1.79e+14. This might indicate that there are\n",
      "strong multicollinearity or other numerical problems.\n"
     ]
    }
   ],
   "source": [
    "# testing for heteroskedaticity\n",
    "\n",
    "data_df['resid_sq'] = res2.resid**2\n",
    "\n",
    "# Estimating using R style formulas. Note the function is called \"ols\"\n",
    "formula2='resid_sq ~ MYAGM2USM052S_Prev + UNRATE_Prev + REAINTRATREARAT10Y_Prev + CORESTICKM159SFRBATL_Prev'\n",
    "res2=smf.ols(formula=formula2, data=data_df).fit()\n",
    "print(res2.summary())"
   ]
  },
  {
   "cell_type": "code",
   "execution_count": 130,
   "id": "399b5ff2",
   "metadata": {},
   "outputs": [
    {
     "data": {
      "text/plain": [
       "9.0"
      ]
     },
     "execution_count": 130,
     "metadata": {},
     "output_type": "execute_result"
    }
   ],
   "source": [
    "# chi squared test 5% signifcance level with 4 degrees of freedom is 9.488 so fail to reject null hypothesis of homoskedaticity\n",
    "\n",
    "0.200 * 45"
   ]
  },
  {
   "cell_type": "markdown",
   "id": "e21ffec8",
   "metadata": {},
   "source": [
    "Jarque-Bera (JB) test is not statistically signifcant indicating that the errors have a normal distribution and there is some collinearity among the variables but not signifcant. "
   ]
  },
  {
   "cell_type": "markdown",
   "id": "13012f97",
   "metadata": {},
   "source": [
    "# Avg_New"
   ]
  },
  {
   "cell_type": "code",
   "execution_count": 131,
   "id": "14a22da2",
   "metadata": {},
   "outputs": [
    {
     "name": "stdout",
     "output_type": "stream",
     "text": [
      "                            OLS Regression Results                            \n",
      "==============================================================================\n",
      "Dep. Variable:                Avg_New   R-squared:                       0.947\n",
      "Model:                            OLS   Adj. R-squared:                  0.942\n",
      "Method:                 Least Squares   F-statistic:                     179.4\n",
      "Date:                Sat, 05 Oct 2024   Prob (F-statistic):           5.65e-25\n",
      "Time:                        15:46:24   Log-Likelihood:                -355.64\n",
      "No. Observations:                  45   AIC:                             721.3\n",
      "Df Residuals:                      40   BIC:                             730.3\n",
      "Df Model:                           4                                         \n",
      "Covariance Type:            nonrobust                                         \n",
      "=============================================================================================\n",
      "                                coef    std err          t      P>|t|      [0.025      0.975]\n",
      "---------------------------------------------------------------------------------------------\n",
      "Intercept                  2.162e+04   2019.332     10.706      0.000    1.75e+04    2.57e+04\n",
      "CORESTICKM159SFRBATL_Prev  -717.4288    282.069     -2.543      0.015   -1287.511    -147.347\n",
      "REAINTRATREARAT10Y_Prev    -117.4546    334.377     -0.351      0.727    -793.256     558.347\n",
      "MYAGM2USM052S_Prev         1.148e-09   9.04e-11     12.697      0.000    9.65e-10    1.33e-09\n",
      "UNRATE_Prev                -150.8216    118.310     -1.275      0.210    -389.935      88.292\n",
      "==============================================================================\n",
      "Omnibus:                        3.401   Durbin-Watson:                   1.557\n",
      "Prob(Omnibus):                  0.183   Jarque-Bera (JB):                3.128\n",
      "Skew:                           0.634   Prob(JB):                        0.209\n",
      "Kurtosis:                       2.751   Cond. No.                     1.79e+14\n",
      "==============================================================================\n",
      "\n",
      "Notes:\n",
      "[1] Standard Errors assume that the covariance matrix of the errors is correctly specified.\n",
      "[2] The condition number is large, 1.79e+14. This might indicate that there are\n",
      "strong multicollinearity or other numerical problems.\n"
     ]
    }
   ],
   "source": [
    "import statsmodels.formula.api as smf \n",
    "\n",
    "# Estimating using R style formulas. Note the function is called \"ols\"\n",
    "formula2='Avg_New ~ CORESTICKM159SFRBATL_Prev + REAINTRATREARAT10Y_Prev + MYAGM2USM052S_Prev + UNRATE_Prev'\n",
    "res2=smf.ols(formula=formula2, data=data_df).fit()\n",
    "print(res2.summary())"
   ]
  },
  {
   "cell_type": "code",
   "execution_count": 132,
   "id": "dbdeac5e",
   "metadata": {},
   "outputs": [
    {
     "name": "stdout",
     "output_type": "stream",
     "text": [
      "                            OLS Regression Results                            \n",
      "==============================================================================\n",
      "Dep. Variable:               resid_sq   R-squared:                       0.015\n",
      "Model:                            OLS   Adj. R-squared:                 -0.084\n",
      "Method:                 Least Squares   F-statistic:                    0.1498\n",
      "Date:                Sat, 05 Oct 2024   Prob (F-statistic):              0.962\n",
      "Time:                        15:46:30   Log-Likelihood:                -659.77\n",
      "No. Observations:                  45   AIC:                             1330.\n",
      "Df Residuals:                      40   BIC:                             1339.\n",
      "Df Model:                           4                                         \n",
      "Covariance Type:            nonrobust                                         \n",
      "=============================================================================================\n",
      "                                coef    std err          t      P>|t|      [0.025      0.975]\n",
      "---------------------------------------------------------------------------------------------\n",
      "Intercept                  1.248e+06   1.74e+06      0.718      0.477   -2.27e+06    4.76e+06\n",
      "MYAGM2USM052S_Prev        -4.805e-08   7.79e-08     -0.617      0.541   -2.05e-07    1.09e-07\n",
      "UNRATE_Prev               -3.123e+04   1.02e+05     -0.306      0.761   -2.37e+05    1.75e+05\n",
      "REAINTRATREARAT10Y_Prev   -2.168e+05   2.88e+05     -0.753      0.456   -7.99e+05    3.65e+05\n",
      "CORESTICKM159SFRBATL_Prev  1.352e+04   2.43e+05      0.056      0.956   -4.78e+05    5.05e+05\n",
      "==============================================================================\n",
      "Omnibus:                       25.277   Durbin-Watson:                   1.430\n",
      "Prob(Omnibus):                  0.000   Jarque-Bera (JB):               39.823\n",
      "Skew:                           1.775   Prob(JB):                     2.25e-09\n",
      "Kurtosis:                       5.938   Cond. No.                     1.79e+14\n",
      "==============================================================================\n",
      "\n",
      "Notes:\n",
      "[1] Standard Errors assume that the covariance matrix of the errors is correctly specified.\n",
      "[2] The condition number is large, 1.79e+14. This might indicate that there are\n",
      "strong multicollinearity or other numerical problems.\n"
     ]
    }
   ],
   "source": [
    "# testing for heteroskedaticity\n",
    "\n",
    "data_df['resid_sq'] = res2.resid**2\n",
    "\n",
    "# Estimating using R style formulas. Note the function is called \"ols\"\n",
    "formula2='resid_sq ~ MYAGM2USM052S_Prev + UNRATE_Prev + REAINTRATREARAT10Y_Prev + CORESTICKM159SFRBATL_Prev'\n",
    "res2=smf.ols(formula=formula2, data=data_df).fit()\n",
    "print(res2.summary())"
   ]
  },
  {
   "cell_type": "code",
   "execution_count": 133,
   "id": "26b0903b",
   "metadata": {},
   "outputs": [
    {
     "data": {
      "text/plain": [
       "0.6749999999999999"
      ]
     },
     "execution_count": 133,
     "metadata": {},
     "output_type": "execute_result"
    }
   ],
   "source": [
    "# chi squared test 5% signifcance level with 4 degrees of freedom is 9.488 so fail to reject null hypothesis of homoskedaticity\n",
    "\n",
    "0.015 * 45"
   ]
  },
  {
   "cell_type": "markdown",
   "id": "da5f0a14",
   "metadata": {},
   "source": [
    "Jarque-Bera (JB) test is not statistically signifcant indicating that the errors have a normal distribution and there is some collinearity among the variables but not signifcant. "
   ]
  },
  {
   "cell_type": "markdown",
   "id": "d9f0976c",
   "metadata": {},
   "source": [
    "# Ratio_Used_New"
   ]
  },
  {
   "cell_type": "code",
   "execution_count": 134,
   "id": "98525d61",
   "metadata": {},
   "outputs": [
    {
     "name": "stdout",
     "output_type": "stream",
     "text": [
      "                            OLS Regression Results                            \n",
      "==============================================================================\n",
      "Dep. Variable:         Ratio_Used_New   R-squared:                       0.677\n",
      "Model:                            OLS   Adj. R-squared:                  0.645\n",
      "Method:                 Least Squares   F-statistic:                     20.95\n",
      "Date:                Sat, 05 Oct 2024   Prob (F-statistic):           2.23e-09\n",
      "Time:                        15:48:21   Log-Likelihood:                 25.401\n",
      "No. Observations:                  45   AIC:                            -40.80\n",
      "Df Residuals:                      40   BIC:                            -31.77\n",
      "Df Model:                           4                                         \n",
      "Covariance Type:            nonrobust                                         \n",
      "=============================================================================================\n",
      "                                coef    std err          t      P>|t|      [0.025      0.975]\n",
      "---------------------------------------------------------------------------------------------\n",
      "Intercept                    -0.7744      0.424     -1.824      0.076      -1.632       0.083\n",
      "CORESTICKM159SFRBATL_Prev     0.1465      0.059      2.470      0.018       0.027       0.266\n",
      "REAINTRATREARAT10Y_Prev       0.2893      0.070      4.116      0.000       0.147       0.431\n",
      "MYAGM2USM052S_Prev         1.238e-13    1.9e-14      6.513      0.000    8.54e-14    1.62e-13\n",
      "UNRATE_Prev                   0.1605      0.025      6.455      0.000       0.110       0.211\n",
      "==============================================================================\n",
      "Omnibus:                        1.700   Durbin-Watson:                   1.278\n",
      "Prob(Omnibus):                  0.427   Jarque-Bera (JB):                1.623\n",
      "Skew:                           0.378   Prob(JB):                        0.444\n",
      "Kurtosis:                       2.457   Cond. No.                     1.79e+14\n",
      "==============================================================================\n",
      "\n",
      "Notes:\n",
      "[1] Standard Errors assume that the covariance matrix of the errors is correctly specified.\n",
      "[2] The condition number is large, 1.79e+14. This might indicate that there are\n",
      "strong multicollinearity or other numerical problems.\n"
     ]
    }
   ],
   "source": [
    "import statsmodels.formula.api as smf \n",
    "\n",
    "# Estimating using R style formulas. Note the function is called \"ols\"\n",
    "formula2='Ratio_Used_New ~ CORESTICKM159SFRBATL_Prev + REAINTRATREARAT10Y_Prev + MYAGM2USM052S_Prev + UNRATE_Prev'\n",
    "res2=smf.ols(formula=formula2, data=data_df).fit()\n",
    "print(res2.summary())"
   ]
  },
  {
   "cell_type": "code",
   "execution_count": 135,
   "id": "8195dc85",
   "metadata": {},
   "outputs": [
    {
     "name": "stdout",
     "output_type": "stream",
     "text": [
      "                            OLS Regression Results                            \n",
      "==============================================================================\n",
      "Dep. Variable:               resid_sq   R-squared:                       0.077\n",
      "Model:                            OLS   Adj. R-squared:                 -0.016\n",
      "Method:                 Least Squares   F-statistic:                    0.8304\n",
      "Date:                Sat, 05 Oct 2024   Prob (F-statistic):              0.514\n",
      "Time:                        15:48:31   Log-Likelihood:                 107.95\n",
      "No. Observations:                  45   AIC:                            -205.9\n",
      "Df Residuals:                      40   BIC:                            -196.9\n",
      "Df Model:                           4                                         \n",
      "Covariance Type:            nonrobust                                         \n",
      "=============================================================================================\n",
      "                                coef    std err          t      P>|t|      [0.025      0.975]\n",
      "---------------------------------------------------------------------------------------------\n",
      "Intercept                    -0.0551      0.068     -0.813      0.421      -0.192       0.082\n",
      "MYAGM2USM052S_Prev         3.268e-15   3.04e-15      1.076      0.288   -2.87e-15     9.4e-15\n",
      "UNRATE_Prev                   0.0051      0.004      1.276      0.209      -0.003       0.013\n",
      "REAINTRATREARAT10Y_Prev       0.0105      0.011      0.937      0.355      -0.012       0.033\n",
      "CORESTICKM159SFRBATL_Prev     0.0008      0.009      0.082      0.935      -0.018       0.020\n",
      "==============================================================================\n",
      "Omnibus:                       14.191   Durbin-Watson:                   1.817\n",
      "Prob(Omnibus):                  0.001   Jarque-Bera (JB):               15.199\n",
      "Skew:                           1.246   Prob(JB):                     0.000501\n",
      "Kurtosis:                       4.376   Cond. No.                     1.79e+14\n",
      "==============================================================================\n",
      "\n",
      "Notes:\n",
      "[1] Standard Errors assume that the covariance matrix of the errors is correctly specified.\n",
      "[2] The condition number is large, 1.79e+14. This might indicate that there are\n",
      "strong multicollinearity or other numerical problems.\n"
     ]
    }
   ],
   "source": [
    "# testing for heteroskedaticity\n",
    "\n",
    "data_df['resid_sq'] = res2.resid**2\n",
    "\n",
    "# Estimating using R style formulas. Note the function is called \"ols\"\n",
    "formula2='resid_sq ~ MYAGM2USM052S_Prev + UNRATE_Prev + REAINTRATREARAT10Y_Prev + CORESTICKM159SFRBATL_Prev'\n",
    "res2=smf.ols(formula=formula2, data=data_df).fit()\n",
    "print(res2.summary())"
   ]
  },
  {
   "cell_type": "code",
   "execution_count": 136,
   "id": "6b023f22",
   "metadata": {},
   "outputs": [
    {
     "data": {
      "text/plain": [
       "3.465"
      ]
     },
     "execution_count": 136,
     "metadata": {},
     "output_type": "execute_result"
    }
   ],
   "source": [
    "# chi squared test 5% signifcance level with 4 degrees of freedom is 9.488 so fail to reject null hypothesis of homoskedaticity\n",
    "0.077 * 45"
   ]
  },
  {
   "cell_type": "markdown",
   "id": "8c6d9adf",
   "metadata": {},
   "source": [
    "Jarque-Bera (JB) test is statistically signifcant indicating that the errors do not have a normal distribution therefore violating this linear regression assumption"
   ]
  },
  {
   "cell_type": "code",
   "execution_count": null,
   "id": "6988a607",
   "metadata": {},
   "outputs": [],
   "source": []
  }
 ],
 "metadata": {
  "kernelspec": {
   "display_name": "PythonData",
   "language": "python",
   "name": "pythondata"
  },
  "language_info": {
   "codemirror_mode": {
    "name": "ipython",
    "version": 3
   },
   "file_extension": ".py",
   "mimetype": "text/x-python",
   "name": "python",
   "nbconvert_exporter": "python",
   "pygments_lexer": "ipython3",
   "version": "3.9.7"
  }
 },
 "nbformat": 4,
 "nbformat_minor": 5
}
